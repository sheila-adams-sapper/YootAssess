{
 "cells": [
  {
   "cell_type": "code",
   "execution_count": 1,
   "metadata": {
    "collapsed": true
   },
   "outputs": [],
   "source": [
    "import pandas as pd\n",
    "import numpy as np\n",
    "import matplotlib.pyplot as plt\n",
    "%matplotlib inline\n",
    "from __future__ import division"
   ]
  },
  {
   "cell_type": "markdown",
   "metadata": {},
   "source": [
    "A more complete description of the data, including the source, can be found in the git README.md file.\n",
    "\n",
    "Labs and vitals categories were previously discretized from their raw values using knn into 5 clusters; no code book was available for interpretation,so removed from model.\n",
    "\n",
    "AbxUTI was removed as it is correlated to all cases doctor diagnosed as UTI.\n",
    "\n",
    "Dummy variables were created for all string categorical features.\n",
    "\n",
    "All features with > 20% not_recorded values were dropped.\n",
    "\n",
    "drop PATID, ID (in the future, retain PATID to be able to compare predictions from test set back to doctor assessment).\n",
    "\n",
    "drop ua_bacteria as it is correlated with diagnosis and not useful for clinical prediction\n",
    "\n",
    "recode from Yes/No to 1/0: in this order so true_dx is the last column for y_pred\n",
    "\n",
    "prior_history outpat_meds abxUTI to abxUTI (yes/no) UTI_diag to dr_dx UCX_abnormal to true_dx\n",
    "\n",
    "outcome variable and comparison outcome variable (doctor diagnosis)\n",
    "\n",
    "data[\"dr_dx\"] = pd.Series(np.where(data[\"UTI_diag\"].values == \"Yes\", 1,0),data.index) data[\"true_dx\"] = pd.Series(np.where(data[\"UCX_abnormal\"].values == \"yes\", 1,0),data.index)\n",
    "\n",
    "recoded everything to numeric: for pH, had to replace NaN values with imputed mean (ran test to be sure mean didn't differ between outcome types)\n",
    "\n",
    "Balanced data set to achieve 50% true_dx 0 and 1.  This reduced the data set from 80,000 observations to 40,000.\n",
    "\n",
    "Saved the cleaned data for the model: mod2.to_csv(\"uti_recoded_model2.tsv\", sep='\\t')\n",
    "\n",
    "I looked at the correlations here: mod2_corr = mod2.corr() resamp_corr = resamp.corr() then made a list of those with corr > 70%\n",
    "\n",
    "indices = np.where(mod2_corr > 0.7) indices = [(mod2_corr.index[x], mod2_corr.columns[y]) for x, y in zip(*indices) if x != y and x < y]\n",
    "\n",
    "resamp_indices = np.where(resamp_corr > 0.7) resamp_indices = [(resamp_corr.index[x], resamp_corr.columns[y]) for x, y in zip(*resamp_indices) if x != y and x < y] resamp_indices\n",
    "\n",
    "A separate notebook was created to explore and annotate building a model based on extracting only female observations from the data set.  This data set was not balanced. (A separate notebook was run for a female-only, balanced data set, but the observations were only 14K each outcome).  Women get UTI much more frequently than men, so it is of interest to know whether the predictors or feature importance changes if we consider only women.  According to that set of operations, the features are very similar but the strength of some of the predictors is different.  This can be compared in the slide deck at:\n",
    "bit.ly/Sheila_Adams-Sapper_demo\n",
    "\n",
    "Next steps:  Try to weight the classes rather than dropping observations to balance the data set."
   ]
  },
  {
   "cell_type": "code",
   "execution_count": 2,
   "metadata": {
    "collapsed": true
   },
   "outputs": [],
   "source": [
    "mod2 = pd.read_csv('uti_recoded_model2.tsv', sep = '\\t')\n",
    "mod2 = mod2.iloc[:,1:]"
   ]
  },
  {
   "cell_type": "markdown",
   "metadata": {},
   "source": [
    "After the first pass of cleaning/pre-processing the data I noticed a problem with specific gravity values that occurred below and above physiolog. normal:"
   ]
  },
  {
   "cell_type": "code",
   "execution_count": 65,
   "metadata": {},
   "outputs": [
    {
     "data": {
      "text/plain": [
       "1.020    3571\n",
       "1.018    3564\n",
       "1.015    3541\n",
       "1.019    3512\n",
       "1.016    3484\n",
       "1.017    3465\n",
       "1.014    3374\n",
       "1.013    3296\n",
       "1.021    3233\n",
       "1.012    3109\n",
       "1.022    3030\n",
       "1.011    3019\n",
       "1.023    2967\n",
       "1.024    2944\n",
       "1.010    2921\n",
       "1.025    2853\n",
       "1.026    2459\n",
       "1.009    2452\n",
       "1.008    2233\n",
       "1.027    2157\n",
       "1.030    2156\n",
       "1.028    2045\n",
       "1.007    1885\n",
       "1.029    1676\n",
       "1.006    1535\n",
       "1.005    1466\n",
       "1.031    1378\n",
       "1.034     883\n",
       "1.033     815\n",
       "1.004     730\n",
       "         ... \n",
       "1.088       4\n",
       "1.069       4\n",
       "1.075       3\n",
       "1.108       3\n",
       "1.083       2\n",
       "1.094       2\n",
       "1.081       2\n",
       "1.099       2\n",
       "1.079       2\n",
       "1.102       2\n",
       "1.091       2\n",
       "1.063       2\n",
       "1.073       2\n",
       "1.135       1\n",
       "1.106       1\n",
       "1.305       1\n",
       "1.089       1\n",
       "0.018       1\n",
       "1.148       1\n",
       "5.500       1\n",
       "1.120       1\n",
       "1.105       1\n",
       "1.128       1\n",
       "1.104       1\n",
       "0.200       1\n",
       "1.071       1\n",
       "1.093       1\n",
       "1.085       1\n",
       "1.097       1\n",
       "1.096       1\n",
       "Name: ua_spec_grav, Length: 109, dtype: int64"
      ]
     },
     "execution_count": 65,
     "metadata": {},
     "output_type": "execute_result"
    }
   ],
   "source": [
    "mod2['ua_spec_grav'].value_counts()"
   ]
  },
  {
   "cell_type": "markdown",
   "metadata": {},
   "source": [
    "find the rows where specific gravity is below physiol. norms between 1 - 1.030, allow for abnormal test results due to dehydration and kidney dysfunction:"
   ]
  },
  {
   "cell_type": "code",
   "execution_count": 81,
   "metadata": {
    "collapsed": true
   },
   "outputs": [],
   "source": [
    "sg_low = mod2[mod2['ua_spec_grav']< 1]\n",
    "sg_high = mod2[mod2['ua_spec_grav']> 1.5]"
   ]
  },
  {
   "cell_type": "code",
   "execution_count": 70,
   "metadata": {},
   "outputs": [
    {
     "data": {
      "text/html": [
       "<div>\n",
       "<style>\n",
       "    .dataframe thead tr:only-child th {\n",
       "        text-align: right;\n",
       "    }\n",
       "\n",
       "    .dataframe thead th {\n",
       "        text-align: left;\n",
       "    }\n",
       "\n",
       "    .dataframe tbody tr th {\n",
       "        vertical-align: top;\n",
       "    }\n",
       "</style>\n",
       "<table border=\"1\" class=\"dataframe\">\n",
       "  <thead>\n",
       "    <tr style=\"text-align: right;\">\n",
       "      <th></th>\n",
       "      <th>ua_ph</th>\n",
       "      <th>ua_spec_grav</th>\n",
       "      <th>age</th>\n",
       "      <th>abx</th>\n",
       "      <th>Abdominal_hernia</th>\n",
       "      <th>Abdominal_pain</th>\n",
       "      <th>Acute_and_unspecified_renal_failure</th>\n",
       "      <th>Anal_and_rectal_conditions</th>\n",
       "      <th>Calculus_of_urinary_tract</th>\n",
       "      <th>Cancer</th>\n",
       "      <th>...</th>\n",
       "      <th>arrival_Other</th>\n",
       "      <th>arrival_Police</th>\n",
       "      <th>arrival_Public Transportation</th>\n",
       "      <th>arrival_Sky Health</th>\n",
       "      <th>arrival_Taxi</th>\n",
       "      <th>arrival_Walk-in</th>\n",
       "      <th>arrival_Wheelchair</th>\n",
       "      <th>arrival_not_reported</th>\n",
       "      <th>dr_dx</th>\n",
       "      <th>true_dx</th>\n",
       "    </tr>\n",
       "  </thead>\n",
       "  <tbody>\n",
       "    <tr>\n",
       "      <th>40254</th>\n",
       "      <td>6.0</td>\n",
       "      <td>5.5</td>\n",
       "      <td>53</td>\n",
       "      <td>1</td>\n",
       "      <td>0</td>\n",
       "      <td>0</td>\n",
       "      <td>0</td>\n",
       "      <td>0</td>\n",
       "      <td>0</td>\n",
       "      <td>0</td>\n",
       "      <td>...</td>\n",
       "      <td>0</td>\n",
       "      <td>0</td>\n",
       "      <td>0</td>\n",
       "      <td>0</td>\n",
       "      <td>0</td>\n",
       "      <td>0</td>\n",
       "      <td>0</td>\n",
       "      <td>0</td>\n",
       "      <td>0</td>\n",
       "      <td>0</td>\n",
       "    </tr>\n",
       "  </tbody>\n",
       "</table>\n",
       "<p>1 rows × 245 columns</p>\n",
       "</div>"
      ],
      "text/plain": [
       "       ua_ph  ua_spec_grav  age  abx  Abdominal_hernia  Abdominal_pain  \\\n",
       "40254    6.0           5.5   53    1                 0               0   \n",
       "\n",
       "       Acute_and_unspecified_renal_failure  Anal_and_rectal_conditions  \\\n",
       "40254                                    0                           0   \n",
       "\n",
       "       Calculus_of_urinary_tract  Cancer   ...     arrival_Other  \\\n",
       "40254                          0       0   ...                 0   \n",
       "\n",
       "       arrival_Police  arrival_Public Transportation  arrival_Sky Health  \\\n",
       "40254               0                              0                   0   \n",
       "\n",
       "       arrival_Taxi  arrival_Walk-in  arrival_Wheelchair  \\\n",
       "40254             0                0                   0   \n",
       "\n",
       "       arrival_not_reported  dr_dx  true_dx  \n",
       "40254                     0      0        0  \n",
       "\n",
       "[1 rows x 245 columns]"
      ]
     },
     "execution_count": 70,
     "metadata": {},
     "output_type": "execute_result"
    }
   ],
   "source": [
    "sg_high"
   ]
  },
  {
   "cell_type": "code",
   "execution_count": 77,
   "metadata": {},
   "outputs": [
    {
     "data": {
      "text/html": [
       "<div>\n",
       "<style>\n",
       "    .dataframe thead tr:only-child th {\n",
       "        text-align: right;\n",
       "    }\n",
       "\n",
       "    .dataframe thead th {\n",
       "        text-align: left;\n",
       "    }\n",
       "\n",
       "    .dataframe tbody tr th {\n",
       "        vertical-align: top;\n",
       "    }\n",
       "</style>\n",
       "<table border=\"1\" class=\"dataframe\">\n",
       "  <thead>\n",
       "    <tr style=\"text-align: right;\">\n",
       "      <th></th>\n",
       "      <th>ua_ph</th>\n",
       "      <th>ua_spec_grav</th>\n",
       "      <th>age</th>\n",
       "      <th>abx</th>\n",
       "      <th>Abdominal_hernia</th>\n",
       "      <th>Abdominal_pain</th>\n",
       "      <th>Acute_and_unspecified_renal_failure</th>\n",
       "      <th>Anal_and_rectal_conditions</th>\n",
       "      <th>Calculus_of_urinary_tract</th>\n",
       "      <th>Cancer</th>\n",
       "      <th>...</th>\n",
       "      <th>arrival_Other</th>\n",
       "      <th>arrival_Police</th>\n",
       "      <th>arrival_Public Transportation</th>\n",
       "      <th>arrival_Sky Health</th>\n",
       "      <th>arrival_Taxi</th>\n",
       "      <th>arrival_Walk-in</th>\n",
       "      <th>arrival_Wheelchair</th>\n",
       "      <th>arrival_not_reported</th>\n",
       "      <th>dr_dx</th>\n",
       "      <th>true_dx</th>\n",
       "    </tr>\n",
       "  </thead>\n",
       "  <tbody>\n",
       "    <tr>\n",
       "      <th>40724</th>\n",
       "      <td>6.5</td>\n",
       "      <td>0.200</td>\n",
       "      <td>40</td>\n",
       "      <td>0</td>\n",
       "      <td>0</td>\n",
       "      <td>0</td>\n",
       "      <td>0</td>\n",
       "      <td>0</td>\n",
       "      <td>1</td>\n",
       "      <td>0</td>\n",
       "      <td>...</td>\n",
       "      <td>0</td>\n",
       "      <td>0</td>\n",
       "      <td>0</td>\n",
       "      <td>0</td>\n",
       "      <td>0</td>\n",
       "      <td>0</td>\n",
       "      <td>0</td>\n",
       "      <td>0</td>\n",
       "      <td>0</td>\n",
       "      <td>0</td>\n",
       "    </tr>\n",
       "    <tr>\n",
       "      <th>50161</th>\n",
       "      <td>6.0</td>\n",
       "      <td>0.018</td>\n",
       "      <td>75</td>\n",
       "      <td>1</td>\n",
       "      <td>0</td>\n",
       "      <td>0</td>\n",
       "      <td>0</td>\n",
       "      <td>0</td>\n",
       "      <td>0</td>\n",
       "      <td>0</td>\n",
       "      <td>...</td>\n",
       "      <td>0</td>\n",
       "      <td>0</td>\n",
       "      <td>0</td>\n",
       "      <td>0</td>\n",
       "      <td>0</td>\n",
       "      <td>0</td>\n",
       "      <td>0</td>\n",
       "      <td>0</td>\n",
       "      <td>0</td>\n",
       "      <td>0</td>\n",
       "    </tr>\n",
       "  </tbody>\n",
       "</table>\n",
       "<p>2 rows × 245 columns</p>\n",
       "</div>"
      ],
      "text/plain": [
       "       ua_ph  ua_spec_grav  age  abx  Abdominal_hernia  Abdominal_pain  \\\n",
       "40724    6.5         0.200   40    0                 0               0   \n",
       "50161    6.0         0.018   75    1                 0               0   \n",
       "\n",
       "       Acute_and_unspecified_renal_failure  Anal_and_rectal_conditions  \\\n",
       "40724                                    0                           0   \n",
       "50161                                    0                           0   \n",
       "\n",
       "       Calculus_of_urinary_tract  Cancer   ...     arrival_Other  \\\n",
       "40724                          1       0   ...                 0   \n",
       "50161                          0       0   ...                 0   \n",
       "\n",
       "       arrival_Police  arrival_Public Transportation  arrival_Sky Health  \\\n",
       "40724               0                              0                   0   \n",
       "50161               0                              0                   0   \n",
       "\n",
       "       arrival_Taxi  arrival_Walk-in  arrival_Wheelchair  \\\n",
       "40724             0                0                   0   \n",
       "50161             0                0                   0   \n",
       "\n",
       "       arrival_not_reported  dr_dx  true_dx  \n",
       "40724                     0      0        0  \n",
       "50161                     0      0        0  \n",
       "\n",
       "[2 rows x 245 columns]"
      ]
     },
     "execution_count": 77,
     "metadata": {},
     "output_type": "execute_result"
    }
   ],
   "source": [
    "sg_low"
   ]
  },
  {
   "cell_type": "markdown",
   "metadata": {},
   "source": [
    "re-code as boolean to be able to drop the extreme data observations from the data set"
   ]
  },
  {
   "cell_type": "code",
   "execution_count": null,
   "metadata": {
    "collapsed": true
   },
   "outputs": [],
   "source": [
    "sg_low = mod2['ua_spec_grav']< 1\n",
    "sg_high = mod2['ua_spec_grav']> 1.5"
   ]
  },
  {
   "cell_type": "markdown",
   "metadata": {},
   "source": [
    "drop rows where specific gravity is below/above physiol. norms between 1 - 1.030"
   ]
  },
  {
   "cell_type": "code",
   "execution_count": 84,
   "metadata": {},
   "outputs": [
    {
     "name": "stderr",
     "output_type": "stream",
     "text": [
      "C:\\ProgramData\\Anaconda2\\lib\\site-packages\\ipykernel_launcher.py:3: UserWarning: Boolean Series key will be reindexed to match DataFrame index.\n",
      "  This is separate from the ipykernel package so we can avoid doing imports until\n"
     ]
    }
   ],
   "source": [
    "mod2.drop(mod2[sg_low].index, axis=0,inplace=True)\n",
    "mod2.drop(mod2[sg_high].index, axis=0,inplace=True)"
   ]
  },
  {
   "cell_type": "code",
   "execution_count": 85,
   "metadata": {},
   "outputs": [
    {
     "data": {
      "text/plain": [
       "(80384, 245)"
      ]
     },
     "execution_count": 85,
     "metadata": {},
     "output_type": "execute_result"
    }
   ],
   "source": [
    "mod2.shape"
   ]
  },
  {
   "cell_type": "markdown",
   "metadata": {},
   "source": [
    "Balance the data by subsampling from the more frequent no UTI (0) outcome category"
   ]
  },
  {
   "cell_type": "code",
   "execution_count": 86,
   "metadata": {},
   "outputs": [
    {
     "data": {
      "text/plain": [
       "(36914, 245)"
      ]
     },
     "execution_count": 86,
     "metadata": {},
     "output_type": "execute_result"
    }
   ],
   "source": [
    "resamp = mod2.drop(mod2[mod2['true_dx'] == 0].sample(frac=0.70).index)\n",
    "resamp.shape"
   ]
  },
  {
   "cell_type": "markdown",
   "metadata": {},
   "source": [
    "Scale the continuous variables"
   ]
  },
  {
   "cell_type": "code",
   "execution_count": 87,
   "metadata": {
    "collapsed": true
   },
   "outputs": [],
   "source": [
    "age =(resamp[\"age\"]- resamp[\"age\"].min())/(resamp[\"age\"].max() - resamp[\"age\"].min())\n",
    "resamp[\"age\"] = age\n",
    "\n",
    "ph =(resamp[\"ua_ph\"]- resamp[\"ua_ph\"].min())/(resamp[\"ua_ph\"].max() - resamp[\"ua_ph\"].min())\n",
    "resamp[\"ua_ph\"] = ph\n",
    "\n",
    "spec_grav =(resamp[\"ua_spec_grav\"]- resamp[\"ua_spec_grav\"].min())/(resamp[\"ua_spec_grav\"].max() - resamp[\"ua_spec_grav\"].min())\n",
    "resamp[\"ua_spec_grav\"] = spec_grav"
   ]
  },
  {
   "cell_type": "code",
   "execution_count": 88,
   "metadata": {},
   "outputs": [
    {
     "data": {
      "image/png": "[encoded data removed]",
      "text/plain": [
       "<matplotlib.figure.Figure at 0x10b326d8>"
      ]
     },
     "metadata": {},
     "output_type": "display_data"
    }
   ],
   "source": [
    "fig, axes = plt.subplots(ncols=2, figsize=(12, 4))\n",
    "axes[0].hist('ua_ph', data=resamp,label='pH', bins=10, alpha=0.6)\n",
    "axes[0].set_title('pH distrib.', fontsize=8)\n",
    "axes[1].hist('ua_spec_grav', data=resamp,label='specific gravity', bins=10, alpha=0.6)\n",
    "axes[1].set_title('specific gravity distrib.', fontsize=8)\n",
    "plt.show()"
   ]
  },
  {
   "cell_type": "code",
   "execution_count": 89,
   "metadata": {},
   "outputs": [
    {
     "data": {
      "image/png": "[encoded data removed]",
      "text/plain": [
       "<matplotlib.figure.Figure at 0x16a002b0>"
      ]
     },
     "metadata": {},
     "output_type": "display_data"
    }
   ],
   "source": [
    "pH_byDx = resamp.groupby(\"true_dx\")[\"ua_ph\"]\n",
    "sg_byDx = resamp.groupby(\"true_dx\")[\"ua_spec_grav\"]\n",
    "# fig, axes = plt.subplots(2,1,1, figsize=(12, 4))\n",
    "plt.subplot(1, 2, 1)\n",
    "pH_byDx.plot(kind='hist', figsize=[10,4], alpha=.4, legend=True, title = \"pH distrib. by UTI diagnosis (bal. data set)\")\n",
    "plt.subplot(1, 2, 2)\n",
    "sg_byDx.plot(kind='hist', figsize=[10,4], alpha=.4, legend=True, title = \"Specific gravity distrib. by UTI diagnosis (bal. data set)\")\n",
    "plt.show()"
   ]
  },
  {
   "cell_type": "markdown",
   "metadata": {},
   "source": [
    "Look at the doctors' assessment performance and look at the differences in means by outcome"
   ]
  },
  {
   "cell_type": "code",
   "execution_count": 5,
   "metadata": {},
   "outputs": [
    {
     "data": {
      "text/html": [
       "<div>\n",
       "<style>\n",
       "    .dataframe thead tr:only-child th {\n",
       "        text-align: right;\n",
       "    }\n",
       "\n",
       "    .dataframe thead th {\n",
       "        text-align: left;\n",
       "    }\n",
       "\n",
       "    .dataframe tbody tr th {\n",
       "        vertical-align: top;\n",
       "    }\n",
       "</style>\n",
       "<table border=\"1\" class=\"dataframe\">\n",
       "  <thead>\n",
       "    <tr style=\"text-align: right;\">\n",
       "      <th>dr_dx</th>\n",
       "      <th>0</th>\n",
       "      <th>1</th>\n",
       "    </tr>\n",
       "    <tr>\n",
       "      <th>true_dx</th>\n",
       "      <th></th>\n",
       "      <th></th>\n",
       "    </tr>\n",
       "  </thead>\n",
       "  <tbody>\n",
       "    <tr>\n",
       "      <th>0</th>\n",
       "      <td>15742</td>\n",
       "      <td>2889</td>\n",
       "    </tr>\n",
       "    <tr>\n",
       "      <th>1</th>\n",
       "      <td>10716</td>\n",
       "      <td>7568</td>\n",
       "    </tr>\n",
       "  </tbody>\n",
       "</table>\n",
       "</div>"
      ],
      "text/plain": [
       "dr_dx        0     1\n",
       "true_dx             \n",
       "0        15742  2889\n",
       "1        10716  7568"
      ]
     },
     "execution_count": 5,
     "metadata": {},
     "output_type": "execute_result"
    }
   ],
   "source": [
    "drdx_v_true = pd.crosstab(resamp[\"true_dx\"], resamp[\"dr_dx\"])\n",
    "drdx_v_true"
   ]
  },
  {
   "cell_type": "code",
   "execution_count": 90,
   "metadata": {},
   "outputs": [
    {
     "data": {
      "text/html": [
       "<div>\n",
       "<style>\n",
       "    .dataframe thead tr:only-child th {\n",
       "        text-align: right;\n",
       "    }\n",
       "\n",
       "    .dataframe thead th {\n",
       "        text-align: left;\n",
       "    }\n",
       "\n",
       "    .dataframe tbody tr th {\n",
       "        vertical-align: top;\n",
       "    }\n",
       "</style>\n",
       "<table border=\"1\" class=\"dataframe\">\n",
       "  <thead>\n",
       "    <tr style=\"text-align: right;\">\n",
       "      <th></th>\n",
       "      <th>ua_ph</th>\n",
       "      <th>ua_spec_grav</th>\n",
       "      <th>age</th>\n",
       "      <th>abx</th>\n",
       "      <th>Abdominal_hernia</th>\n",
       "      <th>Abdominal_pain</th>\n",
       "      <th>Acute_and_unspecified_renal_failure</th>\n",
       "      <th>Anal_and_rectal_conditions</th>\n",
       "      <th>Calculus_of_urinary_tract</th>\n",
       "      <th>Cancer</th>\n",
       "      <th>...</th>\n",
       "      <th>arrival_Medical Flight</th>\n",
       "      <th>arrival_Other</th>\n",
       "      <th>arrival_Police</th>\n",
       "      <th>arrival_Public Transportation</th>\n",
       "      <th>arrival_Sky Health</th>\n",
       "      <th>arrival_Taxi</th>\n",
       "      <th>arrival_Walk-in</th>\n",
       "      <th>arrival_Wheelchair</th>\n",
       "      <th>arrival_not_reported</th>\n",
       "      <th>dr_dx</th>\n",
       "    </tr>\n",
       "    <tr>\n",
       "      <th>true_dx</th>\n",
       "      <th></th>\n",
       "      <th></th>\n",
       "      <th></th>\n",
       "      <th></th>\n",
       "      <th></th>\n",
       "      <th></th>\n",
       "      <th></th>\n",
       "      <th></th>\n",
       "      <th></th>\n",
       "      <th></th>\n",
       "      <th></th>\n",
       "      <th></th>\n",
       "      <th></th>\n",
       "      <th></th>\n",
       "      <th></th>\n",
       "      <th></th>\n",
       "      <th></th>\n",
       "      <th></th>\n",
       "      <th></th>\n",
       "      <th></th>\n",
       "      <th></th>\n",
       "    </tr>\n",
       "  </thead>\n",
       "  <tbody>\n",
       "    <tr>\n",
       "      <th>0</th>\n",
       "      <td>0.701258</td>\n",
       "      <td>0.151326</td>\n",
       "      <td>0.381376</td>\n",
       "      <td>0.493076</td>\n",
       "      <td>0.031830</td>\n",
       "      <td>0.014010</td>\n",
       "      <td>0.009984</td>\n",
       "      <td>0.004187</td>\n",
       "      <td>0.061084</td>\n",
       "      <td>0.083306</td>\n",
       "      <td>...</td>\n",
       "      <td>0.0</td>\n",
       "      <td>0.010789</td>\n",
       "      <td>0.000054</td>\n",
       "      <td>0.003757</td>\n",
       "      <td>0.0</td>\n",
       "      <td>0.001664</td>\n",
       "      <td>0.146055</td>\n",
       "      <td>0.003435</td>\n",
       "      <td>0.015083</td>\n",
       "      <td>0.155233</td>\n",
       "    </tr>\n",
       "    <tr>\n",
       "      <th>1</th>\n",
       "      <td>0.697963</td>\n",
       "      <td>0.142829</td>\n",
       "      <td>0.435192</td>\n",
       "      <td>0.782816</td>\n",
       "      <td>0.029534</td>\n",
       "      <td>0.013126</td>\n",
       "      <td>0.015423</td>\n",
       "      <td>0.004594</td>\n",
       "      <td>0.070882</td>\n",
       "      <td>0.108237</td>\n",
       "      <td>...</td>\n",
       "      <td>0.0</td>\n",
       "      <td>0.008259</td>\n",
       "      <td>0.000055</td>\n",
       "      <td>0.002735</td>\n",
       "      <td>0.0</td>\n",
       "      <td>0.003500</td>\n",
       "      <td>0.100689</td>\n",
       "      <td>0.003993</td>\n",
       "      <td>0.011540</td>\n",
       "      <td>0.413914</td>\n",
       "    </tr>\n",
       "  </tbody>\n",
       "</table>\n",
       "<p>2 rows × 244 columns</p>\n",
       "</div>"
      ],
      "text/plain": [
       "            ua_ph  ua_spec_grav       age       abx  Abdominal_hernia  \\\n",
       "true_dx                                                                 \n",
       "0        0.701258      0.151326  0.381376  0.493076          0.031830   \n",
       "1        0.697963      0.142829  0.435192  0.782816          0.029534   \n",
       "\n",
       "         Abdominal_pain  Acute_and_unspecified_renal_failure  \\\n",
       "true_dx                                                        \n",
       "0              0.014010                             0.009984   \n",
       "1              0.013126                             0.015423   \n",
       "\n",
       "         Anal_and_rectal_conditions  Calculus_of_urinary_tract    Cancer  \\\n",
       "true_dx                                                                    \n",
       "0                          0.004187                   0.061084  0.083306   \n",
       "1                          0.004594                   0.070882  0.108237   \n",
       "\n",
       "           ...     arrival_Medical Flight  arrival_Other  arrival_Police  \\\n",
       "true_dx    ...                                                             \n",
       "0          ...                        0.0       0.010789        0.000054   \n",
       "1          ...                        0.0       0.008259        0.000055   \n",
       "\n",
       "         arrival_Public Transportation  arrival_Sky Health  arrival_Taxi  \\\n",
       "true_dx                                                                    \n",
       "0                             0.003757                 0.0      0.001664   \n",
       "1                             0.002735                 0.0      0.003500   \n",
       "\n",
       "         arrival_Walk-in  arrival_Wheelchair  arrival_not_reported     dr_dx  \n",
       "true_dx                                                                       \n",
       "0               0.146055            0.003435              0.015083  0.155233  \n",
       "1               0.100689            0.003993              0.011540  0.413914  \n",
       "\n",
       "[2 rows x 244 columns]"
      ]
     },
     "execution_count": 90,
     "metadata": {},
     "output_type": "execute_result"
    }
   ],
   "source": [
    "resamp.groupby('true_dx').mean()"
   ]
  },
  {
   "cell_type": "markdown",
   "metadata": {},
   "source": [
    "Look at the age distribution after balancing the data set"
   ]
  },
  {
   "cell_type": "code",
   "execution_count": 49,
   "metadata": {},
   "outputs": [
    {
     "data": {
      "image/png": "[encoded data removed]",
      "text/plain": [
       "<matplotlib.figure.Figure at 0x16eaef60>"
      ]
     },
     "metadata": {},
     "output_type": "display_data"
    }
   ],
   "source": [
    "age_byDx = resamp.groupby(\"true_dx\")[\"age\"]\n",
    "age_byDx.plot(kind='hist', figsize=[6,4], alpha=.4, legend=True, title = \"Age distribution by UTI diagnosis (balanced data set)\") # alpha for transparency\n",
    "plt.savefig('age_distrib_bal.pdf')"
   ]
  },
  {
   "cell_type": "markdown",
   "metadata": {},
   "source": [
    "True diagnosis by gender:"
   ]
  },
  {
   "cell_type": "code",
   "execution_count": 101,
   "metadata": {},
   "outputs": [
    {
     "name": "stdout",
     "output_type": "stream",
     "text": [
      "(0.7187246031316031, 0.2691390800238392)\n"
     ]
    }
   ],
   "source": [
    "print((resamp['gender_Female'].sum()/len(resamp)),(resamp['gender_Male'].sum()/len(resamp)))"
   ]
  },
  {
   "cell_type": "code",
   "execution_count": 96,
   "metadata": {},
   "outputs": [
    {
     "data": {
      "text/html": [
       "<div>\n",
       "<style>\n",
       "    .dataframe thead tr:only-child th {\n",
       "        text-align: right;\n",
       "    }\n",
       "\n",
       "    .dataframe thead th {\n",
       "        text-align: left;\n",
       "    }\n",
       "\n",
       "    .dataframe tbody tr th {\n",
       "        vertical-align: top;\n",
       "    }\n",
       "</style>\n",
       "<table border=\"1\" class=\"dataframe\">\n",
       "  <thead>\n",
       "    <tr style=\"text-align: right;\">\n",
       "      <th>gender_Female</th>\n",
       "      <th>0</th>\n",
       "      <th>1</th>\n",
       "    </tr>\n",
       "    <tr>\n",
       "      <th>true_dx</th>\n",
       "      <th></th>\n",
       "      <th></th>\n",
       "    </tr>\n",
       "  </thead>\n",
       "  <tbody>\n",
       "    <tr>\n",
       "      <th>0</th>\n",
       "      <td>6434</td>\n",
       "      <td>12196</td>\n",
       "    </tr>\n",
       "    <tr>\n",
       "      <th>1</th>\n",
       "      <td>3949</td>\n",
       "      <td>14335</td>\n",
       "    </tr>\n",
       "  </tbody>\n",
       "</table>\n",
       "</div>"
      ],
      "text/plain": [
       "gender_Female     0      1\n",
       "true_dx                   \n",
       "0              6434  12196\n",
       "1              3949  14335"
      ]
     },
     "execution_count": 96,
     "metadata": {},
     "output_type": "execute_result"
    }
   ],
   "source": [
    "female_v_true = pd.crosstab(resamp[\"true_dx\"], resamp[\"gender_Female\"])\n",
    "female_v_true"
   ]
  },
  {
   "cell_type": "code",
   "execution_count": 97,
   "metadata": {},
   "outputs": [
    {
     "data": {
      "text/html": [
       "<div>\n",
       "<style>\n",
       "    .dataframe thead tr:only-child th {\n",
       "        text-align: right;\n",
       "    }\n",
       "\n",
       "    .dataframe thead th {\n",
       "        text-align: left;\n",
       "    }\n",
       "\n",
       "    .dataframe tbody tr th {\n",
       "        vertical-align: top;\n",
       "    }\n",
       "</style>\n",
       "<table border=\"1\" class=\"dataframe\">\n",
       "  <thead>\n",
       "    <tr style=\"text-align: right;\">\n",
       "      <th>gender_Male</th>\n",
       "      <th>0</th>\n",
       "      <th>1</th>\n",
       "    </tr>\n",
       "    <tr>\n",
       "      <th>true_dx</th>\n",
       "      <th></th>\n",
       "      <th></th>\n",
       "    </tr>\n",
       "  </thead>\n",
       "  <tbody>\n",
       "    <tr>\n",
       "      <th>0</th>\n",
       "      <td>12450</td>\n",
       "      <td>6180</td>\n",
       "    </tr>\n",
       "    <tr>\n",
       "      <th>1</th>\n",
       "      <td>14529</td>\n",
       "      <td>3755</td>\n",
       "    </tr>\n",
       "  </tbody>\n",
       "</table>\n",
       "</div>"
      ],
      "text/plain": [
       "gender_Male      0     1\n",
       "true_dx                 \n",
       "0            12450  6180\n",
       "1            14529  3755"
      ]
     },
     "execution_count": 97,
     "metadata": {},
     "output_type": "execute_result"
    }
   ],
   "source": [
    "male_v_true = pd.crosstab(resamp[\"true_dx\"], resamp[\"gender_Male\"])\n",
    "male_v_true"
   ]
  },
  {
   "cell_type": "markdown",
   "metadata": {},
   "source": [
    "Make the first split for training and the hold-out test set"
   ]
  },
  {
   "cell_type": "code",
   "execution_count": 7,
   "metadata": {},
   "outputs": [
    {
     "name": "stderr",
     "output_type": "stream",
     "text": [
      "C:\\ProgramData\\Anaconda2\\lib\\site-packages\\sklearn\\cross_validation.py:41: DeprecationWarning: This module was deprecated in version 0.18 in favor of the model_selection module into which all the refactored classes and functions are moved. Also note that the interface of the new CV iterators are different from that of this module. This module will be removed in 0.20.\n",
      "  \"This module will be removed in 0.20.\", DeprecationWarning)\n"
     ]
    }
   ],
   "source": [
    "from sklearn.linear_model import LogisticRegression\n",
    "from sklearn.cross_validation import train_test_split\n",
    "from sklearn import metrics\n",
    "\n",
    "X = resamp.iloc[:, 0:243].values\n",
    "y = resamp.iloc[:, 244].values\n",
    "X_train, X_test, y_train, y_test = train_test_split(X, y, test_size = 0.20, random_state = 11)"
   ]
  },
  {
   "cell_type": "markdown",
   "metadata": {},
   "source": [
    "For Recursive Feature Elimination, look at the grid curve for accuracy tradeoff for a smaller set of features\n",
    "set the C regularization parameter very high so it does not apply weighting for RFE (The sklearn LogisticRegression has an L2 penalty default that cannot be turned off - unless one wants to select L1)"
   ]
  },
  {
   "cell_type": "code",
   "execution_count": 52,
   "metadata": {},
   "outputs": [
    {
     "name": "stdout",
     "output_type": "stream",
     "text": [
      "Optimal number of features : 94\n"
     ]
    },
    {
     "data": {
      "image/png": "[encoded data removed]",
      "text/plain": [
       "<matplotlib.figure.Figure at 0x160c55f8>"
      ]
     },
     "metadata": {},
     "output_type": "display_data"
    }
   ],
   "source": [
    "import matplotlib.pyplot as plt\n",
    "from sklearn.linear_model import LogisticRegression\n",
    "from sklearn.model_selection import StratifiedKFold\n",
    "from sklearn.feature_selection import RFECV\n",
    "\n",
    "\n",
    "# Use X_train created above from 80/20 split of resamp data set\n",
    "\n",
    "# Create the RFE object and compute a cross-validated score.\n",
    "logistic = linear_model.LogisticRegression(C=10**6)\n",
    "# The \"accuracy\" scoring is proportional to the number of correct\n",
    "# classifications\n",
    "rfecv = RFECV(estimator=logistic, step=1, cv=StratifiedKFold(3),\n",
    "              scoring='accuracy')\n",
    "rfecv.fit(X_train, y_train)\n",
    "\n",
    "print(\"Optimal number of features : %d\" % rfecv.n_features_)\n",
    "\n",
    "# Plot number of features VS. cross-validation scores\n",
    "plt.figure()\n",
    "plt.xlabel(\"Number of features selected\")\n",
    "plt.ylabel(\"Cross validation score (nb of correct classifications)\")\n",
    "plt.plot(range(1, len(rfecv.grid_scores_) + 1), rfecv.grid_scores_)\n",
    "plt.savefig('RFECV_grid_largeC.png')\n",
    "plt.show()"
   ]
  },
  {
   "cell_type": "code",
   "execution_count": 53,
   "metadata": {},
   "outputs": [
    {
     "data": {
      "text/plain": [
       "array([ 0.51053035,  0.5924498 ,  0.59207729,  0.59712318,  0.64060144,\n",
       "        0.64060144,  0.71549563,  0.75633269,  0.75629884,  0.75629884,\n",
       "        0.76009095,  0.76452702,  0.76456088,  0.76452703,  0.76669395,\n",
       "        0.76669395,  0.76669395,  0.76581347,  0.76564414,  0.76557642,\n",
       "        0.76655831,  0.76655831,  0.76710004,  0.76716777,  0.76699847,\n",
       "        0.76720162,  0.76625356,  0.76605041,  0.76848868,  0.7673035 ])"
      ]
     },
     "execution_count": 53,
     "metadata": {},
     "output_type": "execute_result"
    }
   ],
   "source": [
    "rfecv.grid_scores_[0:30]"
   ]
  },
  {
   "cell_type": "markdown",
   "metadata": {},
   "source": [
    "Make a second split in the training set to allow for a separate validation set prior to final testing on the hold-out test set."
   ]
  },
  {
   "cell_type": "code",
   "execution_count": 8,
   "metadata": {
    "collapsed": true
   },
   "outputs": [],
   "source": [
    "from sklearn.cross_validation import train_test_split\n",
    "X_train_rfe, X_val_rfe, y_train_rfe, y_val_rfe = train_test_split(X_train, y_train, test_size = 0.20, random_state = 1)"
   ]
  },
  {
   "cell_type": "markdown",
   "metadata": {},
   "source": [
    "RFE originally run with 30 features, but had a very high number of 'not_reported' variables. The final test was run with 16, which is the transition point in the GridSearch curve beyond which not much additional accuracy is obtained."
   ]
  },
  {
   "cell_type": "code",
   "execution_count": 48,
   "metadata": {},
   "outputs": [
    {
     "name": "stdout",
     "output_type": "stream",
     "text": [
      "[False False False False False False False False False False False False\n",
      " False False False False False False False False False False False False\n",
      " False False False False False False False False False False False False\n",
      " False False False False False False False False False False False False\n",
      "  True False False False False False False False False False False False\n",
      " False False False False False False False False False False False False\n",
      " False False False False False False False False False False False False\n",
      " False False False False False False False False False  True  True False\n",
      " False False False False False False  True False False False False False\n",
      " False False  True False False False False False False False False False\n",
      " False  True False False False False False False False False  True  True\n",
      " False False  True False False False False False False  True  True False\n",
      " False  True False False False False False False False False False False\n",
      " False False False False False False False False False False False False\n",
      " False False False False False False False False  True False False False\n",
      " False False False False False False False False False False False False\n",
      " False False False False False False False False False False False False\n",
      " False False False False False False False False False False False False\n",
      " False False False False False False False False  True False False False\n",
      " False  True False False False False False False False False  True False\n",
      " False False False]\n",
      "[ 42  73  21  38 170 108 151 199 148 162 140 141 169 213  63 125 174 136\n",
      "  98 215  77 103  75 167 106 182 165  44 123  91 225  57  90 124  20  50\n",
      "   7  76 120 157  52 107 191  31 156 161 197 207   1 226 220 158 104 179\n",
      " 181  97 135 214 134  78 204 186 216 126 163 139  80 209 160 202  96 205\n",
      " 188 168 149 187 200 224 203 218 198  23 217 178 166 210 192 222 159 223\n",
      " 154 137 153   1   1  89 128  33 127 130 189  55   1  64 132  86  10   9\n",
      "  48  34   1 177  54 129  35  37  36 176  12  47  95   1  61  58  60  24\n",
      " 155  59   5  45   1   1  41 121   1  11 180  40 110 111  74   1   1 109\n",
      "  51   1  72 119 102 195 194 171  46  92 133 173 118  32  87 196 172 221\n",
      "  67  69  27 138  65 105 117  22  88  18  93 164  81  84   1  83 185  26\n",
      "  82  49 101 100 206  25 112 193 183 113   2 208 152  39 219  70 131 201\n",
      " 122 175  71 142 145 143   3 144 147 190 146  43  79  62 115 116 114 184\n",
      " 150  29  68 211 212  28  56  66   1   6  53  99  94   1  15  13  30   4\n",
      " 228  14 227  17   1  16  19   8  85]\n"
     ]
    }
   ],
   "source": [
    "from sklearn.feature_selection import RFE\n",
    "from sklearn.linear_model import LogisticRegression\n",
    "logreg = LogisticRegression(C=10**6)\n",
    "\n",
    "rfe = RFE(logreg,16)\n",
    "rfe = rfe.fit(X_train_rfe, y_train_rfe)\n",
    "print(rfe.support_)\n",
    "print(rfe.ranking_)"
   ]
  },
  {
   "cell_type": "code",
   "execution_count": 50,
   "metadata": {},
   "outputs": [
    {
     "data": {
      "text/plain": [
       "0.76651851851851849"
      ]
     },
     "execution_count": 50,
     "metadata": {},
     "output_type": "execute_result"
    }
   ],
   "source": [
    "rfe.score(X_train_rfe, y_train_rfe)"
   ]
  },
  {
   "cell_type": "code",
   "execution_count": 51,
   "metadata": {},
   "outputs": [
    {
     "data": {
      "text/plain": [
       "['ANTIALLERGY',\n",
       " 'ua_bili_large',\n",
       " 'ua_bili_moderate',\n",
       " 'ua_blood_not_reported',\n",
       " 'ua_color_not_reported',\n",
       " 'ua_ketones_4+',\n",
       " 'ua_leuk_negative',\n",
       " 'ua_leuk_not_reported',\n",
       " 'ua_nitrite_negative',\n",
       " 'ua_protein_not_reported',\n",
       " 'ua_protein_other',\n",
       " 'ua_urobili_not_reported',\n",
       " 'race_Native Hawaiian or Other Pacific Islander',\n",
       " 'disposition_LWBS before Triage',\n",
       " 'arrival_Assist From Vehicle',\n",
       " 'arrival_Sky Health']"
      ]
     },
     "execution_count": 51,
     "metadata": {},
     "output_type": "execute_result"
    }
   ],
   "source": [
    "cols = []\n",
    "for i,val in enumerate(rfe.support_):\n",
    "    if val == True:\n",
    "        cols.append(resamp.columns[i])\n",
    "cols"
   ]
  },
  {
   "cell_type": "markdown",
   "metadata": {},
   "source": [
    "Make the training set into a dataframe to be able to pass the new column names to the orig X_train matrix"
   ]
  },
  {
   "cell_type": "code",
   "execution_count": 9,
   "metadata": {},
   "outputs": [
    {
     "data": {
      "text/html": [
       "<div>\n",
       "<style>\n",
       "    .dataframe thead tr:only-child th {\n",
       "        text-align: right;\n",
       "    }\n",
       "\n",
       "    .dataframe thead th {\n",
       "        text-align: left;\n",
       "    }\n",
       "\n",
       "    .dataframe tbody tr th {\n",
       "        vertical-align: top;\n",
       "    }\n",
       "</style>\n",
       "<table border=\"1\" class=\"dataframe\">\n",
       "  <thead>\n",
       "    <tr style=\"text-align: right;\">\n",
       "      <th></th>\n",
       "      <th>ua_ph</th>\n",
       "      <th>ua_spec_grav</th>\n",
       "      <th>age</th>\n",
       "      <th>abx</th>\n",
       "      <th>Abdominal_hernia</th>\n",
       "      <th>Abdominal_pain</th>\n",
       "      <th>Acute_and_unspecified_renal_failure</th>\n",
       "      <th>Anal_and_rectal_conditions</th>\n",
       "      <th>Calculus_of_urinary_tract</th>\n",
       "      <th>Cancer</th>\n",
       "      <th>...</th>\n",
       "      <th>arrival_Larchmont VAC</th>\n",
       "      <th>arrival_Medical Flight</th>\n",
       "      <th>arrival_Other</th>\n",
       "      <th>arrival_Police</th>\n",
       "      <th>arrival_Public Transportation</th>\n",
       "      <th>arrival_Sky Health</th>\n",
       "      <th>arrival_Taxi</th>\n",
       "      <th>arrival_Walk-in</th>\n",
       "      <th>arrival_Wheelchair</th>\n",
       "      <th>arrival_not_reported</th>\n",
       "    </tr>\n",
       "  </thead>\n",
       "  <tbody>\n",
       "    <tr>\n",
       "      <th>0</th>\n",
       "      <td>0.666667</td>\n",
       "      <td>0.878692</td>\n",
       "      <td>0.340659</td>\n",
       "      <td>1.0</td>\n",
       "      <td>0.0</td>\n",
       "      <td>0.0</td>\n",
       "      <td>0.0</td>\n",
       "      <td>0.0</td>\n",
       "      <td>0.0</td>\n",
       "      <td>0.0</td>\n",
       "      <td>...</td>\n",
       "      <td>0.0</td>\n",
       "      <td>0.0</td>\n",
       "      <td>0.0</td>\n",
       "      <td>0.0</td>\n",
       "      <td>0.0</td>\n",
       "      <td>0.0</td>\n",
       "      <td>0.0</td>\n",
       "      <td>0.0</td>\n",
       "      <td>0.0</td>\n",
       "      <td>0.0</td>\n",
       "    </tr>\n",
       "    <tr>\n",
       "      <th>1</th>\n",
       "      <td>0.611111</td>\n",
       "      <td>0.856540</td>\n",
       "      <td>0.648352</td>\n",
       "      <td>1.0</td>\n",
       "      <td>0.0</td>\n",
       "      <td>0.0</td>\n",
       "      <td>0.0</td>\n",
       "      <td>0.0</td>\n",
       "      <td>1.0</td>\n",
       "      <td>0.0</td>\n",
       "      <td>...</td>\n",
       "      <td>0.0</td>\n",
       "      <td>0.0</td>\n",
       "      <td>0.0</td>\n",
       "      <td>0.0</td>\n",
       "      <td>0.0</td>\n",
       "      <td>0.0</td>\n",
       "      <td>0.0</td>\n",
       "      <td>0.0</td>\n",
       "      <td>0.0</td>\n",
       "      <td>0.0</td>\n",
       "    </tr>\n",
       "    <tr>\n",
       "      <th>2</th>\n",
       "      <td>0.611111</td>\n",
       "      <td>0.882911</td>\n",
       "      <td>0.373626</td>\n",
       "      <td>1.0</td>\n",
       "      <td>0.0</td>\n",
       "      <td>0.0</td>\n",
       "      <td>0.0</td>\n",
       "      <td>0.0</td>\n",
       "      <td>0.0</td>\n",
       "      <td>0.0</td>\n",
       "      <td>...</td>\n",
       "      <td>0.0</td>\n",
       "      <td>0.0</td>\n",
       "      <td>0.0</td>\n",
       "      <td>0.0</td>\n",
       "      <td>0.0</td>\n",
       "      <td>0.0</td>\n",
       "      <td>0.0</td>\n",
       "      <td>0.0</td>\n",
       "      <td>0.0</td>\n",
       "      <td>0.0</td>\n",
       "    </tr>\n",
       "    <tr>\n",
       "      <th>3</th>\n",
       "      <td>0.611111</td>\n",
       "      <td>0.875527</td>\n",
       "      <td>0.087912</td>\n",
       "      <td>0.0</td>\n",
       "      <td>0.0</td>\n",
       "      <td>0.0</td>\n",
       "      <td>0.0</td>\n",
       "      <td>0.0</td>\n",
       "      <td>0.0</td>\n",
       "      <td>0.0</td>\n",
       "      <td>...</td>\n",
       "      <td>0.0</td>\n",
       "      <td>0.0</td>\n",
       "      <td>0.0</td>\n",
       "      <td>0.0</td>\n",
       "      <td>0.0</td>\n",
       "      <td>0.0</td>\n",
       "      <td>0.0</td>\n",
       "      <td>1.0</td>\n",
       "      <td>0.0</td>\n",
       "      <td>0.0</td>\n",
       "    </tr>\n",
       "    <tr>\n",
       "      <th>4</th>\n",
       "      <td>0.666667</td>\n",
       "      <td>0.857595</td>\n",
       "      <td>0.065934</td>\n",
       "      <td>1.0</td>\n",
       "      <td>0.0</td>\n",
       "      <td>0.0</td>\n",
       "      <td>0.0</td>\n",
       "      <td>0.0</td>\n",
       "      <td>0.0</td>\n",
       "      <td>0.0</td>\n",
       "      <td>...</td>\n",
       "      <td>0.0</td>\n",
       "      <td>0.0</td>\n",
       "      <td>0.0</td>\n",
       "      <td>0.0</td>\n",
       "      <td>0.0</td>\n",
       "      <td>0.0</td>\n",
       "      <td>0.0</td>\n",
       "      <td>0.0</td>\n",
       "      <td>0.0</td>\n",
       "      <td>0.0</td>\n",
       "    </tr>\n",
       "  </tbody>\n",
       "</table>\n",
       "<p>5 rows × 243 columns</p>\n",
       "</div>"
      ],
      "text/plain": [
       "      ua_ph  ua_spec_grav       age  abx  Abdominal_hernia  Abdominal_pain  \\\n",
       "0  0.666667      0.878692  0.340659  1.0               0.0             0.0   \n",
       "1  0.611111      0.856540  0.648352  1.0               0.0             0.0   \n",
       "2  0.611111      0.882911  0.373626  1.0               0.0             0.0   \n",
       "3  0.611111      0.875527  0.087912  0.0               0.0             0.0   \n",
       "4  0.666667      0.857595  0.065934  1.0               0.0             0.0   \n",
       "\n",
       "   Acute_and_unspecified_renal_failure  Anal_and_rectal_conditions  \\\n",
       "0                                  0.0                         0.0   \n",
       "1                                  0.0                         0.0   \n",
       "2                                  0.0                         0.0   \n",
       "3                                  0.0                         0.0   \n",
       "4                                  0.0                         0.0   \n",
       "\n",
       "   Calculus_of_urinary_tract  Cancer          ...           \\\n",
       "0                        0.0     0.0          ...            \n",
       "1                        1.0     0.0          ...            \n",
       "2                        0.0     0.0          ...            \n",
       "3                        0.0     0.0          ...            \n",
       "4                        0.0     0.0          ...            \n",
       "\n",
       "   arrival_Larchmont VAC  arrival_Medical Flight  arrival_Other  \\\n",
       "0                    0.0                     0.0            0.0   \n",
       "1                    0.0                     0.0            0.0   \n",
       "2                    0.0                     0.0            0.0   \n",
       "3                    0.0                     0.0            0.0   \n",
       "4                    0.0                     0.0            0.0   \n",
       "\n",
       "   arrival_Police  arrival_Public Transportation  arrival_Sky Health  \\\n",
       "0             0.0                            0.0                 0.0   \n",
       "1             0.0                            0.0                 0.0   \n",
       "2             0.0                            0.0                 0.0   \n",
       "3             0.0                            0.0                 0.0   \n",
       "4             0.0                            0.0                 0.0   \n",
       "\n",
       "   arrival_Taxi  arrival_Walk-in  arrival_Wheelchair  arrival_not_reported  \n",
       "0           0.0              0.0                 0.0                   0.0  \n",
       "1           0.0              0.0                 0.0                   0.0  \n",
       "2           0.0              0.0                 0.0                   0.0  \n",
       "3           0.0              1.0                 0.0                   0.0  \n",
       "4           0.0              0.0                 0.0                   0.0  \n",
       "\n",
       "[5 rows x 243 columns]"
      ]
     },
     "execution_count": 9,
     "metadata": {},
     "output_type": "execute_result"
    }
   ],
   "source": [
    "train_cols = resamp.columns[0:(len(resamp.columns)-2)] #to remove dr_dx, true_dx, the last 2 columns in resamp\n",
    "X_train_rfe_df = pd.DataFrame(X_train_rfe)\n",
    "X_train_rfe_df.columns = train_cols\n",
    "X_train_rfe_df.head()"
   ]
  },
  {
   "cell_type": "markdown",
   "metadata": {},
   "source": [
    "Proceed to Logistic Regression with L1 regularization penalty to compare feature output"
   ]
  },
  {
   "cell_type": "markdown",
   "metadata": {},
   "source": [
    "Perform GridSearch for optimum alpha.  Ideal was given as 0.001, but exploration done with 0.01, 0.005, and 0.001 showed that 0.005 was preferable in terms of trade-off between feature relevance and model accuracy."
   ]
  },
  {
   "cell_type": "code",
   "execution_count": 45,
   "metadata": {},
   "outputs": [
    {
     "data": {
      "text/plain": [
       "(0.001, 0.31622776601683794)"
      ]
     },
     "execution_count": 45,
     "metadata": {},
     "output_type": "execute_result"
    },
    {
     "data": {
      "image/png": "[encoded data removed]",
      "text/plain": [
       "<matplotlib.figure.Figure at 0x10ca6198>"
      ]
     },
     "metadata": {},
     "output_type": "display_data"
    }
   ],
   "source": [
    "from sklearn.linear_model import LassoCV\n",
    "from sklearn.linear_model import Lasso\n",
    "from sklearn.model_selection import KFold\n",
    "from sklearn.model_selection import GridSearchCV\n",
    "\n",
    "\n",
    "lasso = Lasso(random_state=0, max_iter=1e5)\n",
    "alphas = np.logspace(-3, -0.5, 10)\n",
    "\n",
    "tuned_parameters = [{'alpha': alphas}]\n",
    "n_folds = 3\n",
    "\n",
    "clf = GridSearchCV(lasso, tuned_parameters, cv=n_folds, refit=False, return_train_score=True)\n",
    "clf.fit(X_train, y_train)\n",
    "scores = clf.cv_results_['mean_test_score']\n",
    "scores_std = clf.cv_results_['std_test_score']\n",
    "plt.figure().set_size_inches(8, 6)\n",
    "plt.semilogx(alphas, scores)\n",
    "\n",
    "# plot error lines showing +/- std. errors of the scores\n",
    "std_error = scores_std / np.sqrt(n_folds)\n",
    "\n",
    "plt.semilogx(alphas, scores + std_error, 'b--')\n",
    "plt.semilogx(alphas, scores - std_error, 'b--')\n",
    "\n",
    "# alpha=0.2 controls the translucency of the fill color\n",
    "plt.fill_between(alphas, scores + std_error, scores - std_error, alpha=0.2)\n",
    "\n",
    "plt.ylabel('CV score +/- std error')\n",
    "plt.xlabel('alpha')\n",
    "plt.axhline(np.max(scores), linestyle='--', color='.5')\n",
    "plt.xlim([alphas[0], alphas[-1]])"
   ]
  },
  {
   "cell_type": "code",
   "execution_count": 19,
   "metadata": {},
   "outputs": [
    {
     "name": "stdout",
     "output_type": "stream",
     "text": [
      "[[ 0.          0.          0.          0.40104411  0.          0.          0.\n",
      "   0.          0.          0.          0.          0.          0.          0.\n",
      "   0.          0.          0.          0.          0.          0.          0.\n",
      "   0.          0.          0.          0.          0.          0.          0.\n",
      "   0.          0.          0.          0.          0.          0.          0.\n",
      "   0.          0.          0.          0.          0.          0.          0.\n",
      "   0.          0.          0.          0.          0.          0.          0.\n",
      "   0.          0.          0.          0.          0.          0.          0.\n",
      "   0.          0.          0.          0.          0.          0.          0.\n",
      "   0.          0.          0.          0.          0.          0.          0.\n",
      "   0.          0.          0.          0.          0.          0.          0.\n",
      "   0.          0.          0.          0.          0.          0.          0.\n",
      "   0.          0.          0.          0.          0.          0.          0.\n",
      "   0.01090271  0.          0.          0.          0.05942189  0.          0.\n",
      "   0.          0.          0.         -0.21403341  0.          0.          0.\n",
      "  -0.57622183  0.          0.          0.          0.          0.          0.\n",
      "   0.          0.          0.          0.          0.          0.          0.\n",
      "   0.          0.          0.          0.          0.          0.          0.\n",
      "   0.          0.          0.48865405  0.         -1.37899504  0.          0.\n",
      "   0.         -0.04400138  0.          0.          1.22543481  0.          0.\n",
      "  -0.02209649  0.          0.          0.          0.18096356  0.          0.\n",
      "   0.          0.          0.          0.          0.          0.          0.\n",
      "   0.          0.          0.          0.          0.          0.          0.\n",
      "   0.          0.          0.          0.          0.          0.          0.\n",
      "   0.          0.28609814 -0.10328964  0.          0.          0.          0.\n",
      "   0.          0.          0.          0.          0.          0.          0.\n",
      "   0.          0.          0.          0.          0.          0.          0.\n",
      "   0.          0.          0.          0.          0.          0.          0.\n",
      "   0.          0.          0.          0.          0.          0.          0.\n",
      "   0.          0.          0.          0.12244252  0.          0.          0.\n",
      "   0.          0.          0.          0.          0.04356199  0.          0.\n",
      "   0.          0.          0.          0.          0.          0.          0.\n",
      "   0.          0.          0.          0.          0.          0.          0.\n",
      "   0.          0.          0.          0.          0.          0.          0.\n",
      "   0.          0.          0.          0.          0.        ]]\n",
      "[ 0.]\n"
     ]
    }
   ],
   "source": [
    "from sklearn import linear_model\n",
    "\n",
    "logl1_005 = LogisticRegression(random_state=123, penalty='l1', solver='liblinear', C=0.005)\n",
    "logl1_005.fit(X_train_rfe,y_train_rfe)\n",
    "\n",
    "print(logl1_005.coef_)\n",
    "print(logl1_005.intercept_)"
   ]
  },
  {
   "cell_type": "markdown",
   "metadata": {},
   "source": [
    "Notebook output differs slight when re-run:  vitamins and ua_protein_negative were not previously in the list except with regularization parameter higher than 0.005.  Will remove for consistency of past reports."
   ]
  },
  {
   "cell_type": "code",
   "execution_count": 20,
   "metadata": {},
   "outputs": [
    {
     "name": "stdout",
     "output_type": "stream",
     "text": [
      "abx\n",
      "VITAMINS\n",
      "ua_bili_negative\n",
      "ua_blood_negative\n",
      "ua_clarity_clear\n",
      "ua_leuk_large\n",
      "ua_leuk_negative\n",
      "ua_nitrite_negative\n",
      "ua_nitrite_positive\n",
      "ua_protein_negative\n",
      "ua_urobili_negative\n",
      "gender_Female\n",
      "gender_Male\n",
      "employStatus_Retired\n",
      "insurance_status_Medicare\n"
     ]
    }
   ],
   "source": [
    "logl1_005_coef = np.nonzero(logl1_005.coef_)[1]\n",
    "for i in logl1_005_coef:\n",
    "    print(resamp.columns[i])"
   ]
  },
  {
   "cell_type": "code",
   "execution_count": 12,
   "metadata": {
    "collapsed": true
   },
   "outputs": [],
   "source": [
    "l1_cols = ['abx','ua_bili_negative','ua_blood_negative','ua_clarity_clear','ua_leuk_large','ua_leuk_negative',\n",
    "           'ua_nitrite_negative','ua_nitrite_positive','ua_urobili_negative','gender_Female','gender_Male',\n",
    "           'employStatus_Retired','insurance_status_Medicare']"
   ]
  },
  {
   "cell_type": "code",
   "execution_count": 13,
   "metadata": {
    "collapsed": true
   },
   "outputs": [],
   "source": [
    "X_l1 = X_train_rfe_df[l1_cols] # new X with reduced features\n",
    "y_l1 = y_train_rfe.ravel()"
   ]
  },
  {
   "cell_type": "markdown",
   "metadata": {},
   "source": [
    "compare coeficients to logistic model without regularization parameters built in"
   ]
  },
  {
   "cell_type": "code",
   "execution_count": 14,
   "metadata": {},
   "outputs": [
    {
     "name": "stderr",
     "output_type": "stream",
     "text": [
      "C:\\ProgramData\\Anaconda2\\lib\\site-packages\\statsmodels\\compat\\pandas.py:56: FutureWarning: The pandas.core.datetools module is deprecated and will be removed in a future version. Please use the pandas.tseries module instead.\n",
      "  from pandas.core import datetools\n"
     ]
    },
    {
     "name": "stdout",
     "output_type": "stream",
     "text": [
      "Optimization terminated successfully.\n",
      "         Current function value: 0.477880\n",
      "         Iterations 6\n",
      "                           Logit Regression Results                           \n",
      "==============================================================================\n",
      "Dep. Variable:                      y   No. Observations:                23625\n",
      "Model:                          Logit   Df Residuals:                    23612\n",
      "Method:                           MLE   Df Model:                           12\n",
      "Date:                Sun, 01 Jul 2018   Pseudo R-squ.:                  0.3105\n",
      "Time:                        21:42:24   Log-Likelihood:                -11290.\n",
      "converged:                       True   LL-Null:                       -16375.\n",
      "                                        LLR p-value:                     0.000\n",
      "=============================================================================================\n",
      "                                coef    std err          z      P>|z|      [0.025      0.975]\n",
      "---------------------------------------------------------------------------------------------\n",
      "abx                           0.5015      0.036     14.000      0.000       0.431       0.572\n",
      "ua_bili_negative              0.6800      0.056     12.186      0.000       0.571       0.789\n",
      "ua_blood_negative            -0.3275      0.035     -9.456      0.000      -0.395      -0.260\n",
      "ua_clarity_clear             -0.6896      0.037    -18.738      0.000      -0.762      -0.617\n",
      "ua_leuk_large                 1.0039      0.062     16.216      0.000       0.883       1.125\n",
      "ua_leuk_negative             -1.4163      0.037    -38.178      0.000      -1.489      -1.344\n",
      "ua_nitrite_negative          -0.9803      0.152     -6.440      0.000      -1.279      -0.682\n",
      "ua_nitrite_positive           0.8558      0.158      5.411      0.000       0.546       1.166\n",
      "ua_urobili_negative           0.5657      0.042     13.539      0.000       0.484       0.648\n",
      "gender_Female                 0.2817      0.138      2.044      0.041       0.012       0.552\n",
      "gender_Male                  -0.4515      0.141     -3.202      0.001      -0.728      -0.175\n",
      "employStatus_Retired          0.2746      0.043      6.369      0.000       0.190       0.359\n",
      "insurance_status_Medicare     0.2345      0.045      5.218      0.000       0.146       0.323\n",
      "=============================================================================================\n"
     ]
    }
   ],
   "source": [
    "import statsmodels.api as sm\n",
    "logit_model=sm.Logit(y_l1,X_l1.astype(float))\n",
    "result=logit_model.fit()\n",
    "print(result.summary())"
   ]
  },
  {
   "cell_type": "code",
   "execution_count": 21,
   "metadata": {},
   "outputs": [
    {
     "name": "stdout",
     "output_type": "stream",
     "text": [
      "10-fold cross validation average accuracy: 0.768\n"
     ]
    }
   ],
   "source": [
    "from sklearn import model_selection\n",
    "from sklearn.model_selection import cross_val_score\n",
    "kfold = model_selection.KFold(n_splits=10, random_state=7)\n",
    "modelCV = LogisticRegression(random_state=123, penalty='l1', solver='liblinear', C=0.005)\n",
    "scoring = 'accuracy'\n",
    "results = model_selection.cross_val_score(modelCV, X_l1, y_l1, cv=kfold, scoring=scoring)\n",
    "print(\"10-fold cross validation average accuracy: %.3f\" % (results.mean()))"
   ]
  },
  {
   "cell_type": "markdown",
   "metadata": {},
   "source": [
    "Prepare the validation set for model testing"
   ]
  },
  {
   "cell_type": "code",
   "execution_count": 22,
   "metadata": {},
   "outputs": [
    {
     "data": {
      "text/plain": [
       "(5907, 13)"
      ]
     },
     "execution_count": 22,
     "metadata": {},
     "output_type": "execute_result"
    }
   ],
   "source": [
    "train_cols = resamp.columns[0:(len(resamp.columns)-2)]\n",
    "X_val_rfe_df = pd.DataFrame(X_val_rfe)\n",
    "X_val_rfe_df.columns = train_cols\n",
    "\n",
    "y_val_test = y_val_rfe.ravel()\n",
    "X_val_test_l1 = X_val_rfe_df[l1_cols]\n",
    "X_val_test_l1.shape"
   ]
  },
  {
   "cell_type": "code",
   "execution_count": 25,
   "metadata": {
    "collapsed": true
   },
   "outputs": [],
   "source": [
    "y_l1_train = pd.DataFrame(y_l1)"
   ]
  },
  {
   "cell_type": "markdown",
   "metadata": {},
   "source": [
    "Fit the model with the smaller feature set and get the prediction from the validation set."
   ]
  },
  {
   "cell_type": "code",
   "execution_count": 27,
   "metadata": {},
   "outputs": [
    {
     "name": "stdout",
     "output_type": "stream",
     "text": [
      "(array([ 0.]), array([[ 0.4037955 ,  0.05368838, -0.21863883, -0.58107536,  0.49028412,\n",
      "        -1.37994119, -0.04859236,  1.22174261,  0.1744266 ,  0.29376122,\n",
      "        -0.09368166,  0.12589878,  0.04585101]]))\n"
     ]
    }
   ],
   "source": [
    "from sklearn.linear_model import LogisticRegression\n",
    "from sklearn import metrics\n",
    "logreg_l1 = LogisticRegression(random_state=123, penalty='l1', solver='liblinear', C=0.005)\n",
    "logreg_l1.fit(X_l1, y_l1)\n",
    "print(logreg_l1.intercept_, logreg_l1.coef_)"
   ]
  },
  {
   "cell_type": "code",
   "execution_count": 29,
   "metadata": {},
   "outputs": [
    {
     "name": "stdout",
     "output_type": "stream",
     "text": [
      "Accuracy of logistic regression classifier on test set: 0.77\n"
     ]
    }
   ],
   "source": [
    "y_pred_l1 = logreg_l1.predict(X_val_test_l1)\n",
    "print('Accuracy of logistic regression classifier on test set: {:.2f}'.format(logreg_l1.score(X_val_test_l1, y_val_test)))"
   ]
  },
  {
   "cell_type": "code",
   "execution_count": 30,
   "metadata": {},
   "outputs": [
    {
     "name": "stdout",
     "output_type": "stream",
     "text": [
      "[[2205  778]\n",
      " [ 557 2367]]\n"
     ]
    }
   ],
   "source": [
    "from sklearn.metrics import confusion_matrix\n",
    "cm_l1_final = confusion_matrix(y_val_test, y_pred_l1)\n",
    "print(cm_l1_final)"
   ]
  },
  {
   "cell_type": "code",
   "execution_count": 31,
   "metadata": {},
   "outputs": [
    {
     "data": {
      "text/plain": [
       "array([[ 0.73918874,  0.26081126],\n",
       "       [ 0.19049248,  0.80950752]])"
      ]
     },
     "execution_count": 31,
     "metadata": {},
     "output_type": "execute_result"
    }
   ],
   "source": [
    "cm_l1_val_set = cm_l1_final.astype('float') / cm_l1_final.sum(axis=1)[:, np.newaxis]\n",
    "cm_l1_val_set"
   ]
  },
  {
   "cell_type": "code",
   "execution_count": 32,
   "metadata": {},
   "outputs": [
    {
     "name": "stdout",
     "output_type": "stream",
     "text": [
      "             precision    recall  f1-score   support\n",
      "\n",
      "          0       0.80      0.74      0.77      2983\n",
      "          1       0.75      0.81      0.78      2924\n",
      "\n",
      "avg / total       0.78      0.77      0.77      5907\n",
      "\n"
     ]
    }
   ],
   "source": [
    "from sklearn.metrics import classification_report\n",
    "print(classification_report(y_val_test, y_pred_l1))"
   ]
  },
  {
   "cell_type": "markdown",
   "metadata": {},
   "source": [
    "Test the model against the hold-out test set. First prepare the test set as df."
   ]
  },
  {
   "cell_type": "code",
   "execution_count": 33,
   "metadata": {},
   "outputs": [
    {
     "data": {
      "text/html": [
       "<div>\n",
       "<style>\n",
       "    .dataframe thead tr:only-child th {\n",
       "        text-align: right;\n",
       "    }\n",
       "\n",
       "    .dataframe thead th {\n",
       "        text-align: left;\n",
       "    }\n",
       "\n",
       "    .dataframe tbody tr th {\n",
       "        vertical-align: top;\n",
       "    }\n",
       "</style>\n",
       "<table border=\"1\" class=\"dataframe\">\n",
       "  <thead>\n",
       "    <tr style=\"text-align: right;\">\n",
       "      <th></th>\n",
       "      <th>ua_ph</th>\n",
       "      <th>ua_spec_grav</th>\n",
       "      <th>age</th>\n",
       "      <th>abx</th>\n",
       "      <th>Abdominal_hernia</th>\n",
       "      <th>Abdominal_pain</th>\n",
       "      <th>Acute_and_unspecified_renal_failure</th>\n",
       "      <th>Anal_and_rectal_conditions</th>\n",
       "      <th>Calculus_of_urinary_tract</th>\n",
       "      <th>Cancer</th>\n",
       "      <th>...</th>\n",
       "      <th>arrival_Larchmont VAC</th>\n",
       "      <th>arrival_Medical Flight</th>\n",
       "      <th>arrival_Other</th>\n",
       "      <th>arrival_Police</th>\n",
       "      <th>arrival_Public Transportation</th>\n",
       "      <th>arrival_Sky Health</th>\n",
       "      <th>arrival_Taxi</th>\n",
       "      <th>arrival_Walk-in</th>\n",
       "      <th>arrival_Wheelchair</th>\n",
       "      <th>arrival_not_reported</th>\n",
       "    </tr>\n",
       "  </thead>\n",
       "  <tbody>\n",
       "    <tr>\n",
       "      <th>0</th>\n",
       "      <td>0.666667</td>\n",
       "      <td>0.854430</td>\n",
       "      <td>0.538462</td>\n",
       "      <td>1.0</td>\n",
       "      <td>0.0</td>\n",
       "      <td>0.0</td>\n",
       "      <td>0.0</td>\n",
       "      <td>0.0</td>\n",
       "      <td>0.0</td>\n",
       "      <td>1.0</td>\n",
       "      <td>...</td>\n",
       "      <td>0.0</td>\n",
       "      <td>0.0</td>\n",
       "      <td>1.0</td>\n",
       "      <td>0.0</td>\n",
       "      <td>0.0</td>\n",
       "      <td>0.0</td>\n",
       "      <td>0.0</td>\n",
       "      <td>0.0</td>\n",
       "      <td>0.0</td>\n",
       "      <td>0.0</td>\n",
       "    </tr>\n",
       "    <tr>\n",
       "      <th>1</th>\n",
       "      <td>0.722222</td>\n",
       "      <td>0.872363</td>\n",
       "      <td>0.373626</td>\n",
       "      <td>1.0</td>\n",
       "      <td>0.0</td>\n",
       "      <td>0.0</td>\n",
       "      <td>0.0</td>\n",
       "      <td>0.0</td>\n",
       "      <td>0.0</td>\n",
       "      <td>0.0</td>\n",
       "      <td>...</td>\n",
       "      <td>0.0</td>\n",
       "      <td>0.0</td>\n",
       "      <td>0.0</td>\n",
       "      <td>0.0</td>\n",
       "      <td>0.0</td>\n",
       "      <td>0.0</td>\n",
       "      <td>0.0</td>\n",
       "      <td>0.0</td>\n",
       "      <td>0.0</td>\n",
       "      <td>0.0</td>\n",
       "    </tr>\n",
       "    <tr>\n",
       "      <th>2</th>\n",
       "      <td>0.666667</td>\n",
       "      <td>0.850211</td>\n",
       "      <td>0.461538</td>\n",
       "      <td>0.0</td>\n",
       "      <td>0.0</td>\n",
       "      <td>0.0</td>\n",
       "      <td>0.0</td>\n",
       "      <td>0.0</td>\n",
       "      <td>1.0</td>\n",
       "      <td>0.0</td>\n",
       "      <td>...</td>\n",
       "      <td>0.0</td>\n",
       "      <td>0.0</td>\n",
       "      <td>0.0</td>\n",
       "      <td>0.0</td>\n",
       "      <td>0.0</td>\n",
       "      <td>0.0</td>\n",
       "      <td>0.0</td>\n",
       "      <td>0.0</td>\n",
       "      <td>0.0</td>\n",
       "      <td>0.0</td>\n",
       "    </tr>\n",
       "    <tr>\n",
       "      <th>3</th>\n",
       "      <td>0.722222</td>\n",
       "      <td>0.858650</td>\n",
       "      <td>0.648352</td>\n",
       "      <td>1.0</td>\n",
       "      <td>1.0</td>\n",
       "      <td>0.0</td>\n",
       "      <td>0.0</td>\n",
       "      <td>0.0</td>\n",
       "      <td>0.0</td>\n",
       "      <td>1.0</td>\n",
       "      <td>...</td>\n",
       "      <td>0.0</td>\n",
       "      <td>0.0</td>\n",
       "      <td>0.0</td>\n",
       "      <td>0.0</td>\n",
       "      <td>0.0</td>\n",
       "      <td>0.0</td>\n",
       "      <td>0.0</td>\n",
       "      <td>0.0</td>\n",
       "      <td>0.0</td>\n",
       "      <td>0.0</td>\n",
       "    </tr>\n",
       "    <tr>\n",
       "      <th>4</th>\n",
       "      <td>0.666667</td>\n",
       "      <td>0.850211</td>\n",
       "      <td>0.450549</td>\n",
       "      <td>1.0</td>\n",
       "      <td>0.0</td>\n",
       "      <td>0.0</td>\n",
       "      <td>0.0</td>\n",
       "      <td>0.0</td>\n",
       "      <td>0.0</td>\n",
       "      <td>0.0</td>\n",
       "      <td>...</td>\n",
       "      <td>0.0</td>\n",
       "      <td>0.0</td>\n",
       "      <td>0.0</td>\n",
       "      <td>0.0</td>\n",
       "      <td>0.0</td>\n",
       "      <td>0.0</td>\n",
       "      <td>0.0</td>\n",
       "      <td>1.0</td>\n",
       "      <td>0.0</td>\n",
       "      <td>0.0</td>\n",
       "    </tr>\n",
       "  </tbody>\n",
       "</table>\n",
       "<p>5 rows × 243 columns</p>\n",
       "</div>"
      ],
      "text/plain": [
       "      ua_ph  ua_spec_grav       age  abx  Abdominal_hernia  Abdominal_pain  \\\n",
       "0  0.666667      0.854430  0.538462  1.0               0.0             0.0   \n",
       "1  0.722222      0.872363  0.373626  1.0               0.0             0.0   \n",
       "2  0.666667      0.850211  0.461538  0.0               0.0             0.0   \n",
       "3  0.722222      0.858650  0.648352  1.0               1.0             0.0   \n",
       "4  0.666667      0.850211  0.450549  1.0               0.0             0.0   \n",
       "\n",
       "   Acute_and_unspecified_renal_failure  Anal_and_rectal_conditions  \\\n",
       "0                                  0.0                         0.0   \n",
       "1                                  0.0                         0.0   \n",
       "2                                  0.0                         0.0   \n",
       "3                                  0.0                         0.0   \n",
       "4                                  0.0                         0.0   \n",
       "\n",
       "   Calculus_of_urinary_tract  Cancer          ...           \\\n",
       "0                        0.0     1.0          ...            \n",
       "1                        0.0     0.0          ...            \n",
       "2                        1.0     0.0          ...            \n",
       "3                        0.0     1.0          ...            \n",
       "4                        0.0     0.0          ...            \n",
       "\n",
       "   arrival_Larchmont VAC  arrival_Medical Flight  arrival_Other  \\\n",
       "0                    0.0                     0.0            1.0   \n",
       "1                    0.0                     0.0            0.0   \n",
       "2                    0.0                     0.0            0.0   \n",
       "3                    0.0                     0.0            0.0   \n",
       "4                    0.0                     0.0            0.0   \n",
       "\n",
       "   arrival_Police  arrival_Public Transportation  arrival_Sky Health  \\\n",
       "0             0.0                            0.0                 0.0   \n",
       "1             0.0                            0.0                 0.0   \n",
       "2             0.0                            0.0                 0.0   \n",
       "3             0.0                            0.0                 0.0   \n",
       "4             0.0                            0.0                 0.0   \n",
       "\n",
       "   arrival_Taxi  arrival_Walk-in  arrival_Wheelchair  arrival_not_reported  \n",
       "0           0.0              0.0                 0.0                   0.0  \n",
       "1           0.0              0.0                 0.0                   0.0  \n",
       "2           0.0              0.0                 0.0                   0.0  \n",
       "3           0.0              0.0                 0.0                   0.0  \n",
       "4           0.0              1.0                 0.0                   0.0  \n",
       "\n",
       "[5 rows x 243 columns]"
      ]
     },
     "execution_count": 33,
     "metadata": {},
     "output_type": "execute_result"
    }
   ],
   "source": [
    "train_cols = resamp.columns[0:(len(resamp.columns)-2)] #to eliminate true_dx\n",
    "X_final_test_df = pd.DataFrame(X_test)\n",
    "X_final_test_df.columns = train_cols\n",
    "X_final_test_df.head()"
   ]
  },
  {
   "cell_type": "code",
   "execution_count": 34,
   "metadata": {},
   "outputs": [
    {
     "data": {
      "text/plain": [
       "(7383, 13)"
      ]
     },
     "execution_count": 34,
     "metadata": {},
     "output_type": "execute_result"
    }
   ],
   "source": [
    "y_final_test = y_test\n",
    "X_final_test = X_final_test_df[l1_cols]\n",
    "X_final_test.shape"
   ]
  },
  {
   "cell_type": "markdown",
   "metadata": {},
   "source": [
    "This file was saved to pickle for the online tool.\n",
    "X_final_test.to_csv('x_test_l1_final.tsv', sep = '\\t')"
   ]
  },
  {
   "cell_type": "code",
   "execution_count": 37,
   "metadata": {},
   "outputs": [
    {
     "name": "stdout",
     "output_type": "stream",
     "text": [
      "Accuracy of logistic regression classifier on test set: 0.76\n"
     ]
    }
   ],
   "source": [
    "y_pred_l1_final = logreg_l1.predict(X_final_test)\n",
    "print('Accuracy of logistic regression classifier on test set: {:.2f}'.format(logreg_l1.score(X_final_test, y_final_test)))"
   ]
  },
  {
   "cell_type": "code",
   "execution_count": 38,
   "metadata": {},
   "outputs": [
    {
     "name": "stdout",
     "output_type": "stream",
     "text": [
      "[[2728 1001]\n",
      " [ 744 2910]]\n"
     ]
    }
   ],
   "source": [
    "from sklearn.metrics import confusion_matrix\n",
    "confusion_matrix_l1 = confusion_matrix(y_final_test, y_pred_l1_final)\n",
    "print(confusion_matrix_l1)"
   ]
  },
  {
   "cell_type": "code",
   "execution_count": 39,
   "metadata": {},
   "outputs": [
    {
     "data": {
      "text/plain": [
       "array([[ 0.73156342,  0.26843658],\n",
       "       [ 0.20361248,  0.79638752]])"
      ]
     },
     "execution_count": 39,
     "metadata": {},
     "output_type": "execute_result"
    }
   ],
   "source": [
    "cm_l1_transform = confusion_matrix_l1.astype('float') / confusion_matrix_l1.sum(axis=1)[:, np.newaxis]\n",
    "cm_l1_transform"
   ]
  },
  {
   "cell_type": "code",
   "execution_count": 41,
   "metadata": {},
   "outputs": [
    {
     "name": "stdout",
     "output_type": "stream",
     "text": [
      "             precision    recall  f1-score   support\n",
      "\n",
      "          0       0.79      0.73      0.76      3729\n",
      "          1       0.74      0.80      0.77      3654\n",
      "\n",
      "avg / total       0.77      0.76      0.76      7383\n",
      "\n"
     ]
    }
   ],
   "source": [
    "from sklearn.metrics import classification_report\n",
    "print(classification_report(y_final_test, y_pred_l1_final))"
   ]
  },
  {
   "cell_type": "markdown",
   "metadata": {},
   "source": [
    "Plot the features by importance"
   ]
  },
  {
   "cell_type": "code",
   "execution_count": 42,
   "metadata": {},
   "outputs": [
    {
     "data": {
      "image/png": "[encoded data removed]",
      "text/plain": [
       "<matplotlib.figure.Figure at 0x15584828>"
      ]
     },
     "metadata": {},
     "output_type": "display_data"
    }
   ],
   "source": [
    "from pandas import Series, DataFrame\n",
    "\n",
    "comm_names = ['prior hist. antibiotic use', 'bilirubin negative', 'blood in urine, negative', 'urine clear', \n",
    "              'large leukocyte count','leukocyte count negative', 'nitrite test, negative', 'nitrite test, positive',\n",
    "              'urobilinogen, negative', 'female gender','male gender','employment: retired','medicare insurance']\n",
    "plt.figure(figsize=(8,6))\n",
    "plt.tight_layout()\n",
    "predictors_final = comm_names\n",
    "predictors_final = Series(logreg_l1.coef_[0,:],predictors_final).sort_values()\n",
    "predictors_final.plot(kind='barh', title= 'Logistic(L1 Penalty) Model Coefficients', color='orange')\n",
    "plt.savefig('l1_model_coef_balanced.png')"
   ]
  },
  {
   "cell_type": "code",
   "execution_count": 43,
   "metadata": {},
   "outputs": [
    {
     "data": {
      "image/png": "[encoded data removed]",
      "text/plain": [
       "<matplotlib.figure.Figure at 0x10ca6240>"
      ]
     },
     "metadata": {},
     "output_type": "display_data"
    }
   ],
   "source": [
    "from sklearn import metrics\n",
    "import numpy as np\n",
    "import matplotlib.pyplot as plt\n",
    "\n",
    "plt.figure(0).clf()\n",
    "\n",
    "#doctor pred\n",
    "pred = resamp.iloc[:,243]\n",
    "true = resamp.iloc[:,244]\n",
    "fpr, tpr, thresh = metrics.roc_curve(true, pred)\n",
    "auc = metrics.roc_auc_score(true, pred)\n",
    "plt.plot(fpr,tpr,label=\"doctor pred, auc=\"+str(auc))\n",
    "\n",
    "#L1 hold-out test set y_pred\n",
    "pred = y_pred_l1_final\n",
    "true = y_test\n",
    "fpr, tpr, thresh = metrics.roc_curve(true, pred)\n",
    "auc = metrics.roc_auc_score(true, pred)\n",
    "plt.plot(fpr,tpr,label=\"L1 pred (test set), auc=\"+str(auc))\n",
    "\n",
    "#L1, validation set y_pred\n",
    "pred = y_pred_l1\n",
    "true = y_val_test\n",
    "fpr, tpr, thresh = metrics.roc_curve(true, pred)\n",
    "auc = metrics.roc_auc_score(true, pred)\n",
    "plt.plot(fpr,tpr,label=\"L1 pred (valid. set), auc=\"+str(auc))\n",
    "\n",
    "plt.plot([0, 1], [0, 1],'r--')\n",
    "plt.xlim([0.0, 1.0])\n",
    "plt.ylim([0.0, 1.05])\n",
    "plt.xlabel('False Positive Rate')\n",
    "plt.ylabel('True Positive Rate')\n",
    "plt.title('Receiver operating characteristic')\n",
    "plt.legend(loc=\"lower right\")\n",
    "\n",
    "plt.legend(loc=0)\n",
    "plt.savefig('ROC_dr_v_models')\n",
    "plt.show()"
   ]
  },
  {
   "cell_type": "markdown",
   "metadata": {},
   "source": [
    "This is the model used to run the Yoot Assess online assessment tool at www.yootassess.online"
   ]
  }
 ],
 "metadata": {
  "kernelspec": {
   "display_name": "Python 2",
   "language": "python",
   "name": "python2"
  },
  "language_info": {
   "codemirror_mode": {
    "name": "ipython",
    "version": 2
   },
   "file_extension": ".py",
   "mimetype": "text/x-python",
   "name": "python",
   "nbconvert_exporter": "python",
   "pygments_lexer": "ipython2",
   "version": "2.7.14"
  }
 },
 "nbformat": 4,
 "nbformat_minor": 2
}
