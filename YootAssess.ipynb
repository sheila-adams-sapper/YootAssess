{
 "cells": [
  {
   "cell_type": "markdown",
   "metadata": {},
   "source": [
    "A more complete description of the data, including the source, can be found in the git README.md and about.md files (https://github.com/sheila-adams-sapper).\n",
    "\n",
    "The following analysis is an attempt to build an assessment tool to help doctors improve same-day assessment of urinary tract infections (UTI).  UTIs are one of the most common bacterial infections, especially in women.  Unequivocal diagnosis takes several days, and the sensitivity of the gold standard diagnosis method (bacterial culture), is dependent on the bacterial concentration in the urine.  UTI symptoms overlap with several other types of urogenital infections - many of these are exacerbated upon taking antibiotics.  Antibiotics perturb native host microbiomes, which are an important defense against dysbiosis.  Additionally, the rise of bacterial resistance to antibiotics has led to challenges in empiric treatment decisions and depletion in antibiotic options - prescription recommendations from public health authorities eliminate drugs based on the proportion of resistance in the region. This means that even though a specific patient's infection might be able to be treated effectively with one of these antibiotics, treatment is guided toward a very small list of first-line drugs, creating more selective pressure toward the evolution of resistance to those drugs.\n",
    "\n",
    "The ideal outcome for improved assessment is to increase the sensitivity of detection, so we are sure we are not missing patients with UTI, while also improving specificity, to reduce unnecessary antibiotic prescriptions."
   ]
  },
  {
   "cell_type": "code",
   "execution_count": 324,
   "metadata": {
    "collapsed": true
   },
   "outputs": [],
   "source": [
    "import pandas as pd\n",
    "import numpy as np\n",
    "import matplotlib.pyplot as plt\n",
    "import seaborn as sns\n",
    "%matplotlib inline\n",
    "from __future__ import division\n",
    "import itertools"
   ]
  },
  {
   "cell_type": "markdown",
   "metadata": {},
   "source": [
    "#### model packages"
   ]
  },
  {
   "cell_type": "code",
   "execution_count": 332,
   "metadata": {},
   "outputs": [],
   "source": [
    "from sklearn import preprocessing\n",
    "from sklearn.model_selection import train_test_split\n",
    "from sklearn.linear_model import LogisticRegression\n",
    "from sklearn.feature_selection import RFE\n",
    "from sklearn import metrics\n",
    "from sklearn.linear_model import LassoCV\n",
    "from sklearn.linear_model import Lasso\n",
    "from sklearn.model_selection import KFold\n",
    "from sklearn.model_selection import GridSearchCV\n",
    "from sklearn.model_selection import StratifiedKFold\n",
    "from sklearn.feature_selection import RFECV\n",
    "from pandas_profiling import ProfileReport\n",
    "from sklearn import model_selection\n",
    "from sklearn.model_selection import cross_val_score\n",
    "from sklearn.metrics import classification_report\n",
    "from sklearn.metrics import confusion_matrix\n",
    "from sklearn.metrics import roc_auc_score\n",
    "from sklearn.metrics import roc_curve"
   ]
  },
  {
   "cell_type": "code",
   "execution_count": 89,
   "metadata": {},
   "outputs": [
    {
     "data": {
      "text/html": [
       "<div>\n",
       "<style>\n",
       "    .dataframe thead tr:only-child th {\n",
       "        text-align: right;\n",
       "    }\n",
       "\n",
       "    .dataframe thead th {\n",
       "        text-align: left;\n",
       "    }\n",
       "\n",
       "    .dataframe tbody tr th {\n",
       "        vertical-align: top;\n",
       "    }\n",
       "</style>\n",
       "<table border=\"1\" class=\"dataframe\">\n",
       "  <thead>\n",
       "    <tr style=\"text-align: right;\">\n",
       "      <th></th>\n",
       "      <th>ID</th>\n",
       "      <th>PATID</th>\n",
       "      <th>UCX_abnormal</th>\n",
       "      <th>ua_bacteria</th>\n",
       "      <th>ua_bili</th>\n",
       "      <th>ua_blood</th>\n",
       "      <th>ua_clarity</th>\n",
       "      <th>ua_color</th>\n",
       "      <th>ua_epi</th>\n",
       "      <th>ua_glucose</th>\n",
       "      <th>...</th>\n",
       "      <th>SKIN_PREPS</th>\n",
       "      <th>SMOKING_DETERRENTS</th>\n",
       "      <th>THYROID_PREPS</th>\n",
       "      <th>UNCLASSIFIED_DRUG_PRODUCTS</th>\n",
       "      <th>VITAMINS</th>\n",
       "      <th>dispo</th>\n",
       "      <th>UTI_diag</th>\n",
       "      <th>split</th>\n",
       "      <th>abxUTI</th>\n",
       "      <th>alt_diag</th>\n",
       "    </tr>\n",
       "  </thead>\n",
       "  <tbody>\n",
       "    <tr>\n",
       "      <th>0</th>\n",
       "      <td>1</td>\n",
       "      <td>1</td>\n",
       "      <td>yes</td>\n",
       "      <td>few</td>\n",
       "      <td>negative</td>\n",
       "      <td>negative</td>\n",
       "      <td>clear</td>\n",
       "      <td>yellow</td>\n",
       "      <td>small</td>\n",
       "      <td>negative</td>\n",
       "      <td>...</td>\n",
       "      <td>No</td>\n",
       "      <td>No</td>\n",
       "      <td>No</td>\n",
       "      <td>No</td>\n",
       "      <td>No</td>\n",
       "      <td>Admit</td>\n",
       "      <td>Yes</td>\n",
       "      <td>training</td>\n",
       "      <td>yes</td>\n",
       "      <td>0</td>\n",
       "    </tr>\n",
       "    <tr>\n",
       "      <th>1</th>\n",
       "      <td>2</td>\n",
       "      <td>1</td>\n",
       "      <td>no</td>\n",
       "      <td>many</td>\n",
       "      <td>negative</td>\n",
       "      <td>small</td>\n",
       "      <td>clear</td>\n",
       "      <td>yellow</td>\n",
       "      <td>not_reported</td>\n",
       "      <td>negative</td>\n",
       "      <td>...</td>\n",
       "      <td>No</td>\n",
       "      <td>No</td>\n",
       "      <td>No</td>\n",
       "      <td>No</td>\n",
       "      <td>Yes</td>\n",
       "      <td>Admit</td>\n",
       "      <td>Yes</td>\n",
       "      <td>training</td>\n",
       "      <td>yes</td>\n",
       "      <td>0</td>\n",
       "    </tr>\n",
       "    <tr>\n",
       "      <th>2</th>\n",
       "      <td>3</td>\n",
       "      <td>2</td>\n",
       "      <td>yes</td>\n",
       "      <td>few</td>\n",
       "      <td>negative</td>\n",
       "      <td>negative</td>\n",
       "      <td>clear</td>\n",
       "      <td>yellow</td>\n",
       "      <td>small</td>\n",
       "      <td>negative</td>\n",
       "      <td>...</td>\n",
       "      <td>No</td>\n",
       "      <td>No</td>\n",
       "      <td>Yes</td>\n",
       "      <td>Yes</td>\n",
       "      <td>No</td>\n",
       "      <td>Discharge</td>\n",
       "      <td>No</td>\n",
       "      <td>training</td>\n",
       "      <td>no</td>\n",
       "      <td>0</td>\n",
       "    </tr>\n",
       "    <tr>\n",
       "      <th>3</th>\n",
       "      <td>4</td>\n",
       "      <td>3</td>\n",
       "      <td>yes</td>\n",
       "      <td>many</td>\n",
       "      <td>negative</td>\n",
       "      <td>negative</td>\n",
       "      <td>not_clear</td>\n",
       "      <td>yellow</td>\n",
       "      <td>not_reported</td>\n",
       "      <td>negative</td>\n",
       "      <td>...</td>\n",
       "      <td>No</td>\n",
       "      <td>No</td>\n",
       "      <td>No</td>\n",
       "      <td>No</td>\n",
       "      <td>Yes</td>\n",
       "      <td>Admit</td>\n",
       "      <td>Yes</td>\n",
       "      <td>training</td>\n",
       "      <td>yes</td>\n",
       "      <td>0</td>\n",
       "    </tr>\n",
       "    <tr>\n",
       "      <th>4</th>\n",
       "      <td>5</td>\n",
       "      <td>4</td>\n",
       "      <td>no</td>\n",
       "      <td>moderate</td>\n",
       "      <td>small</td>\n",
       "      <td>negative</td>\n",
       "      <td>clear</td>\n",
       "      <td>orange</td>\n",
       "      <td>not_reported</td>\n",
       "      <td>negative</td>\n",
       "      <td>...</td>\n",
       "      <td>No</td>\n",
       "      <td>No</td>\n",
       "      <td>No</td>\n",
       "      <td>No</td>\n",
       "      <td>No</td>\n",
       "      <td>AMA</td>\n",
       "      <td>No</td>\n",
       "      <td>training</td>\n",
       "      <td>no</td>\n",
       "      <td>0</td>\n",
       "    </tr>\n",
       "  </tbody>\n",
       "</table>\n",
       "<p>5 rows × 220 columns</p>\n",
       "</div>"
      ],
      "text/plain": [
       "   ID  PATID UCX_abnormal ua_bacteria   ua_bili  ua_blood ua_clarity ua_color  \\\n",
       "0   1      1          yes         few  negative  negative      clear   yellow   \n",
       "1   2      1           no        many  negative     small      clear   yellow   \n",
       "2   3      2          yes         few  negative  negative      clear   yellow   \n",
       "3   4      3          yes        many  negative  negative  not_clear   yellow   \n",
       "4   5      4           no    moderate     small  negative      clear   orange   \n",
       "\n",
       "         ua_epi ua_glucose   ...    SKIN_PREPS SMOKING_DETERRENTS  \\\n",
       "0         small   negative   ...            No                 No   \n",
       "1  not_reported   negative   ...            No                 No   \n",
       "2         small   negative   ...            No                 No   \n",
       "3  not_reported   negative   ...            No                 No   \n",
       "4  not_reported   negative   ...            No                 No   \n",
       "\n",
       "  THYROID_PREPS UNCLASSIFIED_DRUG_PRODUCTS VITAMINS      dispo  UTI_diag  \\\n",
       "0            No                         No       No      Admit       Yes   \n",
       "1            No                         No      Yes      Admit       Yes   \n",
       "2           Yes                        Yes       No  Discharge        No   \n",
       "3            No                         No      Yes      Admit       Yes   \n",
       "4            No                         No       No        AMA        No   \n",
       "\n",
       "      split abxUTI alt_diag  \n",
       "0  training    yes        0  \n",
       "1  training    yes        0  \n",
       "2  training     no        0  \n",
       "3  training    yes        0  \n",
       "4  training     no        0  \n",
       "\n",
       "[5 rows x 220 columns]"
      ]
     },
     "execution_count": 89,
     "metadata": {},
     "output_type": "execute_result"
    }
   ],
   "source": [
    "data = pd.read_csv(\"S1_File.csv\", sep = \",\", header = 0)\n",
    "data.head()"
   ]
  },
  {
   "cell_type": "code",
   "execution_count": 90,
   "metadata": {},
   "outputs": [
    {
     "data": {
      "text/plain": [
       "ID                                                   0\n",
       "PATID                                                0\n",
       "UCX_abnormal                                         0\n",
       "ua_bacteria                                          0\n",
       "ua_bili                                              0\n",
       "ua_blood                                             0\n",
       "ua_clarity                                           0\n",
       "ua_color                                             0\n",
       "ua_epi                                               0\n",
       "ua_glucose                                           0\n",
       "ua_ketones                                           0\n",
       "ua_leuk                                              0\n",
       "ua_nitrite                                           0\n",
       "ua_ph                                                0\n",
       "ua_protein                                           0\n",
       "ua_rbc                                               0\n",
       "ua_spec_grav                                         0\n",
       "ua_urobili                                           0\n",
       "ua_wbc                                               0\n",
       "CVA_tenderness                                       0\n",
       "abd_tenderness                                       0\n",
       "abd_soft                                             0\n",
       "abd_distended                                        0\n",
       "abd_gaurding                                         0\n",
       "abd_mass                                             0\n",
       "abd_rebound                                          0\n",
       "abd_rigidity                                         0\n",
       "back_pain                                            0\n",
       "fatigue                                              0\n",
       "fever                                                0\n",
       "                                                    ..\n",
       "CARDIAC_DRUGS                                        0\n",
       "CARDIOVASCULAR                                       0\n",
       "CNS_DRUGS                                            0\n",
       "COLONY_STIMULATING_FACTORS                           0\n",
       "CONTRACEPTIVES                                       0\n",
       "COUGH_COLD_PREPARATIONS                              0\n",
       "DIAGNOSTIC                                           0\n",
       "DIURETICS                                            0\n",
       "EENT_PREPS                                           0\n",
       "ELECT_CALORIC_H2O                                    0\n",
       "GASTROINTESTINAL                                     0\n",
       "HERBALS                                              0\n",
       "HORMONES                                             0\n",
       "IMMUNOSUPPRESANT                                     0\n",
       "INVESTIGATIONAL                                      0\n",
       "MISCELLANEOUS_MEDICAL_SUPPLIES__DEVICES__NON_DRUG    0\n",
       "MUSCLE_RELAXANTS                                     0\n",
       "PRE_NATAL_VITAMINS                                   0\n",
       "PSYCHOTHERAPEUTIC_DRUGS                              0\n",
       "SEDATIVE_HYPNOTICS                                   0\n",
       "SKIN_PREPS                                           0\n",
       "SMOKING_DETERRENTS                                   0\n",
       "THYROID_PREPS                                        0\n",
       "UNCLASSIFIED_DRUG_PRODUCTS                           0\n",
       "VITAMINS                                             0\n",
       "dispo                                                0\n",
       "UTI_diag                                             0\n",
       "split                                                0\n",
       "abxUTI                                               0\n",
       "alt_diag                                             0\n",
       "Length: 220, dtype: int64"
      ]
     },
     "execution_count": 90,
     "metadata": {},
     "output_type": "execute_result"
    }
   ],
   "source": [
    "data.isnull().sum()"
   ]
  },
  {
   "cell_type": "markdown",
   "metadata": {},
   "source": [
    "#### specific gravity contains implausible values (see min,max); pH contains missing and not_reported values; age has missing values"
   ]
  },
  {
   "cell_type": "code",
   "execution_count": 91,
   "metadata": {},
   "outputs": [
    {
     "data": {
      "text/html": [
       "<div>\n",
       "<style>\n",
       "    .dataframe thead tr:only-child th {\n",
       "        text-align: right;\n",
       "    }\n",
       "\n",
       "    .dataframe thead th {\n",
       "        text-align: left;\n",
       "    }\n",
       "\n",
       "    .dataframe tbody tr th {\n",
       "        vertical-align: top;\n",
       "    }\n",
       "</style>\n",
       "<table border=\"1\" class=\"dataframe\">\n",
       "  <thead>\n",
       "    <tr style=\"text-align: right;\">\n",
       "      <th></th>\n",
       "      <th>ID</th>\n",
       "      <th>PATID</th>\n",
       "      <th>ua_spec_grav</th>\n",
       "      <th>age</th>\n",
       "      <th>alt_diag</th>\n",
       "    </tr>\n",
       "  </thead>\n",
       "  <tbody>\n",
       "    <tr>\n",
       "      <th>count</th>\n",
       "      <td>80387.000000</td>\n",
       "      <td>80387.000000</td>\n",
       "      <td>80387.000000</td>\n",
       "      <td>80387.000000</td>\n",
       "      <td>80387.000000</td>\n",
       "    </tr>\n",
       "    <tr>\n",
       "      <th>mean</th>\n",
       "      <td>40194.000000</td>\n",
       "      <td>27160.079602</td>\n",
       "      <td>1.019084</td>\n",
       "      <td>53.801436</td>\n",
       "      <td>0.056029</td>\n",
       "    </tr>\n",
       "    <tr>\n",
       "      <th>std</th>\n",
       "      <td>23205.872382</td>\n",
       "      <td>16045.123111</td>\n",
       "      <td>0.018803</td>\n",
       "      <td>22.250829</td>\n",
       "      <td>0.229979</td>\n",
       "    </tr>\n",
       "    <tr>\n",
       "      <th>min</th>\n",
       "      <td>1.000000</td>\n",
       "      <td>1.000000</td>\n",
       "      <td>0.018000</td>\n",
       "      <td>18.000000</td>\n",
       "      <td>0.000000</td>\n",
       "    </tr>\n",
       "    <tr>\n",
       "      <th>25%</th>\n",
       "      <td>20097.500000</td>\n",
       "      <td>13267.500000</td>\n",
       "      <td>1.013000</td>\n",
       "      <td>34.000000</td>\n",
       "      <td>0.000000</td>\n",
       "    </tr>\n",
       "    <tr>\n",
       "      <th>50%</th>\n",
       "      <td>40194.000000</td>\n",
       "      <td>26693.000000</td>\n",
       "      <td>1.018000</td>\n",
       "      <td>53.000000</td>\n",
       "      <td>0.000000</td>\n",
       "    </tr>\n",
       "    <tr>\n",
       "      <th>75%</th>\n",
       "      <td>60290.500000</td>\n",
       "      <td>40826.500000</td>\n",
       "      <td>1.025000</td>\n",
       "      <td>72.000000</td>\n",
       "      <td>0.000000</td>\n",
       "    </tr>\n",
       "    <tr>\n",
       "      <th>max</th>\n",
       "      <td>80387.000000</td>\n",
       "      <td>55365.000000</td>\n",
       "      <td>5.500000</td>\n",
       "      <td>109.000000</td>\n",
       "      <td>1.000000</td>\n",
       "    </tr>\n",
       "  </tbody>\n",
       "</table>\n",
       "</div>"
      ],
      "text/plain": [
       "                 ID         PATID  ua_spec_grav           age      alt_diag\n",
       "count  80387.000000  80387.000000  80387.000000  80387.000000  80387.000000\n",
       "mean   40194.000000  27160.079602      1.019084     53.801436      0.056029\n",
       "std    23205.872382  16045.123111      0.018803     22.250829      0.229979\n",
       "min        1.000000      1.000000      0.018000     18.000000      0.000000\n",
       "25%    20097.500000  13267.500000      1.013000     34.000000      0.000000\n",
       "50%    40194.000000  26693.000000      1.018000     53.000000      0.000000\n",
       "75%    60290.500000  40826.500000      1.025000     72.000000      0.000000\n",
       "max    80387.000000  55365.000000      5.500000    109.000000      1.000000"
      ]
     },
     "execution_count": 91,
     "metadata": {},
     "output_type": "execute_result"
    }
   ],
   "source": [
    "data.describe()"
   ]
  },
  {
   "cell_type": "code",
   "execution_count": 92,
   "metadata": {},
   "outputs": [
    {
     "data": {
      "text/plain": [
       "6               31571\n",
       "6.5             16129\n",
       "5.5             11572\n",
       "7               11058\n",
       "7.5              5443\n",
       "8                1914\n",
       "5                1911\n",
       "8.5               657\n",
       "other              99\n",
       "not_reported       28\n",
       "9                   5\n",
       "Name: ua_ph, dtype: int64"
      ]
     },
     "execution_count": 92,
     "metadata": {},
     "output_type": "execute_result"
    }
   ],
   "source": [
    "data.ua_ph.value_counts()"
   ]
  },
  {
   "cell_type": "code",
   "execution_count": 93,
   "metadata": {},
   "outputs": [
    {
     "data": {
      "text/plain": [
       "Female          54725\n",
       "Male            24584\n",
       "not_reported     1078\n",
       "Name: gender, dtype: int64"
      ]
     },
     "execution_count": 93,
     "metadata": {},
     "output_type": "execute_result"
    }
   ],
   "source": [
    "data.gender.value_counts()"
   ]
  },
  {
   "cell_type": "markdown",
   "metadata": {},
   "source": [
    "#### drop not_reported gender and ph, and implausible specific gravity"
   ]
  },
  {
   "cell_type": "code",
   "execution_count": 218,
   "metadata": {},
   "outputs": [],
   "source": [
    "sg_low = data['ua_spec_grav']< 1\n",
    "sg_high = data['ua_spec_grav']> 1.5\n",
    "ph_basic = data['ua_ph'] > 8\n",
    "data.drop(data[sg_low].index, axis=0,inplace=True)\n",
    "data.drop(data[sg_high].index, axis=0,inplace=True)\n",
    "data.drop(data[ph_basic].index, axis=0,inplace=True)"
   ]
  },
  {
   "cell_type": "code",
   "execution_count": 95,
   "metadata": {},
   "outputs": [
    {
     "name": "stderr",
     "output_type": "stream",
     "text": [
      "C:\\ProgramData\\Anaconda2\\lib\\site-packages\\ipykernel_launcher.py:4: UserWarning: Boolean Series key will be reindexed to match DataFrame index.\n",
      "  after removing the cwd from sys.path.\n"
     ]
    }
   ],
   "source": [
    "drop_gend = data['gender']=='not_reported'\n",
    "drop_ph = (data['ua_ph']=='other') | (data['ua_ph']=='not_reported')\n",
    "data.drop(data[drop_gend].index ,axis=0, inplace=True)\n",
    "data.drop(data[drop_ph].index ,axis=0, inplace=True)"
   ]
  },
  {
   "cell_type": "code",
   "execution_count": 96,
   "metadata": {},
   "outputs": [
    {
     "data": {
      "text/plain": [
       "Female    54655\n",
       "Male      24528\n",
       "Name: gender, dtype: int64"
      ]
     },
     "execution_count": 96,
     "metadata": {},
     "output_type": "execute_result"
    }
   ],
   "source": [
    "data.gender.value_counts()"
   ]
  },
  {
   "cell_type": "code",
   "execution_count": 97,
   "metadata": {},
   "outputs": [
    {
     "data": {
      "text/plain": [
       "6      31121\n",
       "6.5    15920\n",
       "5.5    11430\n",
       "7      10886\n",
       "7.5     5384\n",
       "8       1895\n",
       "5       1895\n",
       "8.5      647\n",
       "9          5\n",
       "Name: ua_ph, dtype: int64"
      ]
     },
     "execution_count": 97,
     "metadata": {},
     "output_type": "execute_result"
    }
   ],
   "source": [
    "data.ua_ph.value_counts()  # urine pH levels are generally between 6-8; I dropped the higher observation later."
   ]
  },
  {
   "cell_type": "code",
   "execution_count": 98,
   "metadata": {},
   "outputs": [
    {
     "data": {
      "text/html": [
       "<div>\n",
       "<style>\n",
       "    .dataframe thead tr:only-child th {\n",
       "        text-align: right;\n",
       "    }\n",
       "\n",
       "    .dataframe thead th {\n",
       "        text-align: left;\n",
       "    }\n",
       "\n",
       "    .dataframe tbody tr th {\n",
       "        vertical-align: top;\n",
       "    }\n",
       "</style>\n",
       "<table border=\"1\" class=\"dataframe\">\n",
       "  <thead>\n",
       "    <tr style=\"text-align: right;\">\n",
       "      <th></th>\n",
       "      <th>ID</th>\n",
       "      <th>PATID</th>\n",
       "      <th>UCX_abnormal</th>\n",
       "      <th>ua_bacteria</th>\n",
       "      <th>ua_bili</th>\n",
       "      <th>ua_blood</th>\n",
       "      <th>ua_clarity</th>\n",
       "      <th>ua_color</th>\n",
       "      <th>ua_epi</th>\n",
       "      <th>ua_glucose</th>\n",
       "      <th>...</th>\n",
       "      <th>SKIN_PREPS</th>\n",
       "      <th>SMOKING_DETERRENTS</th>\n",
       "      <th>THYROID_PREPS</th>\n",
       "      <th>UNCLASSIFIED_DRUG_PRODUCTS</th>\n",
       "      <th>VITAMINS</th>\n",
       "      <th>dispo</th>\n",
       "      <th>UTI_diag</th>\n",
       "      <th>split</th>\n",
       "      <th>abxUTI</th>\n",
       "      <th>alt_diag</th>\n",
       "    </tr>\n",
       "  </thead>\n",
       "  <tbody>\n",
       "    <tr>\n",
       "      <th>0</th>\n",
       "      <td>1</td>\n",
       "      <td>1</td>\n",
       "      <td>yes</td>\n",
       "      <td>few</td>\n",
       "      <td>negative</td>\n",
       "      <td>negative</td>\n",
       "      <td>clear</td>\n",
       "      <td>yellow</td>\n",
       "      <td>small</td>\n",
       "      <td>negative</td>\n",
       "      <td>...</td>\n",
       "      <td>No</td>\n",
       "      <td>No</td>\n",
       "      <td>No</td>\n",
       "      <td>No</td>\n",
       "      <td>No</td>\n",
       "      <td>Admit</td>\n",
       "      <td>Yes</td>\n",
       "      <td>training</td>\n",
       "      <td>yes</td>\n",
       "      <td>0</td>\n",
       "    </tr>\n",
       "    <tr>\n",
       "      <th>1</th>\n",
       "      <td>2</td>\n",
       "      <td>1</td>\n",
       "      <td>no</td>\n",
       "      <td>many</td>\n",
       "      <td>negative</td>\n",
       "      <td>small</td>\n",
       "      <td>clear</td>\n",
       "      <td>yellow</td>\n",
       "      <td>not_reported</td>\n",
       "      <td>negative</td>\n",
       "      <td>...</td>\n",
       "      <td>No</td>\n",
       "      <td>No</td>\n",
       "      <td>No</td>\n",
       "      <td>No</td>\n",
       "      <td>Yes</td>\n",
       "      <td>Admit</td>\n",
       "      <td>Yes</td>\n",
       "      <td>training</td>\n",
       "      <td>yes</td>\n",
       "      <td>0</td>\n",
       "    </tr>\n",
       "    <tr>\n",
       "      <th>2</th>\n",
       "      <td>3</td>\n",
       "      <td>2</td>\n",
       "      <td>yes</td>\n",
       "      <td>few</td>\n",
       "      <td>negative</td>\n",
       "      <td>negative</td>\n",
       "      <td>clear</td>\n",
       "      <td>yellow</td>\n",
       "      <td>small</td>\n",
       "      <td>negative</td>\n",
       "      <td>...</td>\n",
       "      <td>No</td>\n",
       "      <td>No</td>\n",
       "      <td>Yes</td>\n",
       "      <td>Yes</td>\n",
       "      <td>No</td>\n",
       "      <td>Discharge</td>\n",
       "      <td>No</td>\n",
       "      <td>training</td>\n",
       "      <td>no</td>\n",
       "      <td>0</td>\n",
       "    </tr>\n",
       "    <tr>\n",
       "      <th>3</th>\n",
       "      <td>4</td>\n",
       "      <td>3</td>\n",
       "      <td>yes</td>\n",
       "      <td>many</td>\n",
       "      <td>negative</td>\n",
       "      <td>negative</td>\n",
       "      <td>not_clear</td>\n",
       "      <td>yellow</td>\n",
       "      <td>not_reported</td>\n",
       "      <td>negative</td>\n",
       "      <td>...</td>\n",
       "      <td>No</td>\n",
       "      <td>No</td>\n",
       "      <td>No</td>\n",
       "      <td>No</td>\n",
       "      <td>Yes</td>\n",
       "      <td>Admit</td>\n",
       "      <td>Yes</td>\n",
       "      <td>training</td>\n",
       "      <td>yes</td>\n",
       "      <td>0</td>\n",
       "    </tr>\n",
       "    <tr>\n",
       "      <th>4</th>\n",
       "      <td>5</td>\n",
       "      <td>4</td>\n",
       "      <td>no</td>\n",
       "      <td>moderate</td>\n",
       "      <td>small</td>\n",
       "      <td>negative</td>\n",
       "      <td>clear</td>\n",
       "      <td>orange</td>\n",
       "      <td>not_reported</td>\n",
       "      <td>negative</td>\n",
       "      <td>...</td>\n",
       "      <td>No</td>\n",
       "      <td>No</td>\n",
       "      <td>No</td>\n",
       "      <td>No</td>\n",
       "      <td>No</td>\n",
       "      <td>AMA</td>\n",
       "      <td>No</td>\n",
       "      <td>training</td>\n",
       "      <td>no</td>\n",
       "      <td>0</td>\n",
       "    </tr>\n",
       "  </tbody>\n",
       "</table>\n",
       "<p>5 rows × 220 columns</p>\n",
       "</div>"
      ],
      "text/plain": [
       "   ID  PATID UCX_abnormal ua_bacteria   ua_bili  ua_blood ua_clarity ua_color  \\\n",
       "0   1      1          yes         few  negative  negative      clear   yellow   \n",
       "1   2      1           no        many  negative     small      clear   yellow   \n",
       "2   3      2          yes         few  negative  negative      clear   yellow   \n",
       "3   4      3          yes        many  negative  negative  not_clear   yellow   \n",
       "4   5      4           no    moderate     small  negative      clear   orange   \n",
       "\n",
       "         ua_epi ua_glucose   ...    SKIN_PREPS SMOKING_DETERRENTS  \\\n",
       "0         small   negative   ...            No                 No   \n",
       "1  not_reported   negative   ...            No                 No   \n",
       "2         small   negative   ...            No                 No   \n",
       "3  not_reported   negative   ...            No                 No   \n",
       "4  not_reported   negative   ...            No                 No   \n",
       "\n",
       "  THYROID_PREPS UNCLASSIFIED_DRUG_PRODUCTS VITAMINS      dispo  UTI_diag  \\\n",
       "0            No                         No       No      Admit       Yes   \n",
       "1            No                         No      Yes      Admit       Yes   \n",
       "2           Yes                        Yes       No  Discharge        No   \n",
       "3            No                         No      Yes      Admit       Yes   \n",
       "4            No                         No       No        AMA        No   \n",
       "\n",
       "      split abxUTI alt_diag  \n",
       "0  training    yes        0  \n",
       "1  training    yes        0  \n",
       "2  training     no        0  \n",
       "3  training    yes        0  \n",
       "4  training     no        0  \n",
       "\n",
       "[5 rows x 220 columns]"
      ]
     },
     "execution_count": 98,
     "metadata": {},
     "output_type": "execute_result"
    }
   ],
   "source": [
    "data.head()"
   ]
  },
  {
   "cell_type": "code",
   "execution_count": 30,
   "metadata": {
    "collapsed": true
   },
   "outputs": [],
   "source": [
    "# there are 47 features where not_recorded > 20% of observation\n",
    "d = {}\n",
    "for i, col in enumerate(ed.columns):\n",
    "    d.update({col:exp_counts[i]})\n",
    "d2 = pd.Series(d,index=d.keys())\n",
    "d3 = pd.DataFrame(d2)\n",
    "d3.columns = [\"val\"]\n",
    "d3 = d3[d3[\"val\"] >0]\n",
    "d3[\"perc\"] = d3[\"val\"] / df.shape[0] * 100\n",
    "d3.sort_values(\"perc\", ascending = False, inplace = True)\n",
    "d3 = d3[d3[\"perc\"] > 20.0]\n",
    "len(d3)\n",
    "d3"
   ]
  },
  {
   "cell_type": "markdown",
   "metadata": {},
   "source": [
    "#### drop features that were previously discretized - no codebook and will not be interpretable in this model"
   ]
  },
  {
   "cell_type": "code",
   "execution_count": 99,
   "metadata": {},
   "outputs": [
    {
     "name": "stdout",
     "output_type": "stream",
     "text": [
      "(19, 46)\n"
     ]
    }
   ],
   "source": [
    "print(data.columns.get_loc(\"CVA_tenderness\"), data.columns.get_loc(\"polyuria\"))"
   ]
  },
  {
   "cell_type": "code",
   "execution_count": 100,
   "metadata": {},
   "outputs": [],
   "source": [
    "ua_drop = [\"ua_bacteria\", \"ua_epi\", \"ua_rbc\", \"ua_wbc\"]\n",
    "phys_drop = data.iloc[:,19:47]  #CVA_tenderness through polyuria\n",
    "labs_drop = [\"Absolute_Lymphocyte_Count\",\"Alanine_Aminotransferase\",\"Alkaline_Phosphatase\",\"ANC\",\"Aspartate_Aminotransferase\",\n",
    "             \"Basophils\",\"Eosinophils\",\"Lymphocytes\",\"Monocytes\",\"Neutrophils\",\"RDW\"]\n",
    "vitals_drop = [\"GCS_Last\",\"GCS_First\",\"O2_Amount_First\",\"O2_Amount_Max\",\"O2_Amount_Last\",\"O2_Amount_Min\",\"O2_Amount_Mean\",\n",
    "               \"O2_Dependency_Last\"]\n",
    "\n",
    "vitals2_drop = ['Temp_Last', 'Temp_Max', 'Temp_Min', 'Temp_Mean',\n",
    "                'HR_Last', 'HR_Max', 'HR_Min', 'HR_Mean',\n",
    "                'SBP_Last', 'SBP_Max', 'SBP_Min', 'SBP_Mean',\n",
    "                'DBP_Last', 'DBP_Max', 'DBP_Min', 'DBP_Mean', \n",
    "                'RR_Last', 'RR_Max', 'RR_Min', 'RR_Mean', \n",
    "                'O2_Sat_Last', 'O2_Sat_Max', 'O2_Sat_Min', 'O2_Sat_Mean']\n",
    "\n",
    "drop_list = [ua_drop,phys_drop,labs_drop,vitals_drop,vitals2_drop]\n",
    "\n",
    "for d in drop_list:\n",
    "    data.drop(d, axis=1,inplace=True)    "
   ]
  },
  {
   "cell_type": "markdown",
   "metadata": {},
   "source": [
    "this one got missed (hospital-specific feature):"
   ]
  },
  {
   "cell_type": "code",
   "execution_count": 252,
   "metadata": {
    "collapsed": true
   },
   "outputs": [],
   "source": [
    "data.drop('dispo', axis=1,inplace=True)  "
   ]
  },
  {
   "cell_type": "markdown",
   "metadata": {},
   "source": [
    "#### Recode prior history and outpatient med columns"
   ]
  },
  {
   "cell_type": "code",
   "execution_count": 101,
   "metadata": {},
   "outputs": [
    {
     "name": "stdout",
     "output_type": "stream",
     "text": [
      "(52, 91)\n",
      "(92, 139)\n"
     ]
    }
   ],
   "source": [
    "print(data.columns.get_loc(\"Abdominal_hernia\"), data.columns.get_loc(\"Urinary_tract_infections\"))\n",
    "print(data.columns.get_loc(\"ANALGESIC_AND_ANTIHISTAMINE_COMBINATION\"), data.columns.get_loc(\"VITAMINS\"))"
   ]
  },
  {
   "cell_type": "code",
   "execution_count": 102,
   "metadata": {
    "collapsed": true
   },
   "outputs": [],
   "source": [
    "prior_hist = data.columns[52:92]\n",
    "outpat_meds = data.columns[92:140]\n",
    "\n",
    "for var in prior_hist:\n",
    "    data[var] = pd.Series(np.where(data[var].values == \"Yes\", 1,0),data.index)\n",
    "    \n",
    "for var in outpat_meds:\n",
    "    data[var] = pd.Series(np.where(data[var].values == \"Yes\", 1,0),data.index) "
   ]
  },
  {
   "cell_type": "markdown",
   "metadata": {},
   "source": [
    "#### Prepare columns for dummy transformation, ua features, "
   ]
  },
  {
   "cell_type": "code",
   "execution_count": 103,
   "metadata": {},
   "outputs": [
    {
     "name": "stdout",
     "output_type": "stream",
     "text": [
      "(3, 14)\n",
      "(17, 23)\n",
      "15\n"
     ]
    }
   ],
   "source": [
    "print(data.columns.get_loc(\"ua_bili\"), data.columns.get_loc(\"ua_urobili\"))\n",
    "print(data.columns.get_loc(\"gender\"), data.columns.get_loc(\"insurance_status\")) # omit age (continuous); arr status - hosp-spec\n",
    "print(data.columns.get_loc(\"chief_complaint\"))"
   ]
  },
  {
   "cell_type": "code",
   "execution_count": 104,
   "metadata": {},
   "outputs": [
    {
     "data": {
      "text/plain": [
       "['ua_bili',\n",
       " 'ua_blood',\n",
       " 'ua_clarity',\n",
       " 'ua_color',\n",
       " 'ua_glucose',\n",
       " 'ua_ketones',\n",
       " 'ua_leuk',\n",
       " 'ua_nitrite',\n",
       " 'ua_protein',\n",
       " 'ua_urobili']"
      ]
     },
     "execution_count": 104,
     "metadata": {},
     "output_type": "execute_result"
    }
   ],
   "source": [
    "ua_list = list(data.columns[3:15])\n",
    "ua_list.remove(\"ua_ph\") # continuous variable\n",
    "ua_list.remove(\"ua_spec_grav\") # continuous variable\n",
    "ua_list"
   ]
  },
  {
   "cell_type": "code",
   "execution_count": 105,
   "metadata": {},
   "outputs": [
    {
     "data": {
      "text/plain": [
       "ABDOMINAL PAIN               23600\n",
       "other                        18541\n",
       "FLANK PAIN                    6287\n",
       "ALTERED MENTAL STATUS         4820\n",
       "EMESIS                        2957\n",
       "FEVER-9 WEEKS TO 74 YEARS     2020\n",
       "FEMALE GU PROBLEM             1869\n",
       "SHORTNESS OF BREATH           1823\n",
       "CHEST PAIN                    1805\n",
       "MALE GU PROBLEM               1660\n",
       "BACK PAIN                     1656\n",
       "FATIGUE                       1652\n",
       "URINARY TRACT INFECTION       1458\n",
       "DIZZINESS                     1417\n",
       "FEVER                         1396\n",
       "WEAKNESS                      1290\n",
       "HEMATURIA                     1277\n",
       "DYSURIA                       1083\n",
       "FALL                          1021\n",
       "VAGINAL BLEEDING               990\n",
       "NEUROLOGIC PROBLEM             561\n",
       "Name: chief_complaint, dtype: int64"
      ]
     },
     "execution_count": 105,
     "metadata": {},
     "output_type": "execute_result"
    }
   ],
   "source": [
    "data.chief_complaint.value_counts()"
   ]
  },
  {
   "cell_type": "markdown",
   "metadata": {},
   "source": [
    "pd.get_dummies: did not run with drop_first=True"
   ]
  },
  {
   "cell_type": "code",
   "execution_count": 106,
   "metadata": {},
   "outputs": [],
   "source": [
    "complaint = [data.columns[15]]  # one feature with many levels\n",
    "demog_list = [data.columns[17:24]]\n",
    "\n",
    "dummy_list = [ua_list,complaint,demog_list]\n",
    "\n",
    "for dm in dummy_list:\n",
    "    for var in dm:\n",
    "        cat_list='var'+'_'+var\n",
    "        cat_list = pd.get_dummies(data[var],prefix = var, prefix_sep=\"_\")\n",
    "        data = pd.concat([data,cat_list], axis = 1)"
   ]
  },
  {
   "cell_type": "markdown",
   "metadata": {},
   "source": [
    "#### Drop the original columns made into dummies"
   ]
  },
  {
   "cell_type": "code",
   "execution_count": 111,
   "metadata": {},
   "outputs": [],
   "source": [
    "for d in dummy_list:\n",
    "    for var in d:\n",
    "        data.drop(var, axis=1,inplace=True) "
   ]
  },
  {
   "cell_type": "code",
   "execution_count": 127,
   "metadata": {},
   "outputs": [
    {
     "data": {
      "text/html": [
       "<div>\n",
       "<style>\n",
       "    .dataframe thead tr:only-child th {\n",
       "        text-align: right;\n",
       "    }\n",
       "\n",
       "    .dataframe thead th {\n",
       "        text-align: left;\n",
       "    }\n",
       "\n",
       "    .dataframe tbody tr th {\n",
       "        vertical-align: top;\n",
       "    }\n",
       "</style>\n",
       "<table border=\"1\" class=\"dataframe\">\n",
       "  <thead>\n",
       "    <tr style=\"text-align: right;\">\n",
       "      <th></th>\n",
       "      <th>PATID</th>\n",
       "      <th>ua_ph</th>\n",
       "      <th>ua_spec_grav</th>\n",
       "      <th>age</th>\n",
       "      <th>abx</th>\n",
       "      <th>Abdominal_hernia</th>\n",
       "      <th>Abdominal_pain</th>\n",
       "      <th>Acute_and_unspecified_renal_failure</th>\n",
       "      <th>Anal_and_rectal_conditions</th>\n",
       "      <th>Calculus_of_urinary_tract</th>\n",
       "      <th>...</th>\n",
       "      <th>employStatus_Student - Full Time</th>\n",
       "      <th>employStatus_Student - Part Time</th>\n",
       "      <th>employStatus_Unknown</th>\n",
       "      <th>insurance_status_Commercial</th>\n",
       "      <th>insurance_status_Medicaid</th>\n",
       "      <th>insurance_status_Medicare</th>\n",
       "      <th>insurance_status_Other</th>\n",
       "      <th>insurance_status_Self pay</th>\n",
       "      <th>dr_dx</th>\n",
       "      <th>true_dx</th>\n",
       "    </tr>\n",
       "  </thead>\n",
       "  <tbody>\n",
       "    <tr>\n",
       "      <th>0</th>\n",
       "      <td>1</td>\n",
       "      <td>7.5</td>\n",
       "      <td>1.020</td>\n",
       "      <td>83</td>\n",
       "      <td>Yes</td>\n",
       "      <td>0</td>\n",
       "      <td>0</td>\n",
       "      <td>0</td>\n",
       "      <td>0</td>\n",
       "      <td>0</td>\n",
       "      <td>...</td>\n",
       "      <td>0</td>\n",
       "      <td>0</td>\n",
       "      <td>0</td>\n",
       "      <td>1</td>\n",
       "      <td>0</td>\n",
       "      <td>0</td>\n",
       "      <td>0</td>\n",
       "      <td>0</td>\n",
       "      <td>1</td>\n",
       "      <td>1</td>\n",
       "    </tr>\n",
       "    <tr>\n",
       "      <th>1</th>\n",
       "      <td>1</td>\n",
       "      <td>6</td>\n",
       "      <td>1.017</td>\n",
       "      <td>81</td>\n",
       "      <td>Yes</td>\n",
       "      <td>0</td>\n",
       "      <td>0</td>\n",
       "      <td>0</td>\n",
       "      <td>0</td>\n",
       "      <td>0</td>\n",
       "      <td>...</td>\n",
       "      <td>0</td>\n",
       "      <td>0</td>\n",
       "      <td>0</td>\n",
       "      <td>0</td>\n",
       "      <td>0</td>\n",
       "      <td>1</td>\n",
       "      <td>0</td>\n",
       "      <td>0</td>\n",
       "      <td>1</td>\n",
       "      <td>0</td>\n",
       "    </tr>\n",
       "    <tr>\n",
       "      <th>2</th>\n",
       "      <td>2</td>\n",
       "      <td>5</td>\n",
       "      <td>1.016</td>\n",
       "      <td>78</td>\n",
       "      <td>No</td>\n",
       "      <td>0</td>\n",
       "      <td>0</td>\n",
       "      <td>0</td>\n",
       "      <td>0</td>\n",
       "      <td>0</td>\n",
       "      <td>...</td>\n",
       "      <td>0</td>\n",
       "      <td>0</td>\n",
       "      <td>0</td>\n",
       "      <td>0</td>\n",
       "      <td>0</td>\n",
       "      <td>1</td>\n",
       "      <td>0</td>\n",
       "      <td>0</td>\n",
       "      <td>0</td>\n",
       "      <td>1</td>\n",
       "    </tr>\n",
       "    <tr>\n",
       "      <th>3</th>\n",
       "      <td>3</td>\n",
       "      <td>5.5</td>\n",
       "      <td>1.016</td>\n",
       "      <td>84</td>\n",
       "      <td>Yes</td>\n",
       "      <td>0</td>\n",
       "      <td>0</td>\n",
       "      <td>0</td>\n",
       "      <td>0</td>\n",
       "      <td>0</td>\n",
       "      <td>...</td>\n",
       "      <td>0</td>\n",
       "      <td>0</td>\n",
       "      <td>0</td>\n",
       "      <td>1</td>\n",
       "      <td>0</td>\n",
       "      <td>0</td>\n",
       "      <td>0</td>\n",
       "      <td>0</td>\n",
       "      <td>1</td>\n",
       "      <td>1</td>\n",
       "    </tr>\n",
       "    <tr>\n",
       "      <th>4</th>\n",
       "      <td>4</td>\n",
       "      <td>6</td>\n",
       "      <td>1.030</td>\n",
       "      <td>55</td>\n",
       "      <td>No</td>\n",
       "      <td>0</td>\n",
       "      <td>0</td>\n",
       "      <td>0</td>\n",
       "      <td>0</td>\n",
       "      <td>0</td>\n",
       "      <td>...</td>\n",
       "      <td>0</td>\n",
       "      <td>0</td>\n",
       "      <td>0</td>\n",
       "      <td>1</td>\n",
       "      <td>0</td>\n",
       "      <td>0</td>\n",
       "      <td>0</td>\n",
       "      <td>0</td>\n",
       "      <td>0</td>\n",
       "      <td>0</td>\n",
       "    </tr>\n",
       "  </tbody>\n",
       "</table>\n",
       "<p>5 rows × 214 columns</p>\n",
       "</div>"
      ],
      "text/plain": [
       "   PATID ua_ph  ua_spec_grav  age  abx  Abdominal_hernia  Abdominal_pain  \\\n",
       "0      1   7.5         1.020   83  Yes                 0               0   \n",
       "1      1     6         1.017   81  Yes                 0               0   \n",
       "2      2     5         1.016   78   No                 0               0   \n",
       "3      3   5.5         1.016   84  Yes                 0               0   \n",
       "4      4     6         1.030   55   No                 0               0   \n",
       "\n",
       "   Acute_and_unspecified_renal_failure  Anal_and_rectal_conditions  \\\n",
       "0                                    0                           0   \n",
       "1                                    0                           0   \n",
       "2                                    0                           0   \n",
       "3                                    0                           0   \n",
       "4                                    0                           0   \n",
       "\n",
       "   Calculus_of_urinary_tract   ...     employStatus_Student - Full Time  \\\n",
       "0                          0   ...                                    0   \n",
       "1                          0   ...                                    0   \n",
       "2                          0   ...                                    0   \n",
       "3                          0   ...                                    0   \n",
       "4                          0   ...                                    0   \n",
       "\n",
       "   employStatus_Student - Part Time  employStatus_Unknown  \\\n",
       "0                                 0                     0   \n",
       "1                                 0                     0   \n",
       "2                                 0                     0   \n",
       "3                                 0                     0   \n",
       "4                                 0                     0   \n",
       "\n",
       "   insurance_status_Commercial  insurance_status_Medicaid  \\\n",
       "0                            1                          0   \n",
       "1                            0                          0   \n",
       "2                            0                          0   \n",
       "3                            1                          0   \n",
       "4                            1                          0   \n",
       "\n",
       "   insurance_status_Medicare  insurance_status_Other  \\\n",
       "0                          0                       0   \n",
       "1                          1                       0   \n",
       "2                          1                       0   \n",
       "3                          0                       0   \n",
       "4                          0                       0   \n",
       "\n",
       "   insurance_status_Self pay  dr_dx  true_dx  \n",
       "0                          0      1        1  \n",
       "1                          0      1        0  \n",
       "2                          0      0        1  \n",
       "3                          0      1        1  \n",
       "4                          0      0        0  \n",
       "\n",
       "[5 rows x 214 columns]"
      ]
     },
     "execution_count": 127,
     "metadata": {},
     "output_type": "execute_result"
    }
   ],
   "source": [
    "data.head()"
   ]
  },
  {
   "cell_type": "markdown",
   "metadata": {},
   "source": [
    "#### Rename and recode the doctor assessment column and the outcome variable"
   ]
  },
  {
   "cell_type": "code",
   "execution_count": 242,
   "metadata": {
    "collapsed": true
   },
   "outputs": [],
   "source": [
    "data[\"abx\"] = pd.Series(np.where(data[\"abx\"].values == \"Yes\", 1,0),data.index)\n",
    "data[\"dr_dx\"] = pd.Series(np.where(data[\"UTI_diag\"].values == \"Yes\", 1,0),data.index)\n",
    "data[\"true_dx\"] = pd.Series(np.where(data[\"UCX_abnormal\"].values == \"yes\", 1,0),data.index)"
   ]
  },
  {
   "cell_type": "code",
   "execution_count": 117,
   "metadata": {},
   "outputs": [],
   "source": [
    "# drop_cols = ['ID', \"UCX_abnormal\",'abxUTI','split','UTI_diag','disposition','arrival']\n",
    "drop_cols = ['disposition','arrival']\n",
    "for var in drop_cols:\n",
    "    data.drop(var, axis=1,inplace=True) "
   ]
  },
  {
   "cell_type": "markdown",
   "metadata": {},
   "source": [
    "#### Drop the remainder of the discretized vital columns"
   ]
  },
  {
   "cell_type": "code",
   "execution_count": 126,
   "metadata": {},
   "outputs": [],
   "source": [
    "vitals3 = data.columns[4:29]\n",
    "for var in vitals3:\n",
    "    data.drop(var, axis=1,inplace=True) "
   ]
  },
  {
   "cell_type": "code",
   "execution_count": 128,
   "metadata": {
    "collapsed": true
   },
   "outputs": [],
   "source": [
    "data.to_csv(\"yootassess_cleaned_072318.tsv\", sep='\\t')"
   ]
  },
  {
   "cell_type": "markdown",
   "metadata": {},
   "source": [
    "### Visualize the continuous variables"
   ]
  },
  {
   "cell_type": "code",
   "execution_count": 162,
   "metadata": {},
   "outputs": [
    {
     "data": {
      "text/plain": [
       "<matplotlib.legend.Legend at 0x161065c0>"
      ]
     },
     "execution_count": 162,
     "metadata": {},
     "output_type": "execute_result"
    },
    {
     "data": {
      "image/png": "[encoded data removed]",
      "text/plain": [
       "<matplotlib.figure.Figure at 0x16119a20>"
      ]
     },
     "metadata": {},
     "output_type": "display_data"
    }
   ],
   "source": [
    "fig, ax = plt.subplots(figsize=(6,4))\n",
    "ax.hist('ua_spec_grav', data=data,label=\"Specific Gravity\", bins=15, alpha=0.6)\n",
    "ax.legend()\n",
    "plt.show()"
   ]
  },
  {
   "cell_type": "markdown",
   "metadata": {},
   "source": [
    "#### pH has a discrete distribution"
   ]
  },
  {
   "cell_type": "code",
   "execution_count": 133,
   "metadata": {},
   "outputs": [
    {
     "data": {
      "text/plain": [
       "<matplotlib.axes._subplots.AxesSubplot at 0x16a64390>"
      ]
     },
     "execution_count": 133,
     "metadata": {},
     "output_type": "execute_result"
    },
    {
     "data": {
      "image/png": "[encoded data removed]",
      "text/plain": [
       "<matplotlib.figure.Figure at 0x161bde48>"
      ]
     },
     "metadata": {},
     "output_type": "display_data"
    }
   ],
   "source": [
    "data['ua_ph'].hist()"
   ]
  },
  {
   "cell_type": "markdown",
   "metadata": {},
   "source": [
    "#### Males with UTI are older than males with no UTI, and older than Females in both outcome categories"
   ]
  },
  {
   "cell_type": "code",
   "execution_count": 139,
   "metadata": {},
   "outputs": [
    {
     "data": {
      "image/png": "[encoded data removed]",
      "text/plain": [
       "<matplotlib.figure.Figure at 0x15069550>"
      ]
     },
     "metadata": {},
     "output_type": "display_data"
    }
   ],
   "source": [
    "fig, ax = plt.subplots(figsize=(8,4))\n",
    "sns.boxplot(x='gender_Female',y='age',data=data,hue='true_dx', ax=ax)\n",
    "ax.set_title('Age by Diagnosis')\n",
    "ax.set_xlabel('Male (0), Female(1)')\n",
    "ax.set_ylabel('Age')\n",
    "plt.show()"
   ]
  },
  {
   "cell_type": "code",
   "execution_count": 150,
   "metadata": {},
   "outputs": [
    {
     "data": {
      "image/png": "[encoded data removed]",
      "text/plain": [
       "<matplotlib.figure.Figure at 0x1759bd30>"
      ]
     },
     "metadata": {},
     "output_type": "display_data"
    }
   ],
   "source": [
    "sg_byDx = data.groupby(\"true_dx\")[\"ua_spec_grav\"]\n",
    "# fig, axes = plt.subplots(2,1,1, figsize=(12, 4))\n",
    "plt.subplot(1, 2, 1)\n",
    "sg_byDx.plot(kind='hist', figsize=[10,4], alpha=.4, legend=True, title = \"Specific gravity distrib. by UTI diagnosis\")\n",
    "plt.show()"
   ]
  },
  {
   "cell_type": "markdown",
   "metadata": {},
   "source": [
    "It was easier to see the age effect with the last iteration in which I subsampled the majority to balance the data set."
   ]
  },
  {
   "cell_type": "code",
   "execution_count": 151,
   "metadata": {},
   "outputs": [
    {
     "data": {
      "image/png": "[encoded data removed]",
      "text/plain": [
       "<matplotlib.figure.Figure at 0x119b6048>"
      ]
     },
     "metadata": {},
     "output_type": "display_data"
    }
   ],
   "source": [
    "age_byDx = data.groupby(\"true_dx\")[\"age\"]\n",
    "age_byDx.plot(kind='hist', figsize=[6,4], alpha=.4, legend=True, title = \"Age distribution by UTI diagnosis\")\n",
    "plt.show()"
   ]
  },
  {
   "cell_type": "code",
   "execution_count": 168,
   "metadata": {},
   "outputs": [
    {
     "data": {
      "text/html": [
       "<div>\n",
       "<style>\n",
       "    .dataframe thead tr:only-child th {\n",
       "        text-align: right;\n",
       "    }\n",
       "\n",
       "    .dataframe thead th {\n",
       "        text-align: left;\n",
       "    }\n",
       "\n",
       "    .dataframe tbody tr th {\n",
       "        vertical-align: top;\n",
       "    }\n",
       "</style>\n",
       "<table border=\"1\" class=\"dataframe\">\n",
       "  <thead>\n",
       "    <tr style=\"text-align: right;\">\n",
       "      <th></th>\n",
       "      <th>PATID</th>\n",
       "      <th>ua_spec_grav</th>\n",
       "      <th>age</th>\n",
       "      <th>Abdominal_hernia</th>\n",
       "      <th>Abdominal_pain</th>\n",
       "      <th>Acute_and_unspecified_renal_failure</th>\n",
       "      <th>Anal_and_rectal_conditions</th>\n",
       "      <th>Calculus_of_urinary_tract</th>\n",
       "      <th>Cancer</th>\n",
       "      <th>Chronic_renal_failure</th>\n",
       "      <th>...</th>\n",
       "      <th>employStatus_Self Employed</th>\n",
       "      <th>employStatus_Student - Full Time</th>\n",
       "      <th>employStatus_Student - Part Time</th>\n",
       "      <th>employStatus_Unknown</th>\n",
       "      <th>insurance_status_Commercial</th>\n",
       "      <th>insurance_status_Medicaid</th>\n",
       "      <th>insurance_status_Medicare</th>\n",
       "      <th>insurance_status_Other</th>\n",
       "      <th>insurance_status_Self pay</th>\n",
       "      <th>dr_dx</th>\n",
       "    </tr>\n",
       "    <tr>\n",
       "      <th>true_dx</th>\n",
       "      <th></th>\n",
       "      <th></th>\n",
       "      <th></th>\n",
       "      <th></th>\n",
       "      <th></th>\n",
       "      <th></th>\n",
       "      <th></th>\n",
       "      <th></th>\n",
       "      <th></th>\n",
       "      <th></th>\n",
       "      <th></th>\n",
       "      <th></th>\n",
       "      <th></th>\n",
       "      <th></th>\n",
       "      <th></th>\n",
       "      <th></th>\n",
       "      <th></th>\n",
       "      <th></th>\n",
       "      <th></th>\n",
       "      <th></th>\n",
       "      <th></th>\n",
       "    </tr>\n",
       "  </thead>\n",
       "  <tbody>\n",
       "    <tr>\n",
       "      <th>0</th>\n",
       "      <td>26288.335749</td>\n",
       "      <td>1.019265</td>\n",
       "      <td>52.647730</td>\n",
       "      <td>0.030868</td>\n",
       "      <td>0.014019</td>\n",
       "      <td>0.010306</td>\n",
       "      <td>0.004646</td>\n",
       "      <td>0.063273</td>\n",
       "      <td>0.085504</td>\n",
       "      <td>0.050317</td>\n",
       "      <td>...</td>\n",
       "      <td>0.026647</td>\n",
       "      <td>0.027629</td>\n",
       "      <td>0.002077</td>\n",
       "      <td>0.001848</td>\n",
       "      <td>0.360368</td>\n",
       "      <td>0.302313</td>\n",
       "      <td>0.261614</td>\n",
       "      <td>0.064729</td>\n",
       "      <td>0.010976</td>\n",
       "      <td>0.154633</td>\n",
       "    </tr>\n",
       "    <tr>\n",
       "      <th>1</th>\n",
       "      <td>30172.396986</td>\n",
       "      <td>1.018300</td>\n",
       "      <td>57.625229</td>\n",
       "      <td>0.029860</td>\n",
       "      <td>0.013074</td>\n",
       "      <td>0.015567</td>\n",
       "      <td>0.004598</td>\n",
       "      <td>0.071187</td>\n",
       "      <td>0.109357</td>\n",
       "      <td>0.066866</td>\n",
       "      <td>...</td>\n",
       "      <td>0.022658</td>\n",
       "      <td>0.025206</td>\n",
       "      <td>0.002161</td>\n",
       "      <td>0.001219</td>\n",
       "      <td>0.318154</td>\n",
       "      <td>0.271675</td>\n",
       "      <td>0.352612</td>\n",
       "      <td>0.050524</td>\n",
       "      <td>0.007036</td>\n",
       "      <td>0.414271</td>\n",
       "    </tr>\n",
       "  </tbody>\n",
       "</table>\n",
       "<p>2 rows × 210 columns</p>\n",
       "</div>"
      ],
      "text/plain": [
       "                PATID  ua_spec_grav        age  Abdominal_hernia  \\\n",
       "true_dx                                                            \n",
       "0        26288.335749      1.019265  52.647730          0.030868   \n",
       "1        30172.396986      1.018300  57.625229          0.029860   \n",
       "\n",
       "         Abdominal_pain  Acute_and_unspecified_renal_failure  \\\n",
       "true_dx                                                        \n",
       "0              0.014019                             0.010306   \n",
       "1              0.013074                             0.015567   \n",
       "\n",
       "         Anal_and_rectal_conditions  Calculus_of_urinary_tract    Cancer  \\\n",
       "true_dx                                                                    \n",
       "0                          0.004646                   0.063273  0.085504   \n",
       "1                          0.004598                   0.071187  0.109357   \n",
       "\n",
       "         Chronic_renal_failure    ...     employStatus_Self Employed  \\\n",
       "true_dx                           ...                                  \n",
       "0                     0.050317    ...                       0.026647   \n",
       "1                     0.066866    ...                       0.022658   \n",
       "\n",
       "         employStatus_Student - Full Time  employStatus_Student - Part Time  \\\n",
       "true_dx                                                                       \n",
       "0                                0.027629                          0.002077   \n",
       "1                                0.025206                          0.002161   \n",
       "\n",
       "         employStatus_Unknown  insurance_status_Commercial  \\\n",
       "true_dx                                                      \n",
       "0                    0.001848                     0.360368   \n",
       "1                    0.001219                     0.318154   \n",
       "\n",
       "         insurance_status_Medicaid  insurance_status_Medicare  \\\n",
       "true_dx                                                         \n",
       "0                         0.302313                   0.261614   \n",
       "1                         0.271675                   0.352612   \n",
       "\n",
       "         insurance_status_Other  insurance_status_Self pay     dr_dx  \n",
       "true_dx                                                               \n",
       "0                      0.064729                   0.010976  0.154633  \n",
       "1                      0.050524                   0.007036  0.414271  \n",
       "\n",
       "[2 rows x 210 columns]"
      ]
     },
     "execution_count": 168,
     "metadata": {},
     "output_type": "execute_result"
    }
   ],
   "source": [
    "data.groupby('true_dx').mean()"
   ]
  },
  {
   "cell_type": "markdown",
   "metadata": {},
   "source": [
    "### Look at correlations"
   ]
  },
  {
   "cell_type": "code",
   "execution_count": 170,
   "metadata": {},
   "outputs": [],
   "source": [
    "feat_corr = data.corr() "
   ]
  },
  {
   "cell_type": "code",
   "execution_count": 180,
   "metadata": {},
   "outputs": [
    {
     "data": {
      "text/plain": [
       "[('age', 'employStatus_Retired'),\n",
       " ('Diabetes_mellitus_without_complication', 'ANTIHYPERGLYCEMICS'),\n",
       " ('ua_glucose_not_reported', 'ua_ketones_not_reported'),\n",
       " ('ua_glucose_not_reported', 'ua_nitrite_not_reported'),\n",
       " ('ua_glucose_not_reported', 'ua_protein_not_reported'),\n",
       " ('ua_glucose_other', 'ua_protein_other'),\n",
       " ('ua_ketones_not_reported', 'ua_leuk_not_reported'),\n",
       " ('ua_ketones_not_reported', 'ua_nitrite_not_reported'),\n",
       " ('ua_ketones_not_reported', 'ua_protein_not_reported'),\n",
       " ('ua_ketones_other', 'ua_leuk_other'),\n",
       " ('ua_ketones_other', 'ua_nitrite_other'),\n",
       " ('ua_leuk_not_reported', 'ua_nitrite_not_reported'),\n",
       " ('ua_leuk_other', 'ua_nitrite_other'),\n",
       " ('ua_nitrite_not_reported', 'ua_protein_not_reported'),\n",
       " ('race_Other', 'ethnicity_Hispanic or Latino')]"
      ]
     },
     "execution_count": 180,
     "metadata": {},
     "output_type": "execute_result"
    }
   ],
   "source": [
    "indices = np.where(feat_corr > 0.7)\n",
    "indices = [(feat_corr.index[x], feat_corr.columns[y]) for x, y in zip(*indices)\n",
    "                                        if x != y and x < y]\n",
    "        \n",
    "indices"
   ]
  },
  {
   "cell_type": "markdown",
   "metadata": {},
   "source": [
    "### Scale the continuous variables"
   ]
  },
  {
   "cell_type": "code",
   "execution_count": 178,
   "metadata": {},
   "outputs": [
    {
     "name": "stdout",
     "output_type": "stream",
     "text": [
      "Mean after standardization:\n",
      "pH=0.00, Specific Gravity =0.00, Age =-0.00\n",
      "\n",
      "Standard deviation after standardization:\n",
      "pH=1.00, Specific Gravity =1.00, Age =1.00\n"
     ]
    }
   ],
   "source": [
    "std_scale = preprocessing.StandardScaler().fit(data[['ua_ph', 'ua_spec_grav','age']])\n",
    "data_std = std_scale.transform(data[['ua_ph', 'ua_spec_grav','age']])\n",
    "\n",
    "print('Mean after standardization:\\npH={:.2f}, Specific Gravity ={:.2f}, Age ={:.2f}'\n",
    "      .format(data_std[:,0].mean(), data_std[:,1].mean(),data_std[:,2].mean()))\n",
    "print('\\nStandard deviation after standardization:\\npH={:.2f}, Specific Gravity ={:.2f}, Age ={:.2f}'\n",
    "      .format(data_std[:,0].std(), data_std[:,1].std(),data_std[:,2].std()))"
   ]
  },
  {
   "cell_type": "markdown",
   "metadata": {},
   "source": [
    "#### From correlation matrix > 70%, remove not_reported columns, 'other' categories (not informative) and retired employ - corr with age"
   ]
  },
  {
   "cell_type": "code",
   "execution_count": 183,
   "metadata": {},
   "outputs": [
    {
     "data": {
      "text/plain": [
       "['ua_bili_not_reported',\n",
       " 'ua_clarity_not_reported',\n",
       " 'ua_color_not_reported',\n",
       " 'ua_glucose_not_reported',\n",
       " 'ua_ketones_not_reported',\n",
       " 'ua_leuk_not_reported',\n",
       " 'ua_nitrite_not_reported',\n",
       " 'ua_protein_not_reported',\n",
       " 'ua_urobili_not_reported',\n",
       " 'race_not_reported']"
      ]
     },
     "execution_count": 183,
     "metadata": {},
     "output_type": "execute_result"
    }
   ],
   "source": [
    "not_rep_cols = [col for col in data.columns if 'not_reported' in col]\n",
    "not_rep_cols"
   ]
  },
  {
   "cell_type": "code",
   "execution_count": 186,
   "metadata": {},
   "outputs": [
    {
     "data": {
      "text/plain": [
       "['ua_bili_other',\n",
       " 'ua_blood_other',\n",
       " 'ua_color_other',\n",
       " 'ua_glucose_other',\n",
       " 'ua_ketones_other',\n",
       " 'ua_leuk_other',\n",
       " 'ua_nitrite_other',\n",
       " 'ua_protein_other',\n",
       " 'chief_complaint_other']"
      ]
     },
     "execution_count": 186,
     "metadata": {},
     "output_type": "execute_result"
    }
   ],
   "source": [
    "other_cols = [col for col in data.columns if 'other' in col]\n",
    "other_cols.remove('Coronary_atherosclerosis_and_other_heart_disease')\n",
    "other_cols.remove('Delirium__dementia__and_amnestic_and_other_cognitive_disorders')\n",
    "other_cols.remove('Maintenance_chemotherapy__radiotherapy')\n",
    "other_cols"
   ]
  },
  {
   "cell_type": "code",
   "execution_count": 187,
   "metadata": {
    "collapsed": true
   },
   "outputs": [],
   "source": [
    "drop_oth_not_rep_cols = [other_cols,not_rep_cols]\n",
    "for var in drop_oth_not_rep_cols:\n",
    "    data.drop(var, axis=1,inplace=True) "
   ]
  },
  {
   "cell_type": "code",
   "execution_count": 189,
   "metadata": {
    "collapsed": true
   },
   "outputs": [],
   "source": [
    "data.drop('employStatus_Retired', axis=1, inplace=True)"
   ]
  },
  {
   "cell_type": "markdown",
   "metadata": {},
   "source": [
    "### Ready for cross-validation and model fit"
   ]
  },
  {
   "cell_type": "code",
   "execution_count": 253,
   "metadata": {},
   "outputs": [
    {
     "data": {
      "text/html": [
       "<div>\n",
       "<style>\n",
       "    .dataframe thead tr:only-child th {\n",
       "        text-align: right;\n",
       "    }\n",
       "\n",
       "    .dataframe thead th {\n",
       "        text-align: left;\n",
       "    }\n",
       "\n",
       "    .dataframe tbody tr th {\n",
       "        vertical-align: top;\n",
       "    }\n",
       "</style>\n",
       "<table border=\"1\" class=\"dataframe\">\n",
       "  <thead>\n",
       "    <tr style=\"text-align: right;\">\n",
       "      <th></th>\n",
       "      <th>PATID</th>\n",
       "      <th>ua_ph</th>\n",
       "      <th>ua_spec_grav</th>\n",
       "      <th>age</th>\n",
       "      <th>abx</th>\n",
       "      <th>Abdominal_hernia</th>\n",
       "      <th>Abdominal_pain</th>\n",
       "      <th>Acute_and_unspecified_renal_failure</th>\n",
       "      <th>Anal_and_rectal_conditions</th>\n",
       "      <th>Calculus_of_urinary_tract</th>\n",
       "      <th>...</th>\n",
       "      <th>employStatus_Student - Full Time</th>\n",
       "      <th>employStatus_Student - Part Time</th>\n",
       "      <th>employStatus_Unknown</th>\n",
       "      <th>insurance_status_Commercial</th>\n",
       "      <th>insurance_status_Medicaid</th>\n",
       "      <th>insurance_status_Medicare</th>\n",
       "      <th>insurance_status_Other</th>\n",
       "      <th>insurance_status_Self pay</th>\n",
       "      <th>dr_dx</th>\n",
       "      <th>true_dx</th>\n",
       "    </tr>\n",
       "  </thead>\n",
       "  <tbody>\n",
       "    <tr>\n",
       "      <th>0</th>\n",
       "      <td>1</td>\n",
       "      <td>7.5</td>\n",
       "      <td>1.020</td>\n",
       "      <td>83</td>\n",
       "      <td>1</td>\n",
       "      <td>0</td>\n",
       "      <td>0</td>\n",
       "      <td>0</td>\n",
       "      <td>0</td>\n",
       "      <td>0</td>\n",
       "      <td>...</td>\n",
       "      <td>0</td>\n",
       "      <td>0</td>\n",
       "      <td>0</td>\n",
       "      <td>1</td>\n",
       "      <td>0</td>\n",
       "      <td>0</td>\n",
       "      <td>0</td>\n",
       "      <td>0</td>\n",
       "      <td>1</td>\n",
       "      <td>1</td>\n",
       "    </tr>\n",
       "    <tr>\n",
       "      <th>1</th>\n",
       "      <td>1</td>\n",
       "      <td>6.0</td>\n",
       "      <td>1.017</td>\n",
       "      <td>81</td>\n",
       "      <td>1</td>\n",
       "      <td>0</td>\n",
       "      <td>0</td>\n",
       "      <td>0</td>\n",
       "      <td>0</td>\n",
       "      <td>0</td>\n",
       "      <td>...</td>\n",
       "      <td>0</td>\n",
       "      <td>0</td>\n",
       "      <td>0</td>\n",
       "      <td>0</td>\n",
       "      <td>0</td>\n",
       "      <td>1</td>\n",
       "      <td>0</td>\n",
       "      <td>0</td>\n",
       "      <td>1</td>\n",
       "      <td>0</td>\n",
       "    </tr>\n",
       "    <tr>\n",
       "      <th>2</th>\n",
       "      <td>2</td>\n",
       "      <td>5.0</td>\n",
       "      <td>1.016</td>\n",
       "      <td>78</td>\n",
       "      <td>0</td>\n",
       "      <td>0</td>\n",
       "      <td>0</td>\n",
       "      <td>0</td>\n",
       "      <td>0</td>\n",
       "      <td>0</td>\n",
       "      <td>...</td>\n",
       "      <td>0</td>\n",
       "      <td>0</td>\n",
       "      <td>0</td>\n",
       "      <td>0</td>\n",
       "      <td>0</td>\n",
       "      <td>1</td>\n",
       "      <td>0</td>\n",
       "      <td>0</td>\n",
       "      <td>0</td>\n",
       "      <td>1</td>\n",
       "    </tr>\n",
       "    <tr>\n",
       "      <th>3</th>\n",
       "      <td>3</td>\n",
       "      <td>5.5</td>\n",
       "      <td>1.016</td>\n",
       "      <td>84</td>\n",
       "      <td>1</td>\n",
       "      <td>0</td>\n",
       "      <td>0</td>\n",
       "      <td>0</td>\n",
       "      <td>0</td>\n",
       "      <td>0</td>\n",
       "      <td>...</td>\n",
       "      <td>0</td>\n",
       "      <td>0</td>\n",
       "      <td>0</td>\n",
       "      <td>1</td>\n",
       "      <td>0</td>\n",
       "      <td>0</td>\n",
       "      <td>0</td>\n",
       "      <td>0</td>\n",
       "      <td>1</td>\n",
       "      <td>1</td>\n",
       "    </tr>\n",
       "    <tr>\n",
       "      <th>4</th>\n",
       "      <td>4</td>\n",
       "      <td>6.0</td>\n",
       "      <td>1.030</td>\n",
       "      <td>55</td>\n",
       "      <td>0</td>\n",
       "      <td>0</td>\n",
       "      <td>0</td>\n",
       "      <td>0</td>\n",
       "      <td>0</td>\n",
       "      <td>0</td>\n",
       "      <td>...</td>\n",
       "      <td>0</td>\n",
       "      <td>0</td>\n",
       "      <td>0</td>\n",
       "      <td>1</td>\n",
       "      <td>0</td>\n",
       "      <td>0</td>\n",
       "      <td>0</td>\n",
       "      <td>0</td>\n",
       "      <td>0</td>\n",
       "      <td>0</td>\n",
       "    </tr>\n",
       "  </tbody>\n",
       "</table>\n",
       "<p>5 rows × 193 columns</p>\n",
       "</div>"
      ],
      "text/plain": [
       "   PATID  ua_ph  ua_spec_grav  age  abx  Abdominal_hernia  Abdominal_pain  \\\n",
       "0      1    7.5         1.020   83    1                 0               0   \n",
       "1      1    6.0         1.017   81    1                 0               0   \n",
       "2      2    5.0         1.016   78    0                 0               0   \n",
       "3      3    5.5         1.016   84    1                 0               0   \n",
       "4      4    6.0         1.030   55    0                 0               0   \n",
       "\n",
       "   Acute_and_unspecified_renal_failure  Anal_and_rectal_conditions  \\\n",
       "0                                    0                           0   \n",
       "1                                    0                           0   \n",
       "2                                    0                           0   \n",
       "3                                    0                           0   \n",
       "4                                    0                           0   \n",
       "\n",
       "   Calculus_of_urinary_tract   ...     employStatus_Student - Full Time  \\\n",
       "0                          0   ...                                    0   \n",
       "1                          0   ...                                    0   \n",
       "2                          0   ...                                    0   \n",
       "3                          0   ...                                    0   \n",
       "4                          0   ...                                    0   \n",
       "\n",
       "   employStatus_Student - Part Time  employStatus_Unknown  \\\n",
       "0                                 0                     0   \n",
       "1                                 0                     0   \n",
       "2                                 0                     0   \n",
       "3                                 0                     0   \n",
       "4                                 0                     0   \n",
       "\n",
       "   insurance_status_Commercial  insurance_status_Medicaid  \\\n",
       "0                            1                          0   \n",
       "1                            0                          0   \n",
       "2                            0                          0   \n",
       "3                            1                          0   \n",
       "4                            1                          0   \n",
       "\n",
       "   insurance_status_Medicare  insurance_status_Other  \\\n",
       "0                          0                       0   \n",
       "1                          1                       0   \n",
       "2                          1                       0   \n",
       "3                          0                       0   \n",
       "4                          0                       0   \n",
       "\n",
       "   insurance_status_Self pay  dr_dx  true_dx  \n",
       "0                          0      1        1  \n",
       "1                          0      1        0  \n",
       "2                          0      0        1  \n",
       "3                          0      1        1  \n",
       "4                          0      0        0  \n",
       "\n",
       "[5 rows x 193 columns]"
      ]
     },
     "execution_count": 253,
     "metadata": {},
     "output_type": "execute_result"
    }
   ],
   "source": [
    "df = data.copy()\n",
    "df.head()"
   ]
  },
  {
   "cell_type": "markdown",
   "metadata": {},
   "source": [
    "standardize variables in place to compare with sklearn standardization in 'data' vs 'df' standardized manually"
   ]
  },
  {
   "cell_type": "code",
   "execution_count": 254,
   "metadata": {},
   "outputs": [
    {
     "data": {
      "text/html": [
       "<div>\n",
       "<style>\n",
       "    .dataframe thead tr:only-child th {\n",
       "        text-align: right;\n",
       "    }\n",
       "\n",
       "    .dataframe thead th {\n",
       "        text-align: left;\n",
       "    }\n",
       "\n",
       "    .dataframe tbody tr th {\n",
       "        vertical-align: top;\n",
       "    }\n",
       "</style>\n",
       "<table border=\"1\" class=\"dataframe\">\n",
       "  <thead>\n",
       "    <tr style=\"text-align: right;\">\n",
       "      <th></th>\n",
       "      <th>PATID</th>\n",
       "      <th>ua_ph</th>\n",
       "      <th>ua_spec_grav</th>\n",
       "      <th>age</th>\n",
       "      <th>abx</th>\n",
       "      <th>Abdominal_hernia</th>\n",
       "      <th>Abdominal_pain</th>\n",
       "      <th>Acute_and_unspecified_renal_failure</th>\n",
       "      <th>Anal_and_rectal_conditions</th>\n",
       "      <th>Calculus_of_urinary_tract</th>\n",
       "      <th>...</th>\n",
       "      <th>employStatus_Student - Full Time</th>\n",
       "      <th>employStatus_Student - Part Time</th>\n",
       "      <th>employStatus_Unknown</th>\n",
       "      <th>insurance_status_Commercial</th>\n",
       "      <th>insurance_status_Medicaid</th>\n",
       "      <th>insurance_status_Medicare</th>\n",
       "      <th>insurance_status_Other</th>\n",
       "      <th>insurance_status_Self pay</th>\n",
       "      <th>dr_dx</th>\n",
       "      <th>true_dx</th>\n",
       "    </tr>\n",
       "  </thead>\n",
       "  <tbody>\n",
       "    <tr>\n",
       "      <th>0</th>\n",
       "      <td>1</td>\n",
       "      <td>1.873916</td>\n",
       "      <td>0.105358</td>\n",
       "      <td>1.302669</td>\n",
       "      <td>1</td>\n",
       "      <td>0</td>\n",
       "      <td>0</td>\n",
       "      <td>0</td>\n",
       "      <td>0</td>\n",
       "      <td>0</td>\n",
       "      <td>...</td>\n",
       "      <td>0</td>\n",
       "      <td>0</td>\n",
       "      <td>0</td>\n",
       "      <td>1</td>\n",
       "      <td>0</td>\n",
       "      <td>0</td>\n",
       "      <td>0</td>\n",
       "      <td>0</td>\n",
       "      <td>1</td>\n",
       "      <td>1</td>\n",
       "    </tr>\n",
       "    <tr>\n",
       "      <th>1</th>\n",
       "      <td>1</td>\n",
       "      <td>-0.457167</td>\n",
       "      <td>-0.223958</td>\n",
       "      <td>1.213406</td>\n",
       "      <td>1</td>\n",
       "      <td>0</td>\n",
       "      <td>0</td>\n",
       "      <td>0</td>\n",
       "      <td>0</td>\n",
       "      <td>0</td>\n",
       "      <td>...</td>\n",
       "      <td>0</td>\n",
       "      <td>0</td>\n",
       "      <td>0</td>\n",
       "      <td>0</td>\n",
       "      <td>0</td>\n",
       "      <td>1</td>\n",
       "      <td>0</td>\n",
       "      <td>0</td>\n",
       "      <td>1</td>\n",
       "      <td>0</td>\n",
       "    </tr>\n",
       "    <tr>\n",
       "      <th>2</th>\n",
       "      <td>2</td>\n",
       "      <td>-2.011222</td>\n",
       "      <td>-0.333730</td>\n",
       "      <td>1.079511</td>\n",
       "      <td>0</td>\n",
       "      <td>0</td>\n",
       "      <td>0</td>\n",
       "      <td>0</td>\n",
       "      <td>0</td>\n",
       "      <td>0</td>\n",
       "      <td>...</td>\n",
       "      <td>0</td>\n",
       "      <td>0</td>\n",
       "      <td>0</td>\n",
       "      <td>0</td>\n",
       "      <td>0</td>\n",
       "      <td>1</td>\n",
       "      <td>0</td>\n",
       "      <td>0</td>\n",
       "      <td>0</td>\n",
       "      <td>1</td>\n",
       "    </tr>\n",
       "    <tr>\n",
       "      <th>3</th>\n",
       "      <td>3</td>\n",
       "      <td>-1.234194</td>\n",
       "      <td>-0.333730</td>\n",
       "      <td>1.347301</td>\n",
       "      <td>1</td>\n",
       "      <td>0</td>\n",
       "      <td>0</td>\n",
       "      <td>0</td>\n",
       "      <td>0</td>\n",
       "      <td>0</td>\n",
       "      <td>...</td>\n",
       "      <td>0</td>\n",
       "      <td>0</td>\n",
       "      <td>0</td>\n",
       "      <td>1</td>\n",
       "      <td>0</td>\n",
       "      <td>0</td>\n",
       "      <td>0</td>\n",
       "      <td>0</td>\n",
       "      <td>1</td>\n",
       "      <td>1</td>\n",
       "    </tr>\n",
       "    <tr>\n",
       "      <th>4</th>\n",
       "      <td>4</td>\n",
       "      <td>-0.457167</td>\n",
       "      <td>1.203078</td>\n",
       "      <td>0.052984</td>\n",
       "      <td>0</td>\n",
       "      <td>0</td>\n",
       "      <td>0</td>\n",
       "      <td>0</td>\n",
       "      <td>0</td>\n",
       "      <td>0</td>\n",
       "      <td>...</td>\n",
       "      <td>0</td>\n",
       "      <td>0</td>\n",
       "      <td>0</td>\n",
       "      <td>1</td>\n",
       "      <td>0</td>\n",
       "      <td>0</td>\n",
       "      <td>0</td>\n",
       "      <td>0</td>\n",
       "      <td>0</td>\n",
       "      <td>0</td>\n",
       "    </tr>\n",
       "  </tbody>\n",
       "</table>\n",
       "<p>5 rows × 193 columns</p>\n",
       "</div>"
      ],
      "text/plain": [
       "   PATID     ua_ph  ua_spec_grav       age  abx  Abdominal_hernia  \\\n",
       "0      1  1.873916      0.105358  1.302669    1                 0   \n",
       "1      1 -0.457167     -0.223958  1.213406    1                 0   \n",
       "2      2 -2.011222     -0.333730  1.079511    0                 0   \n",
       "3      3 -1.234194     -0.333730  1.347301    1                 0   \n",
       "4      4 -0.457167      1.203078  0.052984    0                 0   \n",
       "\n",
       "   Abdominal_pain  Acute_and_unspecified_renal_failure  \\\n",
       "0               0                                    0   \n",
       "1               0                                    0   \n",
       "2               0                                    0   \n",
       "3               0                                    0   \n",
       "4               0                                    0   \n",
       "\n",
       "   Anal_and_rectal_conditions  Calculus_of_urinary_tract   ...     \\\n",
       "0                           0                          0   ...      \n",
       "1                           0                          0   ...      \n",
       "2                           0                          0   ...      \n",
       "3                           0                          0   ...      \n",
       "4                           0                          0   ...      \n",
       "\n",
       "   employStatus_Student - Full Time  employStatus_Student - Part Time  \\\n",
       "0                                 0                                 0   \n",
       "1                                 0                                 0   \n",
       "2                                 0                                 0   \n",
       "3                                 0                                 0   \n",
       "4                                 0                                 0   \n",
       "\n",
       "   employStatus_Unknown  insurance_status_Commercial  \\\n",
       "0                     0                            1   \n",
       "1                     0                            0   \n",
       "2                     0                            0   \n",
       "3                     0                            1   \n",
       "4                     0                            1   \n",
       "\n",
       "   insurance_status_Medicaid  insurance_status_Medicare  \\\n",
       "0                          0                          0   \n",
       "1                          0                          1   \n",
       "2                          0                          1   \n",
       "3                          0                          0   \n",
       "4                          0                          0   \n",
       "\n",
       "   insurance_status_Other  insurance_status_Self pay  dr_dx  true_dx  \n",
       "0                       0                          0      1        1  \n",
       "1                       0                          0      1        0  \n",
       "2                       0                          0      0        1  \n",
       "3                       0                          0      1        1  \n",
       "4                       0                          0      0        0  \n",
       "\n",
       "[5 rows x 193 columns]"
      ]
     },
     "execution_count": 254,
     "metadata": {},
     "output_type": "execute_result"
    }
   ],
   "source": [
    "cols = ['age', 'ua_ph','ua_spec_grav']\n",
    "for col in cols:\n",
    "    df_zscore = (df[col] - df[col].mean())/df[col].std()\n",
    "    df[col] = df_zscore\n",
    "df.head()"
   ]
  },
  {
   "cell_type": "code",
   "execution_count": 222,
   "metadata": {},
   "outputs": [
    {
     "data": {
      "text/plain": [
       "-0.457167    31121\n",
       " 0.319861    15920\n",
       "-1.234194    11430\n",
       " 1.096888    10886\n",
       " 1.873916     5384\n",
       " 2.650943     1895\n",
       "-2.011222     1895\n",
       "Name: ua_ph, dtype: int64"
      ]
     },
     "execution_count": 222,
     "metadata": {},
     "output_type": "execute_result"
    }
   ],
   "source": [
    "df.ua_ph.value_counts()"
   ]
  },
  {
   "cell_type": "code",
   "execution_count": 223,
   "metadata": {},
   "outputs": [
    {
     "data": {
      "text/plain": [
       "6.294176821891992"
      ]
     },
     "execution_count": 223,
     "metadata": {},
     "output_type": "execute_result"
    }
   ],
   "source": [
    "data.ua_ph.mean()"
   ]
  },
  {
   "cell_type": "code",
   "execution_count": 224,
   "metadata": {},
   "outputs": [
    {
     "data": {
      "text/html": [
       "<div>\n",
       "<style>\n",
       "    .dataframe thead tr:only-child th {\n",
       "        text-align: right;\n",
       "    }\n",
       "\n",
       "    .dataframe thead th {\n",
       "        text-align: left;\n",
       "    }\n",
       "\n",
       "    .dataframe tbody tr th {\n",
       "        vertical-align: top;\n",
       "    }\n",
       "</style>\n",
       "<table border=\"1\" class=\"dataframe\">\n",
       "  <thead>\n",
       "    <tr style=\"text-align: right;\">\n",
       "      <th>dr_dx</th>\n",
       "      <th>0</th>\n",
       "      <th>1</th>\n",
       "    </tr>\n",
       "    <tr>\n",
       "      <th>true_dx</th>\n",
       "      <th></th>\n",
       "      <th></th>\n",
       "    </tr>\n",
       "  </thead>\n",
       "  <tbody>\n",
       "    <tr>\n",
       "      <th>0</th>\n",
       "      <td>51275</td>\n",
       "      <td>9391</td>\n",
       "    </tr>\n",
       "    <tr>\n",
       "      <th>1</th>\n",
       "      <td>10468</td>\n",
       "      <td>7397</td>\n",
       "    </tr>\n",
       "  </tbody>\n",
       "</table>\n",
       "</div>"
      ],
      "text/plain": [
       "dr_dx        0     1\n",
       "true_dx             \n",
       "0        51275  9391\n",
       "1        10468  7397"
      ]
     },
     "execution_count": 224,
     "metadata": {},
     "output_type": "execute_result"
    }
   ],
   "source": [
    "drdx_v_true = pd.crosstab(data[\"true_dx\"], data[\"dr_dx\"])\n",
    "drdx_v_true"
   ]
  },
  {
   "cell_type": "markdown",
   "metadata": {},
   "source": [
    "#### Make the first train-test split "
   ]
  },
  {
   "cell_type": "code",
   "execution_count": 258,
   "metadata": {},
   "outputs": [],
   "source": [
    "X = data.iloc[:, 1:191].values  # this skips dr_dx(col 192) and patID(col 0)\n",
    "y = data.iloc[:, 192].values  # target, true_dx\n",
    "X_train, X_test, y_train, y_test = train_test_split(X, y, test_size = 0.20, random_state = 11)"
   ]
  },
  {
   "cell_type": "markdown",
   "metadata": {},
   "source": [
    "#### Make a second split in the training set to allow for a separate validation set prior to final testing on the hold-out test set."
   ]
  },
  {
   "cell_type": "code",
   "execution_count": 259,
   "metadata": {
    "collapsed": true
   },
   "outputs": [],
   "source": [
    "X_train_rfe, X_val_rfe, y_train_rfe, y_val_rfe = train_test_split(X_train, y_train, test_size = 0.20, random_state = 1)"
   ]
  },
  {
   "cell_type": "markdown",
   "metadata": {},
   "source": [
    "#### Create the Recursive Feature Elimination object and compute a cross-validated score.\n",
    "##### Establish base parameters for non-penalized Logistic Regression with balanced classes (vs sub-sampling majority)"
   ]
  },
  {
   "cell_type": "code",
   "execution_count": 397,
   "metadata": {
    "collapsed": true
   },
   "outputs": [],
   "source": [
    "logreg = LogisticRegression(C=10**6,class_weight='balanced')"
   ]
  },
  {
   "cell_type": "code",
   "execution_count": 398,
   "metadata": {},
   "outputs": [
    {
     "name": "stdout",
     "output_type": "stream",
     "text": [
      "Optimal number of features : 184\n"
     ]
    },
    {
     "data": {
      "image/png": "[encoded data removed]",
      "text/plain": [
       "<matplotlib.figure.Figure at 0x11046a20>"
      ]
     },
     "metadata": {},
     "output_type": "display_data"
    }
   ],
   "source": [
    "# The \"accuracy\" scoring is proportional to the number of correct classifications\n",
    "rfecv = RFECV(estimator=logreg, step=1, cv=StratifiedKFold(3),\n",
    "              scoring='accuracy')\n",
    "rfecv.fit(X_train, y_train)\n",
    "\n",
    "print(\"Optimal number of features : %d\" % rfecv.n_features_)\n",
    "\n",
    "# Plot number of features VS. cross-validation scores\n",
    "plt.figure()\n",
    "plt.xlabel(\"Number of features selected\")\n",
    "plt.ylabel(\"Score (correct classifications)\")\n",
    "plt.plot(range(1, len(rfecv.grid_scores_) + 1), rfecv.grid_scores_)\n",
    "plt.show()"
   ]
  },
  {
   "cell_type": "code",
   "execution_count": 251,
   "metadata": {},
   "outputs": [],
   "source": [
    "profile = ProfileReport(data)\n",
    "profile.to_file(outputfile=\"yootassess_profile.html\")"
   ]
  },
  {
   "cell_type": "markdown",
   "metadata": {},
   "source": [
    "#### Run RFE with 30 features; i+1 for column fetch due to patID kept in df but not included in training set"
   ]
  },
  {
   "cell_type": "code",
   "execution_count": 285,
   "metadata": {
    "collapsed": true
   },
   "outputs": [],
   "source": [
    "def rfe_logistic(classifier,n,X_train,y_train,df):\n",
    "    rfe_cols = []\n",
    "    rfe = RFE(classifier,n)\n",
    "    rfe = rfe.fit(X_train, y_train)\n",
    "    rfe_rank = rfe.ranking_\n",
    "    rfe_score = rfe.score(X_train_rfe, y_train_rfe)\n",
    "    \n",
    "    for i,val in enumerate(rfe_rank):\n",
    "        if val == True:\n",
    "            rfe_cols.append(df.columns[i+1])\n",
    "    \n",
    "    return(rfe_rank, rfe_score,rfe_cols)"
   ]
  },
  {
   "cell_type": "code",
   "execution_count": 286,
   "metadata": {},
   "outputs": [
    {
     "data": {
      "text/plain": [
       "(array([ 91,   1, 157,  10, 135,  49,  59, 124,  56, 117, 140, 146, 143,\n",
       "        126, 153, 114, 151,  83,  55, 120,  53, 122,  22, 100,  63,  20,\n",
       "        158,  35, 154, 115, 137,  39,  52,  73,   1,   1,   1, 103, 138,\n",
       "         50,  38, 116,  94,   1,  61, 107, 113, 127,   1, 150, 106,  69,\n",
       "         47,  36,  68,  62,  51,  43, 125, 109, 149,  72,  89, 123,  58,\n",
       "         15,  11, 139, 147, 159,  71, 148,  64,  75,  93, 156, 155, 142,\n",
       "        129, 108,  57,   1,  74, 112, 102, 105, 136, 101,  37, 141,  70,\n",
       "         78,  54,   1,   1,   7, 131,  42,  12, 121,  29,   1,  66, 118,\n",
       "          8,   1,   1,  26,   1,   1,   1,   1,   1, 160,  28,  76,  77,\n",
       "          1,  27,   1,   1,   1, 145,  32,  33,   4,  31,   1,   1, 134,\n",
       "        119,  82,  65,  81,  14,  46,  80,  92,  40,   3,  13,  79, 130,\n",
       "        161,   1,  34,   1, 133,  48,   1,   1,   6,  21,  86, 152,  67,\n",
       "         84,  41,   2,  85,  87,  90,   1,   9, 110, 111,   1,  98,  25,\n",
       "         44,  97,  30,  99,  95,   1,  96,  45,  17,  18,  24,  19, 132,\n",
       "         16,  23,   5, 144, 104, 128,  88,  60]),\n",
       " 0.77504526552458264,\n",
       " ['ua_spec_grav',\n",
       "  'Paralysis',\n",
       "  'Parkinsons_disease',\n",
       "  'Poisoning_by_nonmedicinal_substances',\n",
       "  'Urinary_tract_infections',\n",
       "  'ANTIALLERGY',\n",
       "  'INVESTIGATIONAL',\n",
       "  'ua_bili_large',\n",
       "  'ua_bili_moderate',\n",
       "  'ua_clarity_clear',\n",
       "  'ua_color_orange',\n",
       "  'ua_color_red',\n",
       "  'ua_glucose_large',\n",
       "  'ua_glucose_moderate',\n",
       "  'ua_glucose_negative',\n",
       "  'ua_glucose_small',\n",
       "  'ua_ketones_4+',\n",
       "  'ua_leuk_large',\n",
       "  'ua_leuk_negative',\n",
       "  'ua_leuk_small',\n",
       "  'ua_nitrite_negative',\n",
       "  'ua_urobili_negative',\n",
       "  'ua_urobili_positive',\n",
       "  'chief_complaint_NEUROLOGIC PROBLEM',\n",
       "  'chief_complaint_URINARY TRACT INFECTION',\n",
       "  'gender_Female',\n",
       "  'gender_Male',\n",
       "  'ethnicity_Patient Refused',\n",
       "  'maritalStatus_Civil Union',\n",
       "  'maritalStatus_Unknown'])"
      ]
     },
     "execution_count": 286,
     "metadata": {},
     "output_type": "execute_result"
    }
   ],
   "source": [
    "rfe_logistic(logreg,30,X_train_rfe,y_train_rfe,data)"
   ]
  },
  {
   "cell_type": "code",
   "execution_count": 287,
   "metadata": {},
   "outputs": [
    {
     "data": {
      "text/plain": [
       "(array([101,   1, 167,  20, 145,  59,  69, 134,  66, 127, 150, 156, 153,\n",
       "        136, 163, 124, 161,  93,  65, 130,  63, 132,  32, 110,  73,  30,\n",
       "        168,  45, 164, 125, 147,  49,  62,  83,   1,  10,   1, 113, 148,\n",
       "         60,  48, 126, 104,   7,  71, 117, 123, 137,   1, 160, 116,  79,\n",
       "         57,  46,  78,  72,  61,  53, 135, 119, 159,  82,  99, 133,  68,\n",
       "         25,  21, 149, 157, 169,  81, 158,  74,  85, 103, 166, 165, 152,\n",
       "        139, 118,  67,   3,  84, 122, 112, 115, 146, 111,  47, 151,  80,\n",
       "         88,  64,   1,   1,  17, 141,  52,  22, 131,  39,   1,  76, 128,\n",
       "         18,   1,   2,  36,   1,   1,   1,   1,   1, 170,  38,  86,  87,\n",
       "          1,  37,   1,   4,   1, 155,  42,  43,  14,  41,   1,   1, 144,\n",
       "        129,  92,  75,  91,  24,  56,  90, 102,  50,  13,  23,  89, 140,\n",
       "        171,   6,  44,   9, 143,  58,   1,   1,  16,  31,  96, 162,  77,\n",
       "         94,  51,  12,  95,  97, 100,  11,  19, 120, 121,   5, 108,  35,\n",
       "         54, 107,  40, 109, 105,   8, 106,  55,  27,  28,  34,  29, 142,\n",
       "         26,  33,  15, 154, 114, 138,  98,  70]),\n",
       " 0.75359637079925978,\n",
       " ['ua_spec_grav',\n",
       "  'Paralysis',\n",
       "  'Poisoning_by_nonmedicinal_substances',\n",
       "  'ANTIALLERGY',\n",
       "  'ua_bili_large',\n",
       "  'ua_bili_moderate',\n",
       "  'ua_clarity_clear',\n",
       "  'ua_color_orange',\n",
       "  'ua_glucose_large',\n",
       "  'ua_glucose_moderate',\n",
       "  'ua_glucose_negative',\n",
       "  'ua_glucose_small',\n",
       "  'ua_ketones_4+',\n",
       "  'ua_leuk_large',\n",
       "  'ua_leuk_negative',\n",
       "  'ua_nitrite_negative',\n",
       "  'ua_urobili_negative',\n",
       "  'ua_urobili_positive',\n",
       "  'gender_Female',\n",
       "  'gender_Male'])"
      ]
     },
     "execution_count": 287,
     "metadata": {},
     "output_type": "execute_result"
    }
   ],
   "source": [
    "rfe20 = rfe_logistic(logreg,20,X_train_rfe,y_train_rfe,data)\n",
    "rfe20"
   ]
  },
  {
   "cell_type": "markdown",
   "metadata": {},
   "source": [
    "#### Compare with Logistic Regression with L1 penalty weights (LASSO) - peform GridSearch for hyperparameter tuning\n",
    "The scoring set here is for R2, which gives the proportion of variability with reduced features."
   ]
  },
  {
   "cell_type": "code",
   "execution_count": 269,
   "metadata": {},
   "outputs": [
    {
     "data": {
      "text/plain": [
       "(0.001, 0.31622776601683794)"
      ]
     },
     "execution_count": 269,
     "metadata": {},
     "output_type": "execute_result"
    },
    {
     "data": {
      "image/png": "[encoded data removed]",
      "text/plain": [
       "<matplotlib.figure.Figure at 0x13928a90>"
      ]
     },
     "metadata": {},
     "output_type": "display_data"
    }
   ],
   "source": [
    "lasso = Lasso(random_state=123, max_iter=1e5)\n",
    "alphas = np.logspace(-3, -0.5, 10)\n",
    "\n",
    "tuned_parameters = [{'alpha': alphas}]\n",
    "n_folds = 3\n",
    "\n",
    "clf = GridSearchCV(lasso, tuned_parameters, cv=n_folds, refit=False, return_train_score=True)\n",
    "clf.fit(X_train, y_train)\n",
    "scores = clf.cv_results_['mean_test_score']\n",
    "scores_std = clf.cv_results_['std_test_score']\n",
    "plt.figure().set_size_inches(8, 6)\n",
    "plt.semilogx(alphas, scores)\n",
    "\n",
    "# plot error lines showing +/- std. errors of the scores\n",
    "std_error = scores_std / np.sqrt(n_folds)\n",
    "\n",
    "plt.semilogx(alphas, scores + std_error, 'b--')\n",
    "plt.semilogx(alphas, scores - std_error, 'b--')\n",
    "\n",
    "# alpha=0.2 controls the translucency of the fill color\n",
    "plt.fill_between(alphas, scores + std_error, scores - std_error, alpha=0.2)\n",
    "\n",
    "plt.ylabel('CV score +/- std error')\n",
    "plt.xlabel('alpha')\n",
    "plt.axhline(np.max(scores), linestyle='--', color='.5')\n",
    "plt.xlim([alphas[0], alphas[-1]])"
   ]
  },
  {
   "cell_type": "markdown",
   "metadata": {},
   "source": [
    "#### Run LASSO with different alphas;i+1 for column fetch due to patID kept in df but not included in training set"
   ]
  },
  {
   "cell_type": "code",
   "execution_count": 383,
   "metadata": {
    "collapsed": true
   },
   "outputs": [],
   "source": [
    "def lasso_logistic(c,X_train,y_train,df):\n",
    "    classifier = LogisticRegression(random_state=123, penalty='l1', solver='liblinear', C=c, class_weight='balanced')\n",
    "    classifier.fit(X_train,y_train)\n",
    "\n",
    "    logl1_coef = classifier.coef_\n",
    "    logl1_intercept = classifier.intercept_\n",
    "\n",
    "    logl1_coef_nonzeros = np.nonzero(logl1_coef)[1]\n",
    "    \n",
    "    # save the list of nonzero coefficient values:\n",
    "    coef = np.nonzero(classifier.coef_)[1]\n",
    "    logl1_coef_values = []\n",
    "    for i in coef:\n",
    "        logl1_coef_values.append(classifier.coef_[0][i])\n",
    "        \n",
    "    # save the list of coefficient feature names:\n",
    "    logl1_coef_list =[]\n",
    "    for i in logl1_coef_nonzeros:\n",
    "        logl1_coef_list.append(df.columns[i+1])\n",
    "        \n",
    "    return(logl1_intercept, logl1_coef_list, logl1_coef_values)"
   ]
  },
  {
   "cell_type": "code",
   "execution_count": 384,
   "metadata": {},
   "outputs": [
    {
     "data": {
      "text/plain": [
       "(array([ 0.]),\n",
       " ['age',\n",
       "  'abx',\n",
       "  'ua_blood_negative',\n",
       "  'ua_clarity_clear',\n",
       "  'ua_leuk_large',\n",
       "  'ua_leuk_negative',\n",
       "  'ua_nitrite_positive',\n",
       "  'gender_Female'],\n",
       " [0.0076916993515540252,\n",
       "  0.20541721165795418,\n",
       "  -0.094399430639239293,\n",
       "  -0.50000822345329266,\n",
       "  0.067968828835357611,\n",
       "  -1.3805702047268364,\n",
       "  0.88023888146693952,\n",
       "  0.14221692731063185])"
      ]
     },
     "execution_count": 384,
     "metadata": {},
     "output_type": "execute_result"
    }
   ],
   "source": [
    "L_001 = lasso_logistic(0.001,X_train_rfe,y_train_rfe,data)\n",
    "L_001"
   ]
  },
  {
   "cell_type": "code",
   "execution_count": 385,
   "metadata": {},
   "outputs": [
    {
     "data": {
      "text/plain": [
       "(array([ 0.]),\n",
       " ['ua_ph',\n",
       "  'age',\n",
       "  'abx',\n",
       "  'Diabetes_mellitus_without_complication',\n",
       "  'Urinary_tract_infections',\n",
       "  'ANTIHYPERGLYCEMICS',\n",
       "  'ua_bili_negative',\n",
       "  'ua_blood_moderate',\n",
       "  'ua_blood_negative',\n",
       "  'ua_clarity_clear',\n",
       "  'ua_color_red',\n",
       "  'ua_color_yellow',\n",
       "  'ua_leuk_large',\n",
       "  'ua_leuk_moderate',\n",
       "  'ua_leuk_negative',\n",
       "  'ua_leuk_small',\n",
       "  'ua_nitrite_negative',\n",
       "  'ua_nitrite_positive',\n",
       "  'ua_protein_negative',\n",
       "  'ua_urobili_negative',\n",
       "  'gender_Male'],\n",
       " [0.017399578581079128,\n",
       "  0.0080279507975335399,\n",
       "  0.35969378239196342,\n",
       "  0.020804556188574814,\n",
       "  0.18542672554717043,\n",
       "  0.075047489012720958,\n",
       "  0.38095272785883905,\n",
       "  0.0076362626938192768,\n",
       "  -0.24843380694786041,\n",
       "  -0.58328914906867835,\n",
       "  -0.034013881119190542,\n",
       "  0.13382377686508884,\n",
       "  0.55664401306926747,\n",
       "  0.00048891041379196267,\n",
       "  -1.68588105287289,\n",
       "  -0.33616418200226655,\n",
       "  -0.49757772983370224,\n",
       "  1.1128467912263547,\n",
       "  -0.14356941598564865,\n",
       "  0.44118444996947537,\n",
       "  -0.61763455233969866])"
      ]
     },
     "execution_count": 385,
     "metadata": {},
     "output_type": "execute_result"
    }
   ],
   "source": [
    "L_005 = lasso_logistic(0.005,X_train_rfe,y_train_rfe,data)\n",
    "L_005"
   ]
  },
  {
   "cell_type": "code",
   "execution_count": 284,
   "metadata": {},
   "outputs": [
    {
     "data": {
      "text/plain": [
       "(array([ 0.]),\n",
       " ['ua_ph',\n",
       "  'age',\n",
       "  'abx',\n",
       "  'Diabetes_mellitus_without_complication',\n",
       "  'Urinary_tract_infections',\n",
       "  'ANTIHYPERGLYCEMICS',\n",
       "  'ua_bili_negative',\n",
       "  'ua_blood_moderate',\n",
       "  'ua_blood_negative',\n",
       "  'ua_clarity_clear',\n",
       "  'ua_color_red',\n",
       "  'ua_color_yellow',\n",
       "  'ua_leuk_large',\n",
       "  'ua_leuk_moderate',\n",
       "  'ua_leuk_negative',\n",
       "  'ua_leuk_small',\n",
       "  'ua_nitrite_negative',\n",
       "  'ua_nitrite_positive',\n",
       "  'ua_protein_negative',\n",
       "  'ua_urobili_negative',\n",
       "  'gender_Male'])"
      ]
     },
     "execution_count": 284,
     "metadata": {},
     "output_type": "execute_result"
    }
   ],
   "source": [
    "L_005_df = lasso_logistic(0.005,X_train_rfe,y_train_rfe,df)\n",
    "L_005_df"
   ]
  },
  {
   "cell_type": "markdown",
   "metadata": {},
   "source": [
    "So, no difference between manually standardizing continuous variables and doing pre-processing with sklearn standard scalar"
   ]
  },
  {
   "cell_type": "markdown",
   "metadata": {},
   "source": [
    "#### Prepare a reduced feature data set for validation testing"
   ]
  },
  {
   "cell_type": "code",
   "execution_count": 288,
   "metadata": {},
   "outputs": [
    {
     "data": {
      "text/html": [
       "<div>\n",
       "<style>\n",
       "    .dataframe thead tr:only-child th {\n",
       "        text-align: right;\n",
       "    }\n",
       "\n",
       "    .dataframe thead th {\n",
       "        text-align: left;\n",
       "    }\n",
       "\n",
       "    .dataframe tbody tr th {\n",
       "        vertical-align: top;\n",
       "    }\n",
       "</style>\n",
       "<table border=\"1\" class=\"dataframe\">\n",
       "  <thead>\n",
       "    <tr style=\"text-align: right;\">\n",
       "      <th></th>\n",
       "      <th>ua_ph</th>\n",
       "      <th>ua_spec_grav</th>\n",
       "      <th>age</th>\n",
       "      <th>abx</th>\n",
       "      <th>Abdominal_hernia</th>\n",
       "      <th>Abdominal_pain</th>\n",
       "      <th>Acute_and_unspecified_renal_failure</th>\n",
       "      <th>Anal_and_rectal_conditions</th>\n",
       "      <th>Calculus_of_urinary_tract</th>\n",
       "      <th>Cancer</th>\n",
       "      <th>...</th>\n",
       "      <th>employStatus_Part Time</th>\n",
       "      <th>employStatus_Self Employed</th>\n",
       "      <th>employStatus_Student - Full Time</th>\n",
       "      <th>employStatus_Student - Part Time</th>\n",
       "      <th>employStatus_Unknown</th>\n",
       "      <th>insurance_status_Commercial</th>\n",
       "      <th>insurance_status_Medicaid</th>\n",
       "      <th>insurance_status_Medicare</th>\n",
       "      <th>insurance_status_Other</th>\n",
       "      <th>insurance_status_Self pay</th>\n",
       "    </tr>\n",
       "  </thead>\n",
       "  <tbody>\n",
       "    <tr>\n",
       "      <th>0</th>\n",
       "      <td>6.5</td>\n",
       "      <td>1.010</td>\n",
       "      <td>56.0</td>\n",
       "      <td>0.0</td>\n",
       "      <td>0.0</td>\n",
       "      <td>0.0</td>\n",
       "      <td>0.0</td>\n",
       "      <td>0.0</td>\n",
       "      <td>0.0</td>\n",
       "      <td>0.0</td>\n",
       "      <td>...</td>\n",
       "      <td>0.0</td>\n",
       "      <td>0.0</td>\n",
       "      <td>0.0</td>\n",
       "      <td>0.0</td>\n",
       "      <td>0.0</td>\n",
       "      <td>0.0</td>\n",
       "      <td>1.0</td>\n",
       "      <td>0.0</td>\n",
       "      <td>0.0</td>\n",
       "      <td>0.0</td>\n",
       "    </tr>\n",
       "    <tr>\n",
       "      <th>1</th>\n",
       "      <td>7.0</td>\n",
       "      <td>1.018</td>\n",
       "      <td>24.0</td>\n",
       "      <td>1.0</td>\n",
       "      <td>0.0</td>\n",
       "      <td>0.0</td>\n",
       "      <td>0.0</td>\n",
       "      <td>0.0</td>\n",
       "      <td>0.0</td>\n",
       "      <td>0.0</td>\n",
       "      <td>...</td>\n",
       "      <td>0.0</td>\n",
       "      <td>0.0</td>\n",
       "      <td>0.0</td>\n",
       "      <td>0.0</td>\n",
       "      <td>0.0</td>\n",
       "      <td>0.0</td>\n",
       "      <td>1.0</td>\n",
       "      <td>0.0</td>\n",
       "      <td>0.0</td>\n",
       "      <td>0.0</td>\n",
       "    </tr>\n",
       "    <tr>\n",
       "      <th>2</th>\n",
       "      <td>6.5</td>\n",
       "      <td>1.016</td>\n",
       "      <td>54.0</td>\n",
       "      <td>1.0</td>\n",
       "      <td>0.0</td>\n",
       "      <td>0.0</td>\n",
       "      <td>0.0</td>\n",
       "      <td>0.0</td>\n",
       "      <td>0.0</td>\n",
       "      <td>0.0</td>\n",
       "      <td>...</td>\n",
       "      <td>0.0</td>\n",
       "      <td>0.0</td>\n",
       "      <td>0.0</td>\n",
       "      <td>0.0</td>\n",
       "      <td>0.0</td>\n",
       "      <td>1.0</td>\n",
       "      <td>0.0</td>\n",
       "      <td>0.0</td>\n",
       "      <td>0.0</td>\n",
       "      <td>0.0</td>\n",
       "    </tr>\n",
       "    <tr>\n",
       "      <th>3</th>\n",
       "      <td>7.0</td>\n",
       "      <td>1.023</td>\n",
       "      <td>40.0</td>\n",
       "      <td>0.0</td>\n",
       "      <td>0.0</td>\n",
       "      <td>0.0</td>\n",
       "      <td>0.0</td>\n",
       "      <td>0.0</td>\n",
       "      <td>0.0</td>\n",
       "      <td>0.0</td>\n",
       "      <td>...</td>\n",
       "      <td>0.0</td>\n",
       "      <td>0.0</td>\n",
       "      <td>0.0</td>\n",
       "      <td>0.0</td>\n",
       "      <td>0.0</td>\n",
       "      <td>0.0</td>\n",
       "      <td>1.0</td>\n",
       "      <td>0.0</td>\n",
       "      <td>0.0</td>\n",
       "      <td>0.0</td>\n",
       "    </tr>\n",
       "    <tr>\n",
       "      <th>4</th>\n",
       "      <td>7.0</td>\n",
       "      <td>1.017</td>\n",
       "      <td>70.0</td>\n",
       "      <td>1.0</td>\n",
       "      <td>0.0</td>\n",
       "      <td>0.0</td>\n",
       "      <td>0.0</td>\n",
       "      <td>0.0</td>\n",
       "      <td>0.0</td>\n",
       "      <td>0.0</td>\n",
       "      <td>...</td>\n",
       "      <td>0.0</td>\n",
       "      <td>0.0</td>\n",
       "      <td>0.0</td>\n",
       "      <td>0.0</td>\n",
       "      <td>0.0</td>\n",
       "      <td>0.0</td>\n",
       "      <td>0.0</td>\n",
       "      <td>1.0</td>\n",
       "      <td>0.0</td>\n",
       "      <td>0.0</td>\n",
       "    </tr>\n",
       "  </tbody>\n",
       "</table>\n",
       "<p>5 rows × 190 columns</p>\n",
       "</div>"
      ],
      "text/plain": [
       "   ua_ph  ua_spec_grav   age  abx  Abdominal_hernia  Abdominal_pain  \\\n",
       "0    6.5         1.010  56.0  0.0               0.0             0.0   \n",
       "1    7.0         1.018  24.0  1.0               0.0             0.0   \n",
       "2    6.5         1.016  54.0  1.0               0.0             0.0   \n",
       "3    7.0         1.023  40.0  0.0               0.0             0.0   \n",
       "4    7.0         1.017  70.0  1.0               0.0             0.0   \n",
       "\n",
       "   Acute_and_unspecified_renal_failure  Anal_and_rectal_conditions  \\\n",
       "0                                  0.0                         0.0   \n",
       "1                                  0.0                         0.0   \n",
       "2                                  0.0                         0.0   \n",
       "3                                  0.0                         0.0   \n",
       "4                                  0.0                         0.0   \n",
       "\n",
       "   Calculus_of_urinary_tract  Cancer            ...              \\\n",
       "0                        0.0     0.0            ...               \n",
       "1                        0.0     0.0            ...               \n",
       "2                        0.0     0.0            ...               \n",
       "3                        0.0     0.0            ...               \n",
       "4                        0.0     0.0            ...               \n",
       "\n",
       "   employStatus_Part Time  employStatus_Self Employed  \\\n",
       "0                     0.0                         0.0   \n",
       "1                     0.0                         0.0   \n",
       "2                     0.0                         0.0   \n",
       "3                     0.0                         0.0   \n",
       "4                     0.0                         0.0   \n",
       "\n",
       "   employStatus_Student - Full Time  employStatus_Student - Part Time  \\\n",
       "0                               0.0                               0.0   \n",
       "1                               0.0                               0.0   \n",
       "2                               0.0                               0.0   \n",
       "3                               0.0                               0.0   \n",
       "4                               0.0                               0.0   \n",
       "\n",
       "   employStatus_Unknown  insurance_status_Commercial  \\\n",
       "0                   0.0                          0.0   \n",
       "1                   0.0                          0.0   \n",
       "2                   0.0                          1.0   \n",
       "3                   0.0                          0.0   \n",
       "4                   0.0                          0.0   \n",
       "\n",
       "   insurance_status_Medicaid  insurance_status_Medicare  \\\n",
       "0                        1.0                        0.0   \n",
       "1                        1.0                        0.0   \n",
       "2                        0.0                        0.0   \n",
       "3                        1.0                        0.0   \n",
       "4                        0.0                        1.0   \n",
       "\n",
       "   insurance_status_Other  insurance_status_Self pay  \n",
       "0                     0.0                        0.0  \n",
       "1                     0.0                        0.0  \n",
       "2                     0.0                        0.0  \n",
       "3                     0.0                        0.0  \n",
       "4                     0.0                        0.0  \n",
       "\n",
       "[5 rows x 190 columns]"
      ]
     },
     "execution_count": 288,
     "metadata": {},
     "output_type": "execute_result"
    }
   ],
   "source": [
    "train_cols = data.columns[1:(len(data.columns)-2)] #to remove dr_dx, true_dx, the last 2 columns in set\n",
    "X_train_rfe_df = pd.DataFrame(X_train_rfe)\n",
    "X_train_rfe_df.columns = train_cols\n",
    "X_train_rfe_df.head()"
   ]
  },
  {
   "cell_type": "code",
   "execution_count": 289,
   "metadata": {
    "collapsed": true
   },
   "outputs": [],
   "source": [
    "l1_cols = ['ua_ph','age','abx','Diabetes_mellitus_without_complication','Urinary_tract_infections',\n",
    "           'ua_bili_negative','ua_blood_moderate','ua_blood_negative','ua_clarity_clear','ua_color_red',\n",
    "           'ua_color_yellow','ua_leuk_large','ua_leuk_negative','ua_nitrite_negative','ua_nitrite_positive',\n",
    "           'ua_protein_negative','ua_urobili_negative','gender_Male']\n",
    "\n",
    "X_l1 = X_train_rfe_df[l1_cols] # new X with reduced features\n",
    "y_l1 = y_train_rfe.ravel()"
   ]
  },
  {
   "cell_type": "markdown",
   "metadata": {},
   "source": [
    "#### compare coeficients and p-values to logistic model without regularization parameters built in"
   ]
  },
  {
   "cell_type": "code",
   "execution_count": 290,
   "metadata": {},
   "outputs": [
    {
     "name": "stderr",
     "output_type": "stream",
     "text": [
      "C:\\ProgramData\\Anaconda2\\lib\\site-packages\\statsmodels\\compat\\pandas.py:56: FutureWarning: The pandas.core.datetools module is deprecated and will be removed in a future version. Please use the pandas.tseries module instead.\n",
      "  from pandas.core import datetools\n"
     ]
    },
    {
     "name": "stdout",
     "output_type": "stream",
     "text": [
      "Optimization terminated successfully.\n",
      "         Current function value: 0.369297\n",
      "         Iterations 7\n",
      "                           Logit Regression Results                           \n",
      "==============================================================================\n",
      "Dep. Variable:                      y   No. Observations:                50259\n",
      "Model:                          Logit   Df Residuals:                    50241\n",
      "Method:                           MLE   Df Model:                           17\n",
      "Date:                Tue, 24 Jul 2018   Pseudo R-squ.:                  0.3114\n",
      "Time:                        17:16:11   Log-Likelihood:                -18561.\n",
      "converged:                       True   LL-Null:                       -26955.\n",
      "                                        LLR p-value:                     0.000\n",
      "==========================================================================================================\n",
      "                                             coef    std err          z      P>|z|      [0.025      0.975]\n",
      "----------------------------------------------------------------------------------------------------------\n",
      "ua_ph                                      0.0506      0.020      2.590      0.010       0.012       0.089\n",
      "age                                        0.0083      0.001     13.547      0.000       0.007       0.010\n",
      "abx                                        0.4109      0.030     13.792      0.000       0.352       0.469\n",
      "Diabetes_mellitus_without_complication     0.2284      0.034      6.781      0.000       0.162       0.294\n",
      "Urinary_tract_infections                   0.4849      0.049      9.970      0.000       0.390       0.580\n",
      "ua_bili_negative                           0.7427      0.048     15.314      0.000       0.648       0.838\n",
      "ua_blood_moderate                          0.1891      0.044      4.297      0.000       0.103       0.275\n",
      "ua_blood_negative                         -0.2873      0.030     -9.463      0.000      -0.347      -0.228\n",
      "ua_clarity_clear                          -0.6273      0.031    -20.001      0.000      -0.689      -0.566\n",
      "ua_color_red                              -0.7849      0.078    -10.039      0.000      -0.938      -0.632\n",
      "ua_color_yellow                            0.3229      0.052      6.213      0.000       0.221       0.425\n",
      "ua_leuk_large                              1.0783      0.044     24.570      0.000       0.992       1.164\n",
      "ua_leuk_negative                          -1.4330      0.032    -45.012      0.000      -1.495      -1.371\n",
      "ua_nitrite_negative                       -2.8526      0.137    -20.855      0.000      -3.121      -2.584\n",
      "ua_nitrite_positive                       -0.8160      0.137     -5.942      0.000      -1.085      -0.547\n",
      "ua_protein_negative                       -0.3041      0.031     -9.889      0.000      -0.364      -0.244\n",
      "ua_urobili_negative                        0.6503      0.036     18.199      0.000       0.580       0.720\n",
      "gender_Male                               -0.7060      0.033    -21.406      0.000      -0.771      -0.641\n",
      "==========================================================================================================\n"
     ]
    }
   ],
   "source": [
    "import statsmodels.api as sm\n",
    "logit_model=sm.Logit(y_l1,X_l1.astype(float))\n",
    "result=logit_model.fit()\n",
    "print(result.summary())"
   ]
  },
  {
   "cell_type": "code",
   "execution_count": 292,
   "metadata": {},
   "outputs": [
    {
     "name": "stdout",
     "output_type": "stream",
     "text": [
      "10-fold cross validation average accuracy: 0.832\n"
     ]
    }
   ],
   "source": [
    "kfold = model_selection.KFold(n_splits=10, random_state=7)\n",
    "modelCV = LogisticRegression(random_state=123, penalty='l1', solver='liblinear', C=0.005)\n",
    "scoring = 'accuracy'\n",
    "results = model_selection.cross_val_score(modelCV, X_l1, y_l1, cv=kfold, scoring=scoring)\n",
    "print(\"10-fold cross validation average accuracy: %.3f\" % (results.mean()))"
   ]
  },
  {
   "cell_type": "markdown",
   "metadata": {},
   "source": [
    "#### Prepare the validation set for testing"
   ]
  },
  {
   "cell_type": "code",
   "execution_count": 293,
   "metadata": {},
   "outputs": [
    {
     "data": {
      "text/plain": [
       "(12565, 18)"
      ]
     },
     "execution_count": 293,
     "metadata": {},
     "output_type": "execute_result"
    }
   ],
   "source": [
    "X_val_rfe_df = pd.DataFrame(X_val_rfe)\n",
    "X_val_rfe_df.columns = train_cols  # apply from previous prep on training set\n",
    "\n",
    "y_val_test = y_val_rfe.ravel()\n",
    "X_val_test_l1 = X_val_rfe_df[l1_cols]\n",
    "X_val_test_l1.shape"
   ]
  },
  {
   "cell_type": "markdown",
   "metadata": {},
   "source": [
    "#### fit the LASSO model with reduced features"
   ]
  },
  {
   "cell_type": "code",
   "execution_count": 396,
   "metadata": {},
   "outputs": [],
   "source": [
    "def validate_lasso(c, X_fit,y_fit,X_test,y_test):\n",
    "    classifier = LogisticRegression(random_state=123, penalty='l1', solver='liblinear', C=c, class_weight='balanced')\n",
    "    classifier.fit(X_fit, y_fit)\n",
    "    y_pred = classifier.predict(X_test)\n",
    "    y_pred_proba = classifier.predict_proba(X_test)[:,1]\n",
    "    cm = confusion_matrix(y_test, y_pred)\n",
    "    return(cm, y_pred,y_pred_proba, 'Accuracy of logistic regression classifier on test set: {:.2f}'.format(classifier.score(X_test, y_test)))"
   ]
  },
  {
   "cell_type": "code",
   "execution_count": 338,
   "metadata": {},
   "outputs": [
    {
     "data": {
      "text/plain": [
       "(array([[7354, 2354],\n",
       "        [ 583, 2274]], dtype=int64),\n",
       " array([0, 0, 1, ..., 1, 1, 1]),\n",
       " array([ 0.15864816,  0.3222614 ,  0.67587893, ...,  0.5334423 ,\n",
       "         0.89311856,  0.97853828]),\n",
       " 'Accuracy of logistic regression classifier on test set: 0.77')"
      ]
     },
     "execution_count": 338,
     "metadata": {},
     "output_type": "execute_result"
    }
   ],
   "source": [
    "l1_val = validate_lasso(0.005, X_l1,y_l1,X_val_test_l1,y_val_test)\n",
    "l1_val"
   ]
  },
  {
   "cell_type": "raw",
   "metadata": {},
   "source": [
    "to access the confusion matrix array:"
   ]
  },
  {
   "cell_type": "code",
   "execution_count": 321,
   "metadata": {},
   "outputs": [
    {
     "data": {
      "text/plain": [
       "array([[7354, 2354],\n",
       "       [ 583, 2274]], dtype=int64)"
      ]
     },
     "execution_count": 321,
     "metadata": {},
     "output_type": "execute_result"
    }
   ],
   "source": [
    "l1_val[0]"
   ]
  },
  {
   "cell_type": "code",
   "execution_count": 395,
   "metadata": {},
   "outputs": [
    {
     "name": "stdout",
     "output_type": "stream",
     "text": [
      "             precision    recall  f1-score   support\n",
      "\n",
      "          0       0.93      0.76      0.83      9708\n",
      "          1       0.49      0.80      0.61      2857\n",
      "\n",
      "avg / total       0.83      0.77      0.78     12565\n",
      "\n"
     ]
    }
   ],
   "source": [
    "print(classification_report(y_val_test, l1_val[1]))  # y_pred is the 2nd element in the function return"
   ]
  },
  {
   "cell_type": "code",
   "execution_count": 312,
   "metadata": {
    "collapsed": true
   },
   "outputs": [],
   "source": [
    "def  plot_confusion_matrix (cm, classes,\n",
    "                          normalize=False,\n",
    "                          title='Confusion matrix',\n",
    "                          cmap=plt.cm.Blues):\n",
    "    \"\"\"\n",
    "    This function prints and plots the confusion matrix.\n",
    "    Normalization can be applied by setting `normalize=True`.\n",
    "    \"\"\"\n",
    "    if normalize:\n",
    "        cm = cm.astype('float') / cm.sum(axis=1)[:, np.newaxis]\n",
    "        print(\"Normalized confusion matrix\")\n",
    "    else:\n",
    "        print('Confusion matrix, without normalization')\n",
    "\n",
    "    plt.imshow(cm, interpolation='nearest', cmap=cmap)\n",
    "    plt.title(title)\n",
    "    plt.colorbar()\n",
    "    tick_marks = np.arange(len(classes))\n",
    "    plt.xticks(tick_marks, classes, rotation=45)\n",
    "    plt.yticks(tick_marks, classes)\n",
    "\n",
    "    fmt = '.2f' if normalize else 'd'\n",
    "    thresh = cm.max() / 2.\n",
    "    for i, j in itertools.product(range(cm.shape[0]), range(cm.shape[1])):\n",
    "        plt.text(j, i, format(cm[i, j], fmt),\n",
    "                 horizontalalignment=\"center\",\n",
    "                 color=\"white\" if cm[i, j] > thresh else \"black\")\n",
    "\n",
    "    plt.tight_layout()\n",
    "    plt.ylabel('True label')\n",
    "    plt.xlabel('Predicted label')"
   ]
  },
  {
   "cell_type": "code",
   "execution_count": 327,
   "metadata": {},
   "outputs": [
    {
     "name": "stdout",
     "output_type": "stream",
     "text": [
      "Normalized confusion matrix\n"
     ]
    },
    {
     "data": {
      "image/png": "[encoded data removed]",
      "text/plain": [
       "<matplotlib.figure.Figure at 0x1484b630>"
      ]
     },
     "metadata": {},
     "output_type": "display_data"
    }
   ],
   "source": [
    "plot_confusion_matrix(l1_val[0],['no UTI','UTI'], normalize = True)"
   ]
  },
  {
   "cell_type": "markdown",
   "metadata": {},
   "source": [
    "### Run the validation/test model plus confusion matrix and ROC: Thanks to Eric Harness..."
   ]
  },
  {
   "cell_type": "code",
   "execution_count": 308,
   "metadata": {
    "collapsed": true
   },
   "outputs": [],
   "source": [
    "from sklearn.metrics import precision_score, accuracy_score, recall_score, f1_score, roc_auc_score, roc_curve\n",
    "\n",
    "def cm_roc_combo(conf_matrix, labels, y_test, y_pred, y_pred_proba):\n",
    "    plt.figure(figsize=(16, 4))\n",
    "    # confusion matrix\n",
    "    predicted_labels = ['Predicted ' + label for label in labels]\n",
    "    actual_labels = ['Actual ' + label for label in labels]\n",
    "    df_cm = pd.DataFrame(conf_matrix, index = actual_labels, columns = predicted_labels)\n",
    "    plt.subplot(1, 2, 1)\n",
    "    sns.heatmap(df_cm, annot=True)\n",
    "    # ROC curve\n",
    "    roc_auc = roc_auc_score(y_test, y_pred)\n",
    "    fpr, tpr, thresholds = roc_curve(y_test, y_pred_proba)\n",
    "    plt.subplot(1, 2, 2)\n",
    "    plt.plot(fpr, tpr, label = 'AUC = {:0.2f}'.format(roc_auc,2))\n",
    "    plt.plot([0, 1], [0, 1],'r--')\n",
    "    plt.legend(loc = 'lower right')\n",
    "    LIMS = [-0.01,1.01] \n",
    "    plt.xlim(LIMS)\n",
    "    plt.ylim(LIMS)\n",
    "    plt.ylabel('True Positive Rate')\n",
    "    plt.xlabel('False Positive Rate')\n",
    "    plt.title('Receiver Operating Characteristic (ROC) Curve')\n",
    "    plt.show()\n",
    "    \n",
    "def scores_one_liner(name, y_test, y_pred):\n",
    "    acc = accuracy_score(y_test, y_pred)\n",
    "    prec = precision_score(y_test, y_pred)\n",
    "    rec = recall_score(y_test, y_pred)\n",
    "    f1 = f1_score(y_test, y_pred)\n",
    "    score_string = 'Scores for {}: Accuracy={:0.2f}, Precision={:0.2f}, Recall={:0.2f}, F1={:0.2f}'.format(name, acc, prec, rec, f1)\n",
    "    return score_string"
   ]
  },
  {
   "cell_type": "code",
   "execution_count": 309,
   "metadata": {
    "collapsed": true
   },
   "outputs": [],
   "source": [
    "def run_models(models, names, X_train, X_test, y_train, y_test):\n",
    "    for i, model in enumerate(models):\n",
    "        model_name = names[i]\n",
    "        print('---------------')\n",
    "        print(model_name.upper())\n",
    "        model.fit(X_train, y_train)\n",
    "        y_pred = model.predict(X_test)\n",
    "        y_pred_proba = model.predict_proba(X_test)\n",
    "        conf_matrix = confusion_matrix(y_test, y_pred)\n",
    "        cm_roc_combo(conf_matrix, LABELS, y_test, y_pred, y_pred_proba[:,1])\n",
    "        print(scores_one_liner(model_name, y_test, y_pred))"
   ]
  },
  {
   "cell_type": "code",
   "execution_count": 340,
   "metadata": {},
   "outputs": [
    {
     "data": {
      "image/png": "[encoded data removed]",
      "text/plain": [
       "<matplotlib.figure.Figure at 0x14815828>"
      ]
     },
     "metadata": {},
     "output_type": "display_data"
    }
   ],
   "source": [
    "# l1_val = validate_lasso(0.005, X_l1,y_l1,X_val_test_l1,y_val_test)\n",
    "cm_roc_combo(l1_val[0],['no UTI','UTI'], y_val_test, l1_val[1], l1_val[2])"
   ]
  },
  {
   "cell_type": "markdown",
   "metadata": {},
   "source": [
    "Run the L1 Model on the Hold-out test set, using the same training column names as before"
   ]
  },
  {
   "cell_type": "code",
   "execution_count": 341,
   "metadata": {},
   "outputs": [
    {
     "data": {
      "text/plain": [
       "(15707, 18)"
      ]
     },
     "execution_count": 341,
     "metadata": {},
     "output_type": "execute_result"
    }
   ],
   "source": [
    "X_final_test_df = pd.DataFrame(X_test)\n",
    "X_final_test_df.columns = train_cols\n",
    "y_final_test = y_test.ravel()\n",
    "X_final_test = X_final_test_df[l1_cols]\n",
    "X_final_test.shape"
   ]
  },
  {
   "cell_type": "code",
   "execution_count": 342,
   "metadata": {},
   "outputs": [
    {
     "data": {
      "text/plain": [
       "(array([[9172, 2964],\n",
       "        [ 777, 2794]], dtype=int64),\n",
       " array([0, 0, 0, ..., 1, 1, 0]),\n",
       " array([ 0.15176044,  0.16267127,  0.19335964, ...,  0.9041018 ,\n",
       "         0.77626342,  0.28150234]),\n",
       " 'Accuracy of logistic regression classifier on test set: 0.76')"
      ]
     },
     "execution_count": 342,
     "metadata": {},
     "output_type": "execute_result"
    }
   ],
   "source": [
    "l1_final = validate_lasso(0.005, X_l1,y_l1,X_final_test,y_final_test)\n",
    "l1_final"
   ]
  },
  {
   "cell_type": "code",
   "execution_count": 343,
   "metadata": {},
   "outputs": [
    {
     "data": {
      "image/png": "[encoded data removed]",
      "text/plain": [
       "<matplotlib.figure.Figure at 0x13686b00>"
      ]
     },
     "metadata": {},
     "output_type": "display_data"
    }
   ],
   "source": [
    "cm_roc_combo(l1_final[0],['no UTI','UTI'], y_final_test, l1_final[1], l1_final[2])"
   ]
  },
  {
   "cell_type": "markdown",
   "metadata": {},
   "source": [
    "normalized confusion matrix for the final hold-out test set"
   ]
  },
  {
   "cell_type": "code",
   "execution_count": 344,
   "metadata": {},
   "outputs": [
    {
     "name": "stdout",
     "output_type": "stream",
     "text": [
      "Normalized confusion matrix\n"
     ]
    },
    {
     "data": {
      "image/png": "[encoded data removed]",
      "text/plain": [
       "<matplotlib.figure.Figure at 0xc981080>"
      ]
     },
     "metadata": {},
     "output_type": "display_data"
    }
   ],
   "source": [
    "plot_confusion_matrix(l1_final[0],['no UTI','UTI'], normalize = True)"
   ]
  },
  {
   "cell_type": "code",
   "execution_count": 345,
   "metadata": {},
   "outputs": [
    {
     "name": "stdout",
     "output_type": "stream",
     "text": [
      "             precision    recall  f1-score   support\n",
      "\n",
      "          0       0.92      0.76      0.83     12136\n",
      "          1       0.49      0.78      0.60      3571\n",
      "\n",
      "avg / total       0.82      0.76      0.78     15707\n",
      "\n"
     ]
    }
   ],
   "source": [
    "print(classification_report(y_final_test, l1_final[1]))"
   ]
  },
  {
   "cell_type": "markdown",
   "metadata": {},
   "source": [
    "#### And finally, we see the feature importances"
   ]
  },
  {
   "cell_type": "code",
   "execution_count": 387,
   "metadata": {},
   "outputs": [
    {
     "data": {
      "image/png": "[encoded data removed]",
      "text/plain": [
       "<matplotlib.figure.Figure at 0x3ea470f0>"
      ]
     },
     "metadata": {},
     "output_type": "display_data"
    }
   ],
   "source": [
    "from pandas import Series, DataFrame\n",
    "\n",
    "comm_names = ['pH','age','prior hist. antibiotic use','Diabetes','prior hist. UTI','antihyperglycemics',\n",
    "              'bilirubin negative', 'blood in urine, positive','blood in urine, negative', 'urine clear', \n",
    "              'urine color, red','urine color, yellow','large leukocyte count','moderate leukocyte count',\n",
    "              'leukocyte count negative','small leukocyte count', 'nitrite test, negative', 'nitrite test, positive',\n",
    "              'protein in urine, negative','urobilinogen, negative','male gender']\n",
    "plt.figure(figsize=(8,6))\n",
    "plt.tight_layout()\n",
    "predictors_final = comm_names\n",
    "predictors_final = Series(L_005[2],predictors_final).sort_values()\n",
    "predictors_final.plot(kind='barh', title= 'Logistic(L1 Penalty) Model Coefficients', color='orange')\n",
    "plt.show()"
   ]
  },
  {
   "cell_type": "markdown",
   "metadata": {},
   "source": [
    "There is still work here to be done. The features make a bit more sense but there are still interactions to be cleaned up. Applying the sklearn balanced class parameter instead of downsampling the majority class resulted in large decrease in precision, although the sensitivity increased from the subsampled model."
   ]
  }
 ],
 "metadata": {
  "kernelspec": {
   "display_name": "Python 2",
   "language": "python",
   "name": "python2"
  },
  "language_info": {
   "codemirror_mode": {
    "name": "ipython",
    "version": 2
   },
   "file_extension": ".py",
   "mimetype": "text/x-python",
   "name": "python",
   "nbconvert_exporter": "python",
   "pygments_lexer": "ipython2",
   "version": "2.7.14"
  }
 },
 "nbformat": 4,
 "nbformat_minor": 2
}
